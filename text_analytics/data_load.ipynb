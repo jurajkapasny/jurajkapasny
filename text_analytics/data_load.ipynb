{
 "cells": [
  {
   "cell_type": "code",
   "execution_count": 1,
   "metadata": {
    "collapsed": true
   },
   "outputs": [],
   "source": [
    "import glob\n",
    "import pandas as pd\n",
    "import numpy as np"
   ]
  },
  {
   "cell_type": "code",
   "execution_count": 2,
   "metadata": {
    "collapsed": true
   },
   "outputs": [],
   "source": [
    "#data_path = \"/Users/jurajkapasny/Data/sk_text_for_api\""
   ]
  },
  {
   "cell_type": "code",
   "execution_count": 4,
   "metadata": {
    "collapsed": false
   },
   "outputs": [
    {
     "name": "stdout",
     "output_type": "stream",
     "text": [
      "Number of files to process: 43\n"
     ]
    }
   ],
   "source": [
    "def load_data(path):\n",
    "    allFiles = glob.glob(path + \"/*.csv\")\n",
    "    print \"Number of files to process: %d\" %len(allFiles)\n",
    "    df = pd.DataFrame()\n",
    "    list_ = []\n",
    "    i = 0\n",
    "    for file_ in allFiles:\n",
    "        if (file_.find(\"articles\") != -1) & (file_.find(\"temo\") == -1):\n",
    "            i = i + 1\n",
    "            if i%50 == 0:\n",
    "                print \"Processing file %d\" %i\n",
    "            temp = pd.read_csv(file_,sep = \"|\",index_col=None, header=0, parse_dates=True, low_memory=False)\n",
    "            list_.append(temp)\n",
    "    df = pd.concat(list_)\n",
    "    return df"
   ]
  },
  {
   "cell_type": "code",
   "execution_count": 5,
   "metadata": {
    "collapsed": false
   },
   "outputs": [
    {
     "data": {
      "text/plain": [
       "label      14232\n",
       "summary    14931\n",
       "text       14442\n",
       "dtype: int64"
      ]
     },
     "execution_count": 5,
     "metadata": {},
     "output_type": "execute_result"
    }
   ],
   "source": [
    "# df.count()"
   ]
  },
  {
   "cell_type": "code",
   "execution_count": null,
   "metadata": {
    "collapsed": true
   },
   "outputs": [],
   "source": []
  }
 ],
 "metadata": {
  "kernelspec": {
   "display_name": "Python 2",
   "language": "python",
   "name": "python2"
  },
  "language_info": {
   "codemirror_mode": {
    "name": "ipython",
    "version": 2
   },
   "file_extension": ".py",
   "mimetype": "text/x-python",
   "name": "python",
   "nbconvert_exporter": "python",
   "pygments_lexer": "ipython2",
   "version": "2.7.11"
  }
 },
 "nbformat": 4,
 "nbformat_minor": 0
}
