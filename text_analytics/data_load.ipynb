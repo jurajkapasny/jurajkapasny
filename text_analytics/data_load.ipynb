{
 "cells": [
  {
   "cell_type": "code",
   "execution_count": 1,
   "metadata": {
    "collapsed": true
   },
   "outputs": [],
   "source": [
    "import glob\n",
    "import pandas as pd\n",
    "import numpy as np"
   ]
  },
  {
   "cell_type": "code",
   "execution_count": 2,
   "metadata": {
    "collapsed": true
   },
   "outputs": [],
   "source": [
    "data_path = \"/Users/jurajkapasny/Data/sk_text_for_api\""
   ]
  },
  {
   "cell_type": "code",
   "execution_count": 3,
   "metadata": {
    "collapsed": false
   },
   "outputs": [],
   "source": [
    "def load_data(path):\n",
    "    allFiles = glob.glob(path + \"/*.csv\")\n",
    "    print \"Number of files to process: %d\" %len(allFiles)\n",
    "    df = pd.DataFrame()\n",
    "    list_ = []\n",
    "    i = 0\n",
    "    for file_ in allFiles:\n",
    "        if (file_.find(\"articles\") != -1) & (file_.find(\"temo\") == -1):\n",
    "            i = i + 1\n",
    "            if i%50 == 0:\n",
    "                print \"Processing file %d\" %i\n",
    "            temp = pd.read_csv(file_,sep = \"|\",index_col=None, header=0, parse_dates=True, low_memory=False)\n",
    "            list_.append(temp)\n",
    "    df = pd.concat(list_).reset_index(drop = True)\n",
    "    return df"
   ]
  },
  {
   "cell_type": "code",
   "execution_count": 4,
   "metadata": {
    "collapsed": false
   },
   "outputs": [
    {
     "name": "stdout",
     "output_type": "stream",
     "text": [
      "Number of files to process: 183\n",
      "Processing file 50\n",
      "Processing file 100\n",
      "Processing file 150\n"
     ]
    }
   ],
   "source": [
    "df = load_data(data_path)"
   ]
  },
  {
   "cell_type": "code",
   "execution_count": 5,
   "metadata": {
    "collapsed": false
   },
   "outputs": [
    {
     "data": {
      "text/html": [
       "<div>\n",
       "<table border=\"1\" class=\"dataframe\">\n",
       "  <thead>\n",
       "    <tr style=\"text-align: right;\">\n",
       "      <th></th>\n",
       "      <th>label</th>\n",
       "      <th>summary</th>\n",
       "      <th>text</th>\n",
       "    </tr>\n",
       "  </thead>\n",
       "  <tbody>\n",
       "    <tr>\n",
       "      <th>0</th>\n",
       "      <td>NaN</td>\n",
       "      <td>Placebo má 20 rokov, oslavy boli aj v Bratisla...</td>\n",
       "      <td>\\nPozrite si atmosféru z víkendového koncertu ...</td>\n",
       "    </tr>\n",
       "    <tr>\n",
       "      <th>1</th>\n",
       "      <td>NaN</td>\n",
       "      <td>Treba zakázať Uber len preto, že nezapadá do s...</td>\n",
       "      <td>\\nV jednom svete najskôr všetko dovolí parlame...</td>\n",
       "    </tr>\n",
       "    <tr>\n",
       "      <th>2</th>\n",
       "      <td>techbox</td>\n",
       "      <td>Samsung už v minulosti skúšal zaujať SUHD tele...</td>\n",
       "      <td>\\nVerím, že mnohí z vás v tom majú jasno, no u...</td>\n",
       "    </tr>\n",
       "    <tr>\n",
       "      <th>3</th>\n",
       "      <td>NaN</td>\n",
       "      <td>Izrael opäť zaútočil na sýrske vojenské ciele ...</td>\n",
       "      <td>\\n po tom, čo na ním kontrolované Golanské výš...</td>\n",
       "    </tr>\n",
       "    <tr>\n",
       "      <th>4</th>\n",
       "      <td>NaN</td>\n",
       "      <td>Basketbalistky Španielska sa stali víťazkami m...</td>\n",
       "      <td>\\n v Česku. Vo finálovom súboji triumfovali na...</td>\n",
       "    </tr>\n",
       "  </tbody>\n",
       "</table>\n",
       "</div>"
      ],
      "text/plain": [
       "     label                                            summary  \\\n",
       "0      NaN  Placebo má 20 rokov, oslavy boli aj v Bratisla...   \n",
       "1      NaN  Treba zakázať Uber len preto, že nezapadá do s...   \n",
       "2  techbox  Samsung už v minulosti skúšal zaujať SUHD tele...   \n",
       "3      NaN  Izrael opäť zaútočil na sýrske vojenské ciele ...   \n",
       "4      NaN  Basketbalistky Španielska sa stali víťazkami m...   \n",
       "\n",
       "                                                text  \n",
       "0  \\nPozrite si atmosféru z víkendového koncertu ...  \n",
       "1  \\nV jednom svete najskôr všetko dovolí parlame...  \n",
       "2  \\nVerím, že mnohí z vás v tom majú jasno, no u...  \n",
       "3  \\n po tom, čo na ním kontrolované Golanské výš...  \n",
       "4  \\n v Česku. Vo finálovom súboji triumfovali na...  "
      ]
     },
     "execution_count": 5,
     "metadata": {},
     "output_type": "execute_result"
    }
   ],
   "source": [
    "df.head()"
   ]
  },
  {
   "cell_type": "code",
   "execution_count": null,
   "metadata": {
    "collapsed": true
   },
   "outputs": [],
   "source": []
  },
  {
   "cell_type": "code",
   "execution_count": 6,
   "metadata": {
    "collapsed": false
   },
   "outputs": [],
   "source": [
    "df_clean = df[(df.summary.notnull()) & (df.text.notnull())][[\"summary\",\"text\"]]"
   ]
  },
  {
   "cell_type": "code",
   "execution_count": 7,
   "metadata": {
    "collapsed": false
   },
   "outputs": [
    {
     "data": {
      "text/html": [
       "<div>\n",
       "<table border=\"1\" class=\"dataframe\">\n",
       "  <thead>\n",
       "    <tr style=\"text-align: right;\">\n",
       "      <th></th>\n",
       "      <th>summary</th>\n",
       "      <th>text</th>\n",
       "    </tr>\n",
       "  </thead>\n",
       "  <tbody>\n",
       "    <tr>\n",
       "      <th>0</th>\n",
       "      <td>Placebo má 20 rokov, oslavy boli aj v Bratisla...</td>\n",
       "      <td>\\nPozrite si atmosféru z víkendového koncertu ...</td>\n",
       "    </tr>\n",
       "    <tr>\n",
       "      <th>1</th>\n",
       "      <td>Treba zakázať Uber len preto, že nezapadá do s...</td>\n",
       "      <td>\\nV jednom svete najskôr všetko dovolí parlame...</td>\n",
       "    </tr>\n",
       "    <tr>\n",
       "      <th>2</th>\n",
       "      <td>Samsung už v minulosti skúšal zaujať SUHD tele...</td>\n",
       "      <td>\\nVerím, že mnohí z vás v tom majú jasno, no u...</td>\n",
       "    </tr>\n",
       "    <tr>\n",
       "      <th>3</th>\n",
       "      <td>Izrael opäť zaútočil na sýrske vojenské ciele ...</td>\n",
       "      <td>\\n po tom, čo na ním kontrolované Golanské výš...</td>\n",
       "    </tr>\n",
       "    <tr>\n",
       "      <th>4</th>\n",
       "      <td>Basketbalistky Španielska sa stali víťazkami m...</td>\n",
       "      <td>\\n v Česku. Vo finálovom súboji triumfovali na...</td>\n",
       "    </tr>\n",
       "  </tbody>\n",
       "</table>\n",
       "</div>"
      ],
      "text/plain": [
       "                                             summary  \\\n",
       "0  Placebo má 20 rokov, oslavy boli aj v Bratisla...   \n",
       "1  Treba zakázať Uber len preto, že nezapadá do s...   \n",
       "2  Samsung už v minulosti skúšal zaujať SUHD tele...   \n",
       "3  Izrael opäť zaútočil na sýrske vojenské ciele ...   \n",
       "4  Basketbalistky Španielska sa stali víťazkami m...   \n",
       "\n",
       "                                                text  \n",
       "0  \\nPozrite si atmosféru z víkendového koncertu ...  \n",
       "1  \\nV jednom svete najskôr všetko dovolí parlame...  \n",
       "2  \\nVerím, že mnohí z vás v tom majú jasno, no u...  \n",
       "3  \\n po tom, čo na ním kontrolované Golanské výš...  \n",
       "4  \\n v Česku. Vo finálovom súboji triumfovali na...  "
      ]
     },
     "execution_count": 7,
     "metadata": {},
     "output_type": "execute_result"
    }
   ],
   "source": [
    "df_clean.head()"
   ]
  },
  {
   "cell_type": "code",
   "execution_count": 8,
   "metadata": {
    "collapsed": true
   },
   "outputs": [],
   "source": [
    "# text_file = open(\"/Users/jurajkapasny/nltk_data/corpora/stopwords-sk/stopwords-sk.json\", \"r\")\n",
    "# lines = text_file.read()\n",
    "# stopwords_sk = lines.replace('\"','').split(\",\")"
   ]
  },
  {
   "cell_type": "code",
   "execution_count": 9,
   "metadata": {
    "collapsed": true
   },
   "outputs": [],
   "source": [
    "# inputs = df_clean.text.str.lower()\n",
    "# outputs = df_clean.summary.str.lower()\n",
    "\n",
    "inputs = df_clean.text\n",
    "outputs = df_clean.summary\n",
    "\n",
    "inputs = inputs.str.replace(\",\", \" \")\n",
    "inputs = inputs.str.replace(\"\\n\", \" \")\n",
    "inputs = inputs.str.replace(\":\", \" \")\n",
    "# inputs = inputs.str.replace(\".\", \" \")\n",
    "inputs = inputs.str.replace('\"', \" \")\n",
    "inputs = inputs.str.replace(\"(\", \" \")\n",
    "inputs = inputs.str.replace(\")\", \" \")\n",
    "inputs = inputs.str.replace(\"-\", \" \")\n",
    "inputs = inputs.str.replace(\"“\", \" \")\n",
    "inputs = inputs.str.replace(\"„\", \" \")\n",
    "\n",
    "outputs = outputs.str.replace(\",\", \" \")\n",
    "outputs = outputs.str.replace(\"\\n\", \" \")\n",
    "outputs = outputs.str.replace(\":\", \" \")\n",
    "# outputs = outputs.str.replace(\".\", \" \")\n",
    "outputs = outputs.str.replace('\"', \" \")\n",
    "outputs = outputs.str.replace(\"(\", \" \")\n",
    "outputs = outputs.str.replace(\")\", \" \")\n",
    "outputs = outputs.str.replace(\"-\", \" \")\n",
    "outputs = outputs.str.replace(\"“\", \" \")\n",
    "outputs = outputs.str.replace(\"„\", \" \")"
   ]
  },
  {
   "cell_type": "code",
   "execution_count": 10,
   "metadata": {
    "collapsed": false
   },
   "outputs": [],
   "source": [
    "df_clean.text = inputs\n",
    "df_clean.summary = outputs"
   ]
  },
  {
   "cell_type": "code",
   "execution_count": 11,
   "metadata": {
    "collapsed": false
   },
   "outputs": [
    {
     "data": {
      "text/html": [
       "<div>\n",
       "<table border=\"1\" class=\"dataframe\">\n",
       "  <thead>\n",
       "    <tr style=\"text-align: right;\">\n",
       "      <th></th>\n",
       "      <th>summary</th>\n",
       "      <th>text</th>\n",
       "    </tr>\n",
       "  </thead>\n",
       "  <tbody>\n",
       "    <tr>\n",
       "      <th>0</th>\n",
       "      <td>Placebo má 20 rokov  oslavy boli aj v Bratisla...</td>\n",
       "      <td>Pozrite si atmosféru z víkendového koncertu s...</td>\n",
       "    </tr>\n",
       "    <tr>\n",
       "      <th>1</th>\n",
       "      <td>Treba zakázať Uber len preto  že nezapadá do s...</td>\n",
       "      <td>V jednom svete najskôr všetko dovolí parlamen...</td>\n",
       "    </tr>\n",
       "    <tr>\n",
       "      <th>2</th>\n",
       "      <td>Samsung už v minulosti skúšal zaujať SUHD tele...</td>\n",
       "      <td>Verím  že mnohí z vás v tom majú jasno  no ur...</td>\n",
       "    </tr>\n",
       "    <tr>\n",
       "      <th>3</th>\n",
       "      <td>Izrael opäť zaútočil na sýrske vojenské ciele ...</td>\n",
       "      <td>po tom  čo na ním kontrolované Golanské výši...</td>\n",
       "    </tr>\n",
       "    <tr>\n",
       "      <th>4</th>\n",
       "      <td>Basketbalistky Španielska sa stali víťazkami m...</td>\n",
       "      <td>v Česku. Vo finálovom súboji triumfovali nad...</td>\n",
       "    </tr>\n",
       "    <tr>\n",
       "      <th>5</th>\n",
       "      <td>Google končí s prehliadaním správ v Gmaili za ...</td>\n",
       "      <td>Gmail na prispôsobenie reklamy používa prehli...</td>\n",
       "    </tr>\n",
       "    <tr>\n",
       "      <th>6</th>\n",
       "      <td>Taliansky futbalový útočník Mario Balotelli pr...</td>\n",
       "      <td>. S účastníkom francúzskej Ligue 1 sa dohodol...</td>\n",
       "    </tr>\n",
       "    <tr>\n",
       "      <th>7</th>\n",
       "      <td>Voľby v Albánsku vyhrali podľa odhadov vládni ...</td>\n",
       "      <td>. Socialistická strana  PS  získala 45 až 49 ...</td>\n",
       "    </tr>\n",
       "    <tr>\n",
       "      <th>8</th>\n",
       "      <td>Záujem o osobné bankroty je veľký. Centrum prá...</td>\n",
       "      <td>Nové pravidlá osobného bankrotu zaujali tisíc...</td>\n",
       "    </tr>\n",
       "    <tr>\n",
       "      <th>9</th>\n",
       "      <td>Za vytvorením svetovo známeho YouTube stoja dv...</td>\n",
       "      <td>Len máloktorá firma zmenila svet internetu  m...</td>\n",
       "    </tr>\n",
       "    <tr>\n",
       "      <th>10</th>\n",
       "      <td>Slovenské družstvo si na majstrovstvách Európy...</td>\n",
       "      <td>. O ten sa zaslúžil aj šprintér Ján Volko  kt...</td>\n",
       "    </tr>\n",
       "    <tr>\n",
       "      <th>11</th>\n",
       "      <td>SNS chce obmedziť predaj pôdy   Slovenský poze...</td>\n",
       "      <td>1. Fico si robí videá so psom  deti zveril Ri...</td>\n",
       "    </tr>\n",
       "    <tr>\n",
       "      <th>12</th>\n",
       "      <td>Štrajk vo Volkswagene sa končí. Moderné odbory...</td>\n",
       "      <td>Zamestnanci nastúpia do práce v pondelok ráno...</td>\n",
       "    </tr>\n",
       "    <tr>\n",
       "      <th>14</th>\n",
       "      <td>Slovenskí reprezentanti v inline hokeji prehra...</td>\n",
       "      <td>v prvom zápase MS v Bratislave  s USA 1 8. Sl...</td>\n",
       "    </tr>\n",
       "    <tr>\n",
       "      <th>16</th>\n",
       "      <td>Futbalisti Nemecka postúpili do semifinále Poh...</td>\n",
       "      <td>. V nedeľu si poradili s Kamerunom 3 1 zásluh...</td>\n",
       "    </tr>\n",
       "    <tr>\n",
       "      <th>17</th>\n",
       "      <td>Prečo sú ženské bradavky stále tabu  keď Putin...</td>\n",
       "      <td>Nahá mužská hruď sa  oslobodila  až príliš a ...</td>\n",
       "    </tr>\n",
       "    <tr>\n",
       "      <th>18</th>\n",
       "      <td>Turecká polícia bráni aktivistom za práva LGBT...</td>\n",
       "      <td>v Istanbule. Aktivisti sa rozhodli uskutočni...</td>\n",
       "    </tr>\n",
       "    <tr>\n",
       "      <th>19</th>\n",
       "      <td>Určite tam je smútok  prevláda sklamanie. Na h...</td>\n",
       "      <td>povedal tréner Pavel Hapal po návrate futba...</td>\n",
       "    </tr>\n",
       "    <tr>\n",
       "      <th>20</th>\n",
       "      <td>Európska centrálna banka rozhodla o likvidácii...</td>\n",
       "      <td>Banca Popolare di Vicenza a Veneto Banca pod...</td>\n",
       "    </tr>\n",
       "    <tr>\n",
       "      <th>21</th>\n",
       "      <td>Tisíce odporcov jadrovej energie z Nemecka  Ho...</td>\n",
       "      <td>Doel a Tihange. Účastníci žiadali okamžité o...</td>\n",
       "    </tr>\n",
       "    <tr>\n",
       "      <th>22</th>\n",
       "      <td>Svetová zdravotnícka organizácia dostáva časté...</td>\n",
       "      <td>Svetová zdravotnícka organizácia dostáva čast...</td>\n",
       "    </tr>\n",
       "    <tr>\n",
       "      <th>23</th>\n",
       "      <td>Centrum ďalšieho vzdelávania na Univerzite Kom...</td>\n",
       "      <td>Je to zlá stredná škola  hovoria bývalí lekto...</td>\n",
       "    </tr>\n",
       "    <tr>\n",
       "      <th>24</th>\n",
       "      <td>Austrálsky jazdec Red Bullu Daniel Ricciardo t...</td>\n",
       "      <td>motoristickej F1. Na druhom stupienku skonči...</td>\n",
       "    </tr>\n",
       "    <tr>\n",
       "      <th>25</th>\n",
       "      <td>Jozef Sollár zažil násilnú kolektivizáciu. Pri...</td>\n",
       "      <td>Kone otca Jozefa Sollára boli vychýrené. Jedn...</td>\n",
       "    </tr>\n",
       "    <tr>\n",
       "      <th>26</th>\n",
       "      <td>Slovenská tenistka Magdaléna Rybáriková sa sta...</td>\n",
       "      <td>V najnovšom vydaní svetového rebríčka sa tak...</td>\n",
       "    </tr>\n",
       "    <tr>\n",
       "      <th>27</th>\n",
       "      <td>Robert Fico je rozčarovaný zo spôsobu  akým bo...</td>\n",
       "      <td>Veľmi ho znepokojuje  že výsledok zápasu Nem...</td>\n",
       "    </tr>\n",
       "    <tr>\n",
       "      <th>30</th>\n",
       "      <td>Juraj Sagan obhájil na cestách v okolí Žiaru n...</td>\n",
       "      <td>Juraj Sagan obhájil na cestách v okolí Žiaru ...</td>\n",
       "    </tr>\n",
       "    <tr>\n",
       "      <th>31</th>\n",
       "      <td>Barack Obama vraj vedel o ruskom zasahovaní do...</td>\n",
       "      <td>Donald Trump mu vyčíta  že proti nemu nezak...</td>\n",
       "    </tr>\n",
       "    <tr>\n",
       "      <th>32</th>\n",
       "      <td>Slovenskí futbalisti do 21 rokov nepostúpili d...</td>\n",
       "      <td>Slovenskí futbalisti do 21 rokov nepostúpili ...</td>\n",
       "    </tr>\n",
       "    <tr>\n",
       "      <th>33</th>\n",
       "      <td>Vodca britských labouristov Jeremy Corbyn sa c...</td>\n",
       "      <td>. V piatok v prieskumoch opozičný líder prvýk...</td>\n",
       "    </tr>\n",
       "    <tr>\n",
       "      <th>...</th>\n",
       "      <td>...</td>\n",
       "      <td>...</td>\n",
       "    </tr>\n",
       "    <tr>\n",
       "      <th>30918</th>\n",
       "      <td>Bude nová reorganizácia futbalových súťaží?</td>\n",
       "      <td>Športovo technická komisia na základe poveren...</td>\n",
       "    </tr>\n",
       "    <tr>\n",
       "      <th>30919</th>\n",
       "      <td>Počasie zrušilo dva zápasy</td>\n",
       "      <td>1. 0088 Lukáš Lukačovič   Bojná 63 2. 0100 St...</td>\n",
       "    </tr>\n",
       "    <tr>\n",
       "      <th>30920</th>\n",
       "      <td>V gólovej prestrelke uspeli hostia</td>\n",
       "      <td>Už v 3. minúte využili hostia presilovku po s...</td>\n",
       "    </tr>\n",
       "    <tr>\n",
       "      <th>30921</th>\n",
       "      <td>Na pacientov v topoľčianskej nemocnici čaká no...</td>\n",
       "      <td>TOPOĽČANY. Topoľčianska nemocnica predstavila...</td>\n",
       "    </tr>\n",
       "    <tr>\n",
       "      <th>30922</th>\n",
       "      <td>Tragédia na prievidzskom letisku. Pilot zrejme...</td>\n",
       "      <td>PRIEVIDZA. Dve lietadlá  Z 37 pilotované Jaro...</td>\n",
       "    </tr>\n",
       "    <tr>\n",
       "      <th>30923</th>\n",
       "      <td>Zrážku s vlakom v Prievidzi muž neprežil. Vlak...</td>\n",
       "      <td>PRIEVIDZA. Po zrážke s vlakom pri nákladnej s...</td>\n",
       "    </tr>\n",
       "    <tr>\n",
       "      <th>30924</th>\n",
       "      <td>Deň otvorených dverí na prievidzskom letisku p...</td>\n",
       "      <td>PRIEVIDZA. Nehodu malého motorového lietadla ...</td>\n",
       "    </tr>\n",
       "    <tr>\n",
       "      <th>30925</th>\n",
       "      <td>Bábätká z trenčianskej pôrodnice</td>\n",
       "      <td>Môže sa stať  že vás fotograf v pôrodnici nez...</td>\n",
       "    </tr>\n",
       "    <tr>\n",
       "      <th>30926</th>\n",
       "      <td>Keď potlesk nechutí</td>\n",
       "      <td>DOLNÉ SRNIE. Začiatok sezóny ako zo zlého sna...</td>\n",
       "    </tr>\n",
       "    <tr>\n",
       "      <th>30927</th>\n",
       "      <td>Ľudia zaživa pochovaní vo svojich pracoviskách...</td>\n",
       "      <td>Ľubomír Jaško je recenzent a publicista David...</td>\n",
       "    </tr>\n",
       "    <tr>\n",
       "      <th>30928</th>\n",
       "      <td>Policajný prezident podal trestné oznámenie pr...</td>\n",
       "      <td>BRATISLAVA. Pre úniky dokumentov  ktoré hovor...</td>\n",
       "    </tr>\n",
       "    <tr>\n",
       "      <th>30929</th>\n",
       "      <td>Pri Šahách sa zrazilo auto s autobusom  neprež...</td>\n",
       "      <td>ŠAHY. Na ceste I/66 pri Šahách smerom na Zvol...</td>\n",
       "    </tr>\n",
       "    <tr>\n",
       "      <th>30930</th>\n",
       "      <td>Juncker hovoril proti jadru. Jeho zástancom je...</td>\n",
       "      <td>Správa o stave  E  Únie   ktorú v týždni pred...</td>\n",
       "    </tr>\n",
       "    <tr>\n",
       "      <th>30931</th>\n",
       "      <td>Neodbytný prievan z východu</td>\n",
       "      <td>Zdvihnite ruku  ak máte zlý pocit z  daňovej ...</td>\n",
       "    </tr>\n",
       "    <tr>\n",
       "      <th>30932</th>\n",
       "      <td>Po dedine chodil medveď. Miestni ho videli v z...</td>\n",
       "      <td>DLŽÍN. Obec Dlžín vydala na svojej stránke um...</td>\n",
       "    </tr>\n",
       "    <tr>\n",
       "      <th>30933</th>\n",
       "      <td>V Kostolnej Vsi to zaváňalo haluškami  +FOTO</td>\n",
       "      <td>KOSTOLNÁ VES. V Kostolnej Vsi sa uskutočnil p...</td>\n",
       "    </tr>\n",
       "    <tr>\n",
       "      <th>30934</th>\n",
       "      <td>V Žiari nad Hronom spustili tiesňové hlásky ak...</td>\n",
       "      <td>ŽIAR NAD HRONOM. Od dnešného dňa začali v Žia...</td>\n",
       "    </tr>\n",
       "    <tr>\n",
       "      <th>30935</th>\n",
       "      <td>Ševela  Urobil som maximum  no niekedy ani to ...</td>\n",
       "      <td>V Trenčíne ste prekvapivo skončili. Ako vníma...</td>\n",
       "    </tr>\n",
       "    <tr>\n",
       "      <th>30936</th>\n",
       "      <td>Mestské autobusy budú týždeň zadarmo</td>\n",
       "      <td>TRENČÍN. Pre Trenčanov a návštevníkov mesta b...</td>\n",
       "    </tr>\n",
       "    <tr>\n",
       "      <th>30937</th>\n",
       "      <td>Najprv odišla para  po rozdelení postupne aj v...</td>\n",
       "      <td>PÚCHOV/LÚKY. Mimoriadny vlak  ťahaný parným r...</td>\n",
       "    </tr>\n",
       "    <tr>\n",
       "      <th>30938</th>\n",
       "      <td>Pilot z Ilavy zomrel</td>\n",
       "      <td>ILAVA/PRIEVIDZA. V sobotu 16. septembra počas...</td>\n",
       "    </tr>\n",
       "    <tr>\n",
       "      <th>30939</th>\n",
       "      <td>Absolventi levického gymnázia sa stretli po 65...</td>\n",
       "      <td>LEVICE. Na tradičnom každoročnom stretnutí sa...</td>\n",
       "    </tr>\n",
       "    <tr>\n",
       "      <th>30940</th>\n",
       "      <td>FOTOGALÉRIA  Okresné derby v lige žiačok. Levi...</td>\n",
       "      <td>Pre obe mužstvá to bol len druhý zápas v aktu...</td>\n",
       "    </tr>\n",
       "    <tr>\n",
       "      <th>30941</th>\n",
       "      <td>Muž si strelil do hlavy. O pár hodín hasili po...</td>\n",
       "      <td>ŽELIEZOVCE. O tretej nadránom 11. septembra c...</td>\n",
       "    </tr>\n",
       "    <tr>\n",
       "      <th>30942</th>\n",
       "      <td>Dediny spojila skvelá akcia. Od kapusty riť po...</td>\n",
       "      <td>VEĽKÁ VES. Už po ôsmykrát sa vo Veľkej Vsi ro...</td>\n",
       "    </tr>\n",
       "    <tr>\n",
       "      <th>30943</th>\n",
       "      <td>V zaniknutej obci Horné Opatovce sa opäť zišli...</td>\n",
       "      <td>ŽIAR NAD HRONOM. Obnovený kostol svätého Vavr...</td>\n",
       "    </tr>\n",
       "    <tr>\n",
       "      <th>30944</th>\n",
       "      <td>Nočný beh Šaľou absolvovalo 336 pretekárov</td>\n",
       "      <td>Šaľa má za sebou piaty ročník pretekov Beh no...</td>\n",
       "    </tr>\n",
       "    <tr>\n",
       "      <th>30945</th>\n",
       "      <td>Najtesnejšie víťazstvo Šalianok. Klučková dost...</td>\n",
       "      <td>SHK Veselí nad Moravou   HK Slovan Duslo Šaľa...</td>\n",
       "    </tr>\n",
       "    <tr>\n",
       "      <th>30946</th>\n",
       "      <td>Za chránený sekvojovec chcú Kremničania zabojovať</td>\n",
       "      <td>KREMNICA. Osud chráneného sekvojovca mamutieh...</td>\n",
       "    </tr>\n",
       "    <tr>\n",
       "      <th>30947</th>\n",
       "      <td>Náraz do stromu stál motocyklistku život</td>\n",
       "      <td>BANSKÁ ŠTIAVNICA. Vrtuľníkovú záchrannú zdrav...</td>\n",
       "    </tr>\n",
       "  </tbody>\n",
       "</table>\n",
       "<p>29807 rows × 2 columns</p>\n",
       "</div>"
      ],
      "text/plain": [
       "                                                 summary  \\\n",
       "0      Placebo má 20 rokov  oslavy boli aj v Bratisla...   \n",
       "1      Treba zakázať Uber len preto  že nezapadá do s...   \n",
       "2      Samsung už v minulosti skúšal zaujať SUHD tele...   \n",
       "3      Izrael opäť zaútočil na sýrske vojenské ciele ...   \n",
       "4      Basketbalistky Španielska sa stali víťazkami m...   \n",
       "5      Google končí s prehliadaním správ v Gmaili za ...   \n",
       "6      Taliansky futbalový útočník Mario Balotelli pr...   \n",
       "7      Voľby v Albánsku vyhrali podľa odhadov vládni ...   \n",
       "8      Záujem o osobné bankroty je veľký. Centrum prá...   \n",
       "9      Za vytvorením svetovo známeho YouTube stoja dv...   \n",
       "10     Slovenské družstvo si na majstrovstvách Európy...   \n",
       "11     SNS chce obmedziť predaj pôdy   Slovenský poze...   \n",
       "12     Štrajk vo Volkswagene sa končí. Moderné odbory...   \n",
       "14     Slovenskí reprezentanti v inline hokeji prehra...   \n",
       "16     Futbalisti Nemecka postúpili do semifinále Poh...   \n",
       "17     Prečo sú ženské bradavky stále tabu  keď Putin...   \n",
       "18     Turecká polícia bráni aktivistom za práva LGBT...   \n",
       "19     Určite tam je smútok  prevláda sklamanie. Na h...   \n",
       "20     Európska centrálna banka rozhodla o likvidácii...   \n",
       "21     Tisíce odporcov jadrovej energie z Nemecka  Ho...   \n",
       "22     Svetová zdravotnícka organizácia dostáva časté...   \n",
       "23     Centrum ďalšieho vzdelávania na Univerzite Kom...   \n",
       "24     Austrálsky jazdec Red Bullu Daniel Ricciardo t...   \n",
       "25     Jozef Sollár zažil násilnú kolektivizáciu. Pri...   \n",
       "26     Slovenská tenistka Magdaléna Rybáriková sa sta...   \n",
       "27     Robert Fico je rozčarovaný zo spôsobu  akým bo...   \n",
       "30     Juraj Sagan obhájil na cestách v okolí Žiaru n...   \n",
       "31     Barack Obama vraj vedel o ruskom zasahovaní do...   \n",
       "32     Slovenskí futbalisti do 21 rokov nepostúpili d...   \n",
       "33     Vodca britských labouristov Jeremy Corbyn sa c...   \n",
       "...                                                  ...   \n",
       "30918        Bude nová reorganizácia futbalových súťaží?   \n",
       "30919                         Počasie zrušilo dva zápasy   \n",
       "30920                 V gólovej prestrelke uspeli hostia   \n",
       "30921  Na pacientov v topoľčianskej nemocnici čaká no...   \n",
       "30922  Tragédia na prievidzskom letisku. Pilot zrejme...   \n",
       "30923  Zrážku s vlakom v Prievidzi muž neprežil. Vlak...   \n",
       "30924  Deň otvorených dverí na prievidzskom letisku p...   \n",
       "30925                   Bábätká z trenčianskej pôrodnice   \n",
       "30926                                Keď potlesk nechutí   \n",
       "30927  Ľudia zaživa pochovaní vo svojich pracoviskách...   \n",
       "30928  Policajný prezident podal trestné oznámenie pr...   \n",
       "30929  Pri Šahách sa zrazilo auto s autobusom  neprež...   \n",
       "30930  Juncker hovoril proti jadru. Jeho zástancom je...   \n",
       "30931                        Neodbytný prievan z východu   \n",
       "30932  Po dedine chodil medveď. Miestni ho videli v z...   \n",
       "30933      V Kostolnej Vsi to zaváňalo haluškami  +FOTO    \n",
       "30934  V Žiari nad Hronom spustili tiesňové hlásky ak...   \n",
       "30935  Ševela  Urobil som maximum  no niekedy ani to ...   \n",
       "30936               Mestské autobusy budú týždeň zadarmo   \n",
       "30937  Najprv odišla para  po rozdelení postupne aj v...   \n",
       "30938                               Pilot z Ilavy zomrel   \n",
       "30939  Absolventi levického gymnázia sa stretli po 65...   \n",
       "30940  FOTOGALÉRIA  Okresné derby v lige žiačok. Levi...   \n",
       "30941  Muž si strelil do hlavy. O pár hodín hasili po...   \n",
       "30942  Dediny spojila skvelá akcia. Od kapusty riť po...   \n",
       "30943  V zaniknutej obci Horné Opatovce sa opäť zišli...   \n",
       "30944         Nočný beh Šaľou absolvovalo 336 pretekárov   \n",
       "30945  Najtesnejšie víťazstvo Šalianok. Klučková dost...   \n",
       "30946  Za chránený sekvojovec chcú Kremničania zabojovať   \n",
       "30947           Náraz do stromu stál motocyklistku život   \n",
       "\n",
       "                                                    text  \n",
       "0       Pozrite si atmosféru z víkendového koncertu s...  \n",
       "1       V jednom svete najskôr všetko dovolí parlamen...  \n",
       "2       Verím  že mnohí z vás v tom majú jasno  no ur...  \n",
       "3        po tom  čo na ním kontrolované Golanské výši...  \n",
       "4        v Česku. Vo finálovom súboji triumfovali nad...  \n",
       "5       Gmail na prispôsobenie reklamy používa prehli...  \n",
       "6       . S účastníkom francúzskej Ligue 1 sa dohodol...  \n",
       "7       . Socialistická strana  PS  získala 45 až 49 ...  \n",
       "8       Nové pravidlá osobného bankrotu zaujali tisíc...  \n",
       "9       Len máloktorá firma zmenila svet internetu  m...  \n",
       "10      . O ten sa zaslúžil aj šprintér Ján Volko  kt...  \n",
       "11      1. Fico si robí videá so psom  deti zveril Ri...  \n",
       "12      Zamestnanci nastúpia do práce v pondelok ráno...  \n",
       "14      v prvom zápase MS v Bratislave  s USA 1 8. Sl...  \n",
       "16      . V nedeľu si poradili s Kamerunom 3 1 zásluh...  \n",
       "17      Nahá mužská hruď sa  oslobodila  až príliš a ...  \n",
       "18       v Istanbule. Aktivisti sa rozhodli uskutočni...  \n",
       "19        povedal tréner Pavel Hapal po návrate futba...  \n",
       "20       Banca Popolare di Vicenza a Veneto Banca pod...  \n",
       "21       Doel a Tihange. Účastníci žiadali okamžité o...  \n",
       "22      Svetová zdravotnícka organizácia dostáva čast...  \n",
       "23      Je to zlá stredná škola  hovoria bývalí lekto...  \n",
       "24       motoristickej F1. Na druhom stupienku skonči...  \n",
       "25      Kone otca Jozefa Sollára boli vychýrené. Jedn...  \n",
       "26       V najnovšom vydaní svetového rebríčka sa tak...  \n",
       "27       Veľmi ho znepokojuje  že výsledok zápasu Nem...  \n",
       "30      Juraj Sagan obhájil na cestách v okolí Žiaru ...  \n",
       "31        Donald Trump mu vyčíta  že proti nemu nezak...  \n",
       "32      Slovenskí futbalisti do 21 rokov nepostúpili ...  \n",
       "33      . V piatok v prieskumoch opozičný líder prvýk...  \n",
       "...                                                  ...  \n",
       "30918   Športovo technická komisia na základe poveren...  \n",
       "30919   1. 0088 Lukáš Lukačovič   Bojná 63 2. 0100 St...  \n",
       "30920   Už v 3. minúte využili hostia presilovku po s...  \n",
       "30921   TOPOĽČANY. Topoľčianska nemocnica predstavila...  \n",
       "30922   PRIEVIDZA. Dve lietadlá  Z 37 pilotované Jaro...  \n",
       "30923   PRIEVIDZA. Po zrážke s vlakom pri nákladnej s...  \n",
       "30924   PRIEVIDZA. Nehodu malého motorového lietadla ...  \n",
       "30925   Môže sa stať  že vás fotograf v pôrodnici nez...  \n",
       "30926   DOLNÉ SRNIE. Začiatok sezóny ako zo zlého sna...  \n",
       "30927   Ľubomír Jaško je recenzent a publicista David...  \n",
       "30928   BRATISLAVA. Pre úniky dokumentov  ktoré hovor...  \n",
       "30929   ŠAHY. Na ceste I/66 pri Šahách smerom na Zvol...  \n",
       "30930   Správa o stave  E  Únie   ktorú v týždni pred...  \n",
       "30931   Zdvihnite ruku  ak máte zlý pocit z  daňovej ...  \n",
       "30932   DLŽÍN. Obec Dlžín vydala na svojej stránke um...  \n",
       "30933   KOSTOLNÁ VES. V Kostolnej Vsi sa uskutočnil p...  \n",
       "30934   ŽIAR NAD HRONOM. Od dnešného dňa začali v Žia...  \n",
       "30935   V Trenčíne ste prekvapivo skončili. Ako vníma...  \n",
       "30936   TRENČÍN. Pre Trenčanov a návštevníkov mesta b...  \n",
       "30937   PÚCHOV/LÚKY. Mimoriadny vlak  ťahaný parným r...  \n",
       "30938   ILAVA/PRIEVIDZA. V sobotu 16. septembra počas...  \n",
       "30939   LEVICE. Na tradičnom každoročnom stretnutí sa...  \n",
       "30940   Pre obe mužstvá to bol len druhý zápas v aktu...  \n",
       "30941   ŽELIEZOVCE. O tretej nadránom 11. septembra c...  \n",
       "30942   VEĽKÁ VES. Už po ôsmykrát sa vo Veľkej Vsi ro...  \n",
       "30943   ŽIAR NAD HRONOM. Obnovený kostol svätého Vavr...  \n",
       "30944   Šaľa má za sebou piaty ročník pretekov Beh no...  \n",
       "30945   SHK Veselí nad Moravou   HK Slovan Duslo Šaľa...  \n",
       "30946   KREMNICA. Osud chráneného sekvojovca mamutieh...  \n",
       "30947   BANSKÁ ŠTIAVNICA. Vrtuľníkovú záchrannú zdrav...  \n",
       "\n",
       "[29807 rows x 2 columns]"
      ]
     },
     "execution_count": 11,
     "metadata": {},
     "output_type": "execute_result"
    }
   ],
   "source": [
    "df_clean"
   ]
  },
  {
   "cell_type": "code",
   "execution_count": 12,
   "metadata": {
    "collapsed": false
   },
   "outputs": [
    {
     "data": {
      "text/plain": [
       "29807"
      ]
     },
     "execution_count": 12,
     "metadata": {},
     "output_type": "execute_result"
    }
   ],
   "source": [
    "len(df_clean.text.str.split(\".\"))"
   ]
  },
  {
   "cell_type": "markdown",
   "metadata": {},
   "source": [
    "### Write down texts into the file!!"
   ]
  },
  {
   "cell_type": "code",
   "execution_count": null,
   "metadata": {
    "collapsed": true
   },
   "outputs": [],
   "source": []
  },
  {
   "cell_type": "code",
   "execution_count": 13,
   "metadata": {
    "collapsed": false
   },
   "outputs": [
    {
     "name": "stdout",
     "output_type": "stream",
     "text": [
      "Mr. Smith bought cheapsite.com for 1.5 million dollars, i.e. he paid a lot for it.\n",
      "Did he mind?\n",
      "Adam Jones Jr. thinks he didn't.\n",
      "In any case, this isn't true...\n",
      "Well, with a probability of .9 it isn't.\n"
     ]
    }
   ],
   "source": [
    "import re\n",
    "s = \"\"\"Mr. Smith bought cheapsite.com for 1.5 million dollars, i.e. he paid a lot for it. Did he mind? Adam Jones Jr. thinks he didn't. In any case, this isn't true... Well, with a probability of .9 it isn't.\"\"\"\n",
    "m = re.split(r'(?<=[^A-Z].[.?]) +(?=[A-Z])', s)\n",
    "for i in m:\n",
    "    print i"
   ]
  },
  {
   "cell_type": "code",
   "execution_count": 35,
   "metadata": {
    "collapsed": false
   },
   "outputs": [
    {
     "data": {
      "text/plain": [
       "['Placebo m\\xc3\\xa1 20 rokov  oslavy boli aj v\\xc2\\xa0Bratislave.',\n",
       " 'Pozrite si fotoreport\\xc3\\xa1\\xc5\\xbe s\\xc2\\xa0atmosf\\xc3\\xa9rou nede\\xc4\\xbe\\xc5\\x88aj\\xc5\\xa1ieho koncertu popul\\xc3\\xa1rnej skupiny na Slovensku.']"
      ]
     },
     "execution_count": 35,
     "metadata": {},
     "output_type": "execute_result"
    }
   ],
   "source": [
    "re.split(r'(?<=[^A-Z].[.?]) +(?=[A-Z])', df_clean.loc[0,:][\"summary\"])"
   ]
  },
  {
   "cell_type": "code",
   "execution_count": 39,
   "metadata": {
    "collapsed": false
   },
   "outputs": [],
   "source": [
    "for i in list(df_clean.index):\n",
    "    temp = df_clean.loc[i,:]\n",
    "    \n",
    "    inside_text = \"\"\n",
    "    for sentence in re.split(r'(?<=[^A-Z].[.?]) +(?=[A-Z])',temp[\"text\"]):\n",
    "        inside_text = inside_text + \"\\n \\t <s> \"+sentence.lower().strip() + \" </s>\"\n",
    "        \n",
    "    abstract = \"\"\n",
    "    for sentence in re.split(r'(?<=[^A-Z].[.?]) +(?=[A-Z])',temp[\"summary\"]):\n",
    "        abstract = abstract + \"\\n  \\t <s> \"+sentence.lower().strip() + \" </s>\"\n",
    "    \n",
    "    text = \"\"\"\n",
    "article=<d>\n",
    "    <p>\"\"\" + inside_text + \"\"\"\n",
    "    </p> \n",
    "</d>\n",
    "\n",
    "abstract=<d> \n",
    "    <p>\"\"\" + abstract + \"\"\"\n",
    "    </p> \n",
    "</d>\n",
    "\"\"\"\n",
    "    text_file = open(\"/Users/jurajkapasny/Desktop/input_text.txt\", \"a\")\n",
    "    text_file.write(text)\n",
    "    text_file.close()"
   ]
  },
  {
   "cell_type": "code",
   "execution_count": 40,
   "metadata": {
    "collapsed": false
   },
   "outputs": [
    {
     "name": "stdout",
     "output_type": "stream",
     "text": [
      "\n",
      "article=<d>\n",
      "    <p>\n",
      " \t <s> trnava. tradičný trnavský jarmok v piatok narazením suda s burčiakom otvorila hedviga zápoľská  ktorej na prelome 15. a 16. storočia trnava patrila. </s>\n",
      " \t <s> vinárom za asistencie mestského perega a mestských kapitánov udelila povolenie   nalievať burčiak vo viechach aj pred viechami . </s>\n",
      " \t <s> ešte predtým mestský pereg informoval  že úroda vo viniciach bola v tomto roku výnimočná. </s>\n",
      " \t <s> o historický úvod jarmoku sa v dobových kostýmoch postarali v úlohe hedvigy zápoľskej prednostka mestského úradu v trnave ivana mudríková a v úlohách kapitánov viceprimátori tibor pekarčík a matej lančarič. </s>\n",
      " \t <s> aj keď podľa ich slov otvárali 510. jarmok v trnave  toto číslo nie je overené. </s>\n",
      " \t <s> na tohtoročnom jarmoku v trnave je najmenej 360 stánkov s komerčným tovarom  200 stánkov s dielami ľudových remeselníkov  39 stánkov s občerstvením a taký istý počet predajcov tekvicových jadierok. </s>\n",
      " \t <s> medzi remeselníkmi nechýba ani výrobca sekulskej keramiky jozef húšek  ktorý do trnavy chodí každý rok už viac ako dve desaťročia. </s>\n",
      " \t <s> najväčšie kultúrno spoločenské podujatie v meste sa koná od štvrtka 7. septembra do nedele 10. septembra. </s>\n",
      " \t <s> typickým jedlom súčasných jarmokov je cigánska pečienka  medzi nápojmi dominuje prvý tohtoročný burčiak. </s>\n",
      " \t <s> súčasťou tradičného trnavského jarmoku je aj bohatý kultúrny program s vystúpeniami kapiel vidiek  polemic  bukasový masív  s dominikou mirgovou či petrom lipom na trojičnom námestí a koncertom márie Čírovej v amfiteátri. </s>\n",
      " \t <s> súčasťou jarmoku je aj návrat do histórie  ktorý ponuka podujatie stredovek pod hradbami v bernolákovom sade. </s>\n",
      " \t <s> jeho návštevníci môžu zažiť návrat o pár storočí dozadu s množstvom vystúpení približujúcich minulosť od starého grécka až po druhú svetovú vojnu. </s>\n",
      "    </p> \n",
      "</d>\n",
      "\n",
      "abstract=<d> \n",
      "    <p>\n",
      "  \t <s> jarmok otvoril historický sprievod a narazenie suda s burčiakom. </s>\n",
      "  \t <s> pozrite si fotky </s>\n",
      "    </p> \n",
      "</d>\n",
      "\n"
     ]
    }
   ],
   "source": [
    "print text"
   ]
  },
  {
   "cell_type": "code",
   "execution_count": null,
   "metadata": {
    "collapsed": true
   },
   "outputs": [],
   "source": []
  },
  {
   "cell_type": "code",
   "execution_count": null,
   "metadata": {
    "collapsed": false
   },
   "outputs": [],
   "source": [
    "msk = np.random.rand(len(inputs)) < 0.8\n",
    "inputs_train = inputs[msk].str.replace(\"\\n\", \" \")\n",
    "inputs_dev = inputs[~msk].str.replace(\"\\n\", \" \")\n",
    "outputs_train = outputs[msk].str.replace(\"\\n\", \" \")\n",
    "outputs_dev = outputs[~msk].str.replace(\"\\n\", \" \")\n",
    "inputs_train.to_csv(\"/Users/jurajkapasny/Data/testing/train_text.txt\", index=False, header=False,)\n",
    "outputs_train.to_csv(\"/Users/jurajkapasny/Data/testing/target_text.txt\", index=False, header=False)\n",
    "inputs_dev.to_csv(\"/Users/jurajkapasny/Data/testing/dev_text.txt\", index=False, header=False,)\n",
    "outputs_dev.to_csv(\"/Users/jurajkapasny/Data/testing/dev_target_text.txt\", index=False, header=False)"
   ]
  },
  {
   "cell_type": "code",
   "execution_count": null,
   "metadata": {
    "collapsed": false
   },
   "outputs": [],
   "source": [
    "print len(inputs_train)\n",
    "print len(outputs_train)\n",
    "print len(inputs_dev)\n",
    "print len(outputs_dev)"
   ]
  },
  {
   "cell_type": "code",
   "execution_count": null,
   "metadata": {
    "collapsed": true
   },
   "outputs": [],
   "source": []
  },
  {
   "cell_type": "code",
   "execution_count": null,
   "metadata": {
    "collapsed": false
   },
   "outputs": [],
   "source": [
    "inputs = inputs.str.replace(\",\", \" \")\n",
    "inputs = inputs.str.replace(\":\", \" \")\n",
    "inputs = inputs.str.replace(\".\", \" \")\n",
    "inputs = inputs.str.replace('\"', \" \")\n",
    "inputs = inputs.str.replace(\"(\", \" \")\n",
    "inputs = inputs.str.replace(\")\", \" \")\n",
    "inputs = inputs.str.replace(\"-\", \" \")\n",
    "inputs = inputs.str.replace(\"“\", \" \")\n",
    "inputs = inputs.str.replace(\"„\", \" \")\n",
    "\n",
    "outputs = outputs.str.replace(\",\", \" \")\n",
    "outputs = outputs.str.replace(\":\", \" \")\n",
    "outputs = outputs.str.replace(\".\", \" \")\n",
    "outputs = outputs.str.replace('\"', \" \")\n",
    "outputs = outputs.str.replace(\"(\", \" \")\n",
    "outputs = outputs.str.replace(\")\", \" \")\n",
    "outputs = outputs.str.replace(\"-\", \" \")\n",
    "outputs = outputs.str.replace(\"“\", \" \")\n",
    "outputs = outputs.str.replace(\"„\", \" \")\n",
    "\n",
    "# inputs = inputs.str.replace(\"(\", \" \")\n",
    "# inputs = inputs.str.replace(\")\", \" \")\n",
    "# #.to_csv(\"/Users/jurajkapasny/Desktop/train_text.txt\", index=False, header=False,)\n",
    "# inputs = inputs.str.split()"
   ]
  },
  {
   "cell_type": "code",
   "execution_count": null,
   "metadata": {
    "collapsed": true
   },
   "outputs": [],
   "source": []
  },
  {
   "cell_type": "code",
   "execution_count": 42,
   "metadata": {
    "collapsed": false
   },
   "outputs": [
    {
     "data": {
      "text/html": [
       "<div>\n",
       "<table border=\"1\" class=\"dataframe\">\n",
       "  <thead>\n",
       "    <tr style=\"text-align: right;\">\n",
       "      <th></th>\n",
       "      <th>summary</th>\n",
       "      <th>text</th>\n",
       "    </tr>\n",
       "  </thead>\n",
       "  <tbody>\n",
       "    <tr>\n",
       "      <th>0</th>\n",
       "      <td>Placebo má 20 rokov  oslavy boli aj v Bratisla...</td>\n",
       "      <td>Pozrite si atmosféru z víkendového koncertu s...</td>\n",
       "    </tr>\n",
       "    <tr>\n",
       "      <th>1</th>\n",
       "      <td>Treba zakázať Uber len preto  že nezapadá do s...</td>\n",
       "      <td>V jednom svete najskôr všetko dovolí parlamen...</td>\n",
       "    </tr>\n",
       "    <tr>\n",
       "      <th>2</th>\n",
       "      <td>Samsung už v minulosti skúšal zaujať SUHD tele...</td>\n",
       "      <td>Verím  že mnohí z vás v tom majú jasno  no ur...</td>\n",
       "    </tr>\n",
       "    <tr>\n",
       "      <th>3</th>\n",
       "      <td>Izrael opäť zaútočil na sýrske vojenské ciele ...</td>\n",
       "      <td>po tom  čo na ním kontrolované Golanské výši...</td>\n",
       "    </tr>\n",
       "    <tr>\n",
       "      <th>4</th>\n",
       "      <td>Basketbalistky Španielska sa stali víťazkami m...</td>\n",
       "      <td>v Česku. Vo finálovom súboji triumfovali nad...</td>\n",
       "    </tr>\n",
       "  </tbody>\n",
       "</table>\n",
       "</div>"
      ],
      "text/plain": [
       "                                             summary  \\\n",
       "0  Placebo má 20 rokov  oslavy boli aj v Bratisla...   \n",
       "1  Treba zakázať Uber len preto  že nezapadá do s...   \n",
       "2  Samsung už v minulosti skúšal zaujať SUHD tele...   \n",
       "3  Izrael opäť zaútočil na sýrske vojenské ciele ...   \n",
       "4  Basketbalistky Španielska sa stali víťazkami m...   \n",
       "\n",
       "                                                text  \n",
       "0   Pozrite si atmosféru z víkendového koncertu s...  \n",
       "1   V jednom svete najskôr všetko dovolí parlamen...  \n",
       "2   Verím  že mnohí z vás v tom majú jasno  no ur...  \n",
       "3    po tom  čo na ním kontrolované Golanské výši...  \n",
       "4    v Česku. Vo finálovom súboji triumfovali nad...  "
      ]
     },
     "execution_count": 42,
     "metadata": {},
     "output_type": "execute_result"
    }
   ],
   "source": [
    "df_clean.head()"
   ]
  },
  {
   "cell_type": "code",
   "execution_count": 85,
   "metadata": {
    "collapsed": false
   },
   "outputs": [],
   "source": [
    "df_label = df[(df.label.notnull()) & df.text.notnull()][[\"label\",\"text\"]]\n",
    "counts = df_label.label.value_counts()"
   ]
  },
  {
   "cell_type": "code",
   "execution_count": 91,
   "metadata": {
    "collapsed": false
   },
   "outputs": [],
   "source": [
    "df_label = df_label[df_label.label.isin(list(counts[counts > 50].index))]"
   ]
  },
  {
   "cell_type": "code",
   "execution_count": 47,
   "metadata": {
    "collapsed": true
   },
   "outputs": [],
   "source": [
    "from sklearn.feature_extraction.text import TfidfVectorizer"
   ]
  },
  {
   "cell_type": "code",
   "execution_count": 93,
   "metadata": {
    "collapsed": true
   },
   "outputs": [],
   "source": [
    "tf = TfidfVectorizer(max_features = 1000, min_df = 100, max_df = 10000)"
   ]
  },
  {
   "cell_type": "code",
   "execution_count": 94,
   "metadata": {
    "collapsed": true
   },
   "outputs": [],
   "source": [
    "df_transformed = tf.fit_transform(df_label[\"text\"].values)"
   ]
  },
  {
   "cell_type": "code",
   "execution_count": 95,
   "metadata": {
    "collapsed": true
   },
   "outputs": [],
   "source": [
    "df_transformed_final = pd.SparseDataFrame([pd.SparseSeries(df_transformed[i].toarray().ravel()) \n",
    "                                    for i in np.arange(df_transformed.shape[0])])"
   ]
  },
  {
   "cell_type": "code",
   "execution_count": 96,
   "metadata": {
    "collapsed": false
   },
   "outputs": [
    {
     "data": {
      "text/html": [
       "<div>\n",
       "<table border=\"1\" class=\"dataframe\">\n",
       "  <thead>\n",
       "    <tr style=\"text-align: right;\">\n",
       "      <th></th>\n",
       "      <th>0</th>\n",
       "      <th>1</th>\n",
       "      <th>2</th>\n",
       "      <th>3</th>\n",
       "      <th>4</th>\n",
       "      <th>5</th>\n",
       "      <th>6</th>\n",
       "      <th>7</th>\n",
       "      <th>8</th>\n",
       "      <th>9</th>\n",
       "      <th>...</th>\n",
       "      <th>990</th>\n",
       "      <th>991</th>\n",
       "      <th>992</th>\n",
       "      <th>993</th>\n",
       "      <th>994</th>\n",
       "      <th>995</th>\n",
       "      <th>996</th>\n",
       "      <th>997</th>\n",
       "      <th>998</th>\n",
       "      <th>999</th>\n",
       "    </tr>\n",
       "  </thead>\n",
       "  <tbody>\n",
       "    <tr>\n",
       "      <th>count</th>\n",
       "      <td>25765.000000</td>\n",
       "      <td>25765.000000</td>\n",
       "      <td>25765.000000</td>\n",
       "      <td>25765.000000</td>\n",
       "      <td>25765.000000</td>\n",
       "      <td>25765.000000</td>\n",
       "      <td>25765.000000</td>\n",
       "      <td>25765.000000</td>\n",
       "      <td>25765.000000</td>\n",
       "      <td>25765.000000</td>\n",
       "      <td>...</td>\n",
       "      <td>25765.000000</td>\n",
       "      <td>25765.000000</td>\n",
       "      <td>25765.000000</td>\n",
       "      <td>25765.000000</td>\n",
       "      <td>25765.000000</td>\n",
       "      <td>25765.000000</td>\n",
       "      <td>25765.000000</td>\n",
       "      <td>25765.000000</td>\n",
       "      <td>25765.000000</td>\n",
       "      <td>25765.000000</td>\n",
       "    </tr>\n",
       "    <tr>\n",
       "      <th>mean</th>\n",
       "      <td>0.006717</td>\n",
       "      <td>0.012025</td>\n",
       "      <td>0.010748</td>\n",
       "      <td>0.008853</td>\n",
       "      <td>0.007041</td>\n",
       "      <td>0.007625</td>\n",
       "      <td>0.006502</td>\n",
       "      <td>0.006376</td>\n",
       "      <td>0.010168</td>\n",
       "      <td>0.003586</td>\n",
       "      <td>...</td>\n",
       "      <td>0.006972</td>\n",
       "      <td>0.008736</td>\n",
       "      <td>0.004183</td>\n",
       "      <td>0.003720</td>\n",
       "      <td>0.003622</td>\n",
       "      <td>0.006208</td>\n",
       "      <td>0.006334</td>\n",
       "      <td>0.004666</td>\n",
       "      <td>0.007820</td>\n",
       "      <td>0.005665</td>\n",
       "    </tr>\n",
       "    <tr>\n",
       "      <th>std</th>\n",
       "      <td>0.048636</td>\n",
       "      <td>0.046662</td>\n",
       "      <td>0.038945</td>\n",
       "      <td>0.036798</td>\n",
       "      <td>0.030215</td>\n",
       "      <td>0.029673</td>\n",
       "      <td>0.029543</td>\n",
       "      <td>0.030365</td>\n",
       "      <td>0.037073</td>\n",
       "      <td>0.022386</td>\n",
       "      <td>...</td>\n",
       "      <td>0.031716</td>\n",
       "      <td>0.029952</td>\n",
       "      <td>0.023762</td>\n",
       "      <td>0.020580</td>\n",
       "      <td>0.024581</td>\n",
       "      <td>0.036670</td>\n",
       "      <td>0.027044</td>\n",
       "      <td>0.032358</td>\n",
       "      <td>0.032752</td>\n",
       "      <td>0.029002</td>\n",
       "    </tr>\n",
       "    <tr>\n",
       "      <th>min</th>\n",
       "      <td>0.000000</td>\n",
       "      <td>0.000000</td>\n",
       "      <td>0.000000</td>\n",
       "      <td>0.000000</td>\n",
       "      <td>0.000000</td>\n",
       "      <td>0.000000</td>\n",
       "      <td>0.000000</td>\n",
       "      <td>0.000000</td>\n",
       "      <td>0.000000</td>\n",
       "      <td>0.000000</td>\n",
       "      <td>...</td>\n",
       "      <td>0.000000</td>\n",
       "      <td>0.000000</td>\n",
       "      <td>0.000000</td>\n",
       "      <td>0.000000</td>\n",
       "      <td>0.000000</td>\n",
       "      <td>0.000000</td>\n",
       "      <td>0.000000</td>\n",
       "      <td>0.000000</td>\n",
       "      <td>0.000000</td>\n",
       "      <td>0.000000</td>\n",
       "    </tr>\n",
       "    <tr>\n",
       "      <th>25%</th>\n",
       "      <td>0.000000</td>\n",
       "      <td>0.000000</td>\n",
       "      <td>0.000000</td>\n",
       "      <td>0.000000</td>\n",
       "      <td>0.000000</td>\n",
       "      <td>0.000000</td>\n",
       "      <td>0.000000</td>\n",
       "      <td>0.000000</td>\n",
       "      <td>0.000000</td>\n",
       "      <td>0.000000</td>\n",
       "      <td>...</td>\n",
       "      <td>0.000000</td>\n",
       "      <td>0.000000</td>\n",
       "      <td>0.000000</td>\n",
       "      <td>0.000000</td>\n",
       "      <td>0.000000</td>\n",
       "      <td>0.000000</td>\n",
       "      <td>0.000000</td>\n",
       "      <td>0.000000</td>\n",
       "      <td>0.000000</td>\n",
       "      <td>0.000000</td>\n",
       "    </tr>\n",
       "    <tr>\n",
       "      <th>50%</th>\n",
       "      <td>0.000000</td>\n",
       "      <td>0.000000</td>\n",
       "      <td>0.000000</td>\n",
       "      <td>0.000000</td>\n",
       "      <td>0.000000</td>\n",
       "      <td>0.000000</td>\n",
       "      <td>0.000000</td>\n",
       "      <td>0.000000</td>\n",
       "      <td>0.000000</td>\n",
       "      <td>0.000000</td>\n",
       "      <td>...</td>\n",
       "      <td>0.000000</td>\n",
       "      <td>0.000000</td>\n",
       "      <td>0.000000</td>\n",
       "      <td>0.000000</td>\n",
       "      <td>0.000000</td>\n",
       "      <td>0.000000</td>\n",
       "      <td>0.000000</td>\n",
       "      <td>0.000000</td>\n",
       "      <td>0.000000</td>\n",
       "      <td>0.000000</td>\n",
       "    </tr>\n",
       "    <tr>\n",
       "      <th>75%</th>\n",
       "      <td>0.000000</td>\n",
       "      <td>0.000000</td>\n",
       "      <td>0.000000</td>\n",
       "      <td>0.000000</td>\n",
       "      <td>0.000000</td>\n",
       "      <td>0.000000</td>\n",
       "      <td>0.000000</td>\n",
       "      <td>0.000000</td>\n",
       "      <td>0.000000</td>\n",
       "      <td>0.000000</td>\n",
       "      <td>...</td>\n",
       "      <td>0.000000</td>\n",
       "      <td>0.000000</td>\n",
       "      <td>0.000000</td>\n",
       "      <td>0.000000</td>\n",
       "      <td>0.000000</td>\n",
       "      <td>0.000000</td>\n",
       "      <td>0.000000</td>\n",
       "      <td>0.000000</td>\n",
       "      <td>0.000000</td>\n",
       "      <td>0.000000</td>\n",
       "    </tr>\n",
       "    <tr>\n",
       "      <th>max</th>\n",
       "      <td>0.965433</td>\n",
       "      <td>0.868424</td>\n",
       "      <td>0.976120</td>\n",
       "      <td>0.802161</td>\n",
       "      <td>0.655965</td>\n",
       "      <td>0.569098</td>\n",
       "      <td>0.623179</td>\n",
       "      <td>0.744543</td>\n",
       "      <td>0.712475</td>\n",
       "      <td>0.632696</td>\n",
       "      <td>...</td>\n",
       "      <td>0.442557</td>\n",
       "      <td>0.497670</td>\n",
       "      <td>0.578282</td>\n",
       "      <td>0.357418</td>\n",
       "      <td>0.516467</td>\n",
       "      <td>0.756615</td>\n",
       "      <td>0.395116</td>\n",
       "      <td>0.748415</td>\n",
       "      <td>0.658136</td>\n",
       "      <td>0.890791</td>\n",
       "    </tr>\n",
       "  </tbody>\n",
       "</table>\n",
       "<p>8 rows × 1000 columns</p>\n",
       "</div>"
      ],
      "text/plain": [
       "                0             1             2             3             4    \\\n",
       "count  25765.000000  25765.000000  25765.000000  25765.000000  25765.000000   \n",
       "mean       0.006717      0.012025      0.010748      0.008853      0.007041   \n",
       "std        0.048636      0.046662      0.038945      0.036798      0.030215   \n",
       "min        0.000000      0.000000      0.000000      0.000000      0.000000   \n",
       "25%        0.000000      0.000000      0.000000      0.000000      0.000000   \n",
       "50%        0.000000      0.000000      0.000000      0.000000      0.000000   \n",
       "75%        0.000000      0.000000      0.000000      0.000000      0.000000   \n",
       "max        0.965433      0.868424      0.976120      0.802161      0.655965   \n",
       "\n",
       "                5             6             7             8             9    \\\n",
       "count  25765.000000  25765.000000  25765.000000  25765.000000  25765.000000   \n",
       "mean       0.007625      0.006502      0.006376      0.010168      0.003586   \n",
       "std        0.029673      0.029543      0.030365      0.037073      0.022386   \n",
       "min        0.000000      0.000000      0.000000      0.000000      0.000000   \n",
       "25%        0.000000      0.000000      0.000000      0.000000      0.000000   \n",
       "50%        0.000000      0.000000      0.000000      0.000000      0.000000   \n",
       "75%        0.000000      0.000000      0.000000      0.000000      0.000000   \n",
       "max        0.569098      0.623179      0.744543      0.712475      0.632696   \n",
       "\n",
       "           ...                990           991           992           993  \\\n",
       "count      ...       25765.000000  25765.000000  25765.000000  25765.000000   \n",
       "mean       ...           0.006972      0.008736      0.004183      0.003720   \n",
       "std        ...           0.031716      0.029952      0.023762      0.020580   \n",
       "min        ...           0.000000      0.000000      0.000000      0.000000   \n",
       "25%        ...           0.000000      0.000000      0.000000      0.000000   \n",
       "50%        ...           0.000000      0.000000      0.000000      0.000000   \n",
       "75%        ...           0.000000      0.000000      0.000000      0.000000   \n",
       "max        ...           0.442557      0.497670      0.578282      0.357418   \n",
       "\n",
       "                994           995           996           997           998  \\\n",
       "count  25765.000000  25765.000000  25765.000000  25765.000000  25765.000000   \n",
       "mean       0.003622      0.006208      0.006334      0.004666      0.007820   \n",
       "std        0.024581      0.036670      0.027044      0.032358      0.032752   \n",
       "min        0.000000      0.000000      0.000000      0.000000      0.000000   \n",
       "25%        0.000000      0.000000      0.000000      0.000000      0.000000   \n",
       "50%        0.000000      0.000000      0.000000      0.000000      0.000000   \n",
       "75%        0.000000      0.000000      0.000000      0.000000      0.000000   \n",
       "max        0.516467      0.756615      0.395116      0.748415      0.658136   \n",
       "\n",
       "                999  \n",
       "count  25765.000000  \n",
       "mean       0.005665  \n",
       "std        0.029002  \n",
       "min        0.000000  \n",
       "25%        0.000000  \n",
       "50%        0.000000  \n",
       "75%        0.000000  \n",
       "max        0.890791  \n",
       "\n",
       "[8 rows x 1000 columns]"
      ]
     },
     "execution_count": 96,
     "metadata": {},
     "output_type": "execute_result"
    }
   ],
   "source": [
    "df_transformed_final.describe()"
   ]
  },
  {
   "cell_type": "code",
   "execution_count": 126,
   "metadata": {
    "collapsed": false
   },
   "outputs": [
    {
     "data": {
      "text/plain": [
       "array([ 0.9654329,  0.       ,  0.       ])"
      ]
     },
     "execution_count": 126,
     "metadata": {},
     "output_type": "execute_result"
    }
   ],
   "source": [
    "np.percentile(array, [25,75])"
   ]
  },
  {
   "cell_type": "code",
   "execution_count": 128,
   "metadata": {
    "collapsed": false
   },
   "outputs": [
    {
     "data": {
      "text/plain": [
       "0.0"
      ]
     },
     "execution_count": 128,
     "metadata": {},
     "output_type": "execute_result"
    }
   ],
   "source": [
    "dict(df_transformed_final[0].describe())[\"25%\"]"
   ]
  },
  {
   "cell_type": "markdown",
   "metadata": {},
   "source": [
    "## Kmeans"
   ]
  },
  {
   "cell_type": "code",
   "execution_count": 97,
   "metadata": {
    "collapsed": true
   },
   "outputs": [],
   "source": [
    "from sklearn.cluster import KMeans"
   ]
  },
  {
   "cell_type": "code",
   "execution_count": 113,
   "metadata": {
    "collapsed": false
   },
   "outputs": [],
   "source": [
    "cl_8 = KMeans(n_clusters = 8)\n",
    "cl_9 = KMeans(n_clusters = 9)\n",
    "cl_10 = KMeans(n_clusters = 10)\n",
    "cl_11 = KMeans(n_clusters = 11)\n",
    "cl_12 = KMeans(n_clusters = 12)\n",
    "cl_13 = KMeans(n_clusters = 13)\n",
    "cl_14 = KMeans(n_clusters = 14)\n",
    "cl_15 = KMeans(n_clusters = 15)\n",
    "cl_16 = KMeans(n_clusters = 16)\n",
    "res_8 = cl_8.fit_predict(df_transformed_final.as_matrix())\n",
    "res_9 = cl_9.fit_predict(df_transformed_final.as_matrix())\n",
    "res_10 = cl_10.fit_predict(df_transformed_final.as_matrix())\n",
    "res_11 = cl_11.fit_predict(df_transformed_final.as_matrix())\n",
    "res_12 = cl_12.fit_predict(df_transformed_final.as_matrix())\n",
    "res_13 = cl_13.fit_predict(df_transformed_final.as_matrix())\n",
    "res_14 = cl_14.fit_predict(df_transformed_final.as_matrix())\n",
    "res_15 = cl_15.fit_predict(df_transformed_final.as_matrix())\n",
    "res_16 = cl_16.fit_predict(df_transformed_final.as_matrix())"
   ]
  },
  {
   "cell_type": "code",
   "execution_count": 130,
   "metadata": {
    "collapsed": false
   },
   "outputs": [
    {
     "data": {
      "text/plain": [
       "12    5958\n",
       "6     3554\n",
       "2     2546\n",
       "7     2106\n",
       "15    2006\n",
       "8     1741\n",
       "10    1139\n",
       "13    1077\n",
       "5     1069\n",
       "9      989\n",
       "4      981\n",
       "1      769\n",
       "0      538\n",
       "14     461\n",
       "3      440\n",
       "11     391\n",
       "dtype: int64"
      ]
     },
     "execution_count": 130,
     "metadata": {},
     "output_type": "execute_result"
    }
   ],
   "source": [
    "pd.Series(res_16).value_counts()"
   ]
  },
  {
   "cell_type": "code",
   "execution_count": 132,
   "metadata": {
    "collapsed": false
   },
   "outputs": [
    {
     "name": "stdout",
     "output_type": "stream",
     "text": [
      "22613.4485879\n",
      "22510.3244576\n",
      "22412.6629726\n",
      "22341.888147\n",
      "22236.4834957\n",
      "22161.8827853\n",
      "22117.3897731\n",
      "22053.0503656\n",
      "21967.0287737\n"
     ]
    }
   ],
   "source": [
    "print cl_8.inertia_\n",
    "print cl_9.inertia_\n",
    "print cl_10.inertia_\n",
    "print cl_11.inertia_\n",
    "print cl_12.inertia_\n",
    "print cl_13.inertia_\n",
    "print cl_14.inertia_\n",
    "print cl_15.inertia_\n",
    "print cl_16.inertia_"
   ]
  },
  {
   "cell_type": "code",
   "execution_count": 100,
   "metadata": {
    "collapsed": true
   },
   "outputs": [],
   "source": [
    "from copy import deepcopy"
   ]
  },
  {
   "cell_type": "code",
   "execution_count": 101,
   "metadata": {
    "collapsed": true
   },
   "outputs": [],
   "source": [
    "df_res = deepcopy(df_label)\n",
    "df_res[\"res\"] = res"
   ]
  },
  {
   "cell_type": "code",
   "execution_count": 112,
   "metadata": {
    "collapsed": false
   },
   "outputs": [
    {
     "data": {
      "text/plain": [
       "zdravy-zivot           462\n",
       "zdravie-a-prevencia    440\n",
       "sex-a-vztahy           400\n",
       "jedlo                  331\n",
       "zdrava-vyziva          274\n",
       "domace                 260\n",
       "krasa-a-moda           125\n",
       "ekonomika              112\n",
       "kniha                   95\n",
       "cestovny-ruch           85\n",
       "rodina                  79\n",
       "komentare-a-glosy       73\n",
       "rady-a-tipy             70\n",
       "zdrava-dusa             66\n",
       "zdravy-relax            50\n",
       "svet                    47\n",
       "regiony                 43\n",
       "spolocnost              41\n",
       "tech                    39\n",
       "magazin                 39\n",
       "dnes-pise               36\n",
       "analyzy-a-postrehy      35\n",
       "rozhovory               35\n",
       "mesta                   34\n",
       "exotika                 32\n",
       "nastrencin              32\n",
       "clovek                  32\n",
       "nasaorava               32\n",
       "novinky                 31\n",
       "zamestnanie             31\n",
       "                      ... \n",
       "mytrencin                8\n",
       "myturiec                 7\n",
       "sport                    7\n",
       "hudba                    6\n",
       "nasaprievidza            5\n",
       "cyklistika               5\n",
       "nasnovohrad              5\n",
       "peniaze-a-paragrafy      4\n",
       "mynitra                  4\n",
       "aktuality                4\n",
       "mykysuce                 4\n",
       "zimne-sporty             4\n",
       "nasabystrica             3\n",
       "kultura                  3\n",
       "nasapovazska             3\n",
       "nasanitra                3\n",
       "nasziar                  3\n",
       "nasazilina               3\n",
       "reprezentacia            3\n",
       "testy                    2\n",
       "domov                    2\n",
       "kosice.korzar            2\n",
       "europska-liga-uefa       2\n",
       "mytrnava                 2\n",
       "mynovohrad               1\n",
       "topolcanyinfo            1\n",
       "nasenovezamky            1\n",
       "nasatrnava               1\n",
       "myzilina                 1\n",
       "myzvolen                 1\n",
       "Name: label, dtype: int64"
      ]
     },
     "execution_count": 112,
     "metadata": {},
     "output_type": "execute_result"
    }
   ],
   "source": [
    "df_res[df_res.res == 9].label.value_counts()"
   ]
  },
  {
   "cell_type": "code",
   "execution_count": null,
   "metadata": {
    "collapsed": true
   },
   "outputs": [],
   "source": []
  },
  {
   "cell_type": "code",
   "execution_count": 84,
   "metadata": {
    "collapsed": false
   },
   "outputs": [
    {
     "data": {
      "text/plain": [
       "svet                       6104\n",
       "ekonomika                  3362\n",
       "domace                     2905\n",
       "novinky                    1074\n",
       "regiony                     636\n",
       "magazin                     569\n",
       "zdravy-zivot                506\n",
       "zdravie-a-prevencia         499\n",
       "sex-a-vztahy                467\n",
       "cestovny-ruch               411\n",
       "jedlo                       385\n",
       "aktuality                   364\n",
       "sport                       328\n",
       "zdrava-vyziva               301\n",
       "kniha                       288\n",
       "mesta                       285\n",
       "komentare-a-glosy           269\n",
       "tenis                       252\n",
       "komentare                   244\n",
       "poradna                     218\n",
       "nastrencin                  215\n",
       "nasaprievidza               215\n",
       "ostatne-sporty              187\n",
       "nasturiec                   174\n",
       "hory                        170\n",
       "krasa-a-moda                165\n",
       "nasanitra                   162\n",
       "zamestnanie                 162\n",
       "nasazilina                  157\n",
       "spolocnost                  157\n",
       "                           ... \n",
       "zvierata-a-rastliny           4\n",
       "poradna-cestovatela           4\n",
       "ms-2017                       4\n",
       "jazdene-auta                  4\n",
       "sporenie-a-investicie         3\n",
       "z-notesa                      3\n",
       "ucty-a-karty                  3\n",
       "gemer.korzar                  3\n",
       "zaujimavosti                  3\n",
       "z-obrazovky-i-spoza-nej       3\n",
       "energie-a-priemysel           3\n",
       "europska-unia                 3\n",
       "hornyzemplin.korzar           2\n",
       "me-2016                       2\n",
       "fici                          2\n",
       "veda-a-technika               2\n",
       "dve-percenta                  2\n",
       "komunalne-volby-2014          1\n",
       "umenie                        1\n",
       "novinky.blog                  1\n",
       "znami-skolaci                 1\n",
       "rozne                         1\n",
       "eurovolby-2014                1\n",
       "uvery-a-lizing                1\n",
       "vianocne-darceky              1\n",
       "obchod-a-podnikanie           1\n",
       "prilohy                       1\n",
       "institucie                    1\n",
       "byvanie                       1\n",
       "poistenie                     1\n",
       "Name: label, dtype: int64"
      ]
     },
     "execution_count": 84,
     "metadata": {},
     "output_type": "execute_result"
    }
   ],
   "source": [
    "df_label.label.value_counts()"
   ]
  },
  {
   "cell_type": "code",
   "execution_count": null,
   "metadata": {
    "collapsed": true
   },
   "outputs": [],
   "source": []
  },
  {
   "cell_type": "code",
   "execution_count": null,
   "metadata": {
    "collapsed": true
   },
   "outputs": [],
   "source": []
  },
  {
   "cell_type": "code",
   "execution_count": null,
   "metadata": {
    "collapsed": true
   },
   "outputs": [],
   "source": []
  },
  {
   "cell_type": "code",
   "execution_count": 133,
   "metadata": {
    "collapsed": true
   },
   "outputs": [],
   "source": [
    "pd.read_csv(\"/Users/jurajkapasny/Data/NBA/players.csv\").to_csv(\n",
    "            \"/Users/jurajkapasny/Data/NBA/players_2.csv\", sep = \";\", index = False)"
   ]
  },
  {
   "cell_type": "code",
   "execution_count": null,
   "metadata": {
    "collapsed": true
   },
   "outputs": [],
   "source": []
  }
 ],
 "metadata": {
  "kernelspec": {
   "display_name": "Python 2",
   "language": "python",
   "name": "python2"
  },
  "language_info": {
   "codemirror_mode": {
    "name": "ipython",
    "version": 2
   },
   "file_extension": ".py",
   "mimetype": "text/x-python",
   "name": "python",
   "nbconvert_exporter": "python",
   "pygments_lexer": "ipython2",
   "version": "2.7.11"
  }
 },
 "nbformat": 4,
 "nbformat_minor": 0
}
