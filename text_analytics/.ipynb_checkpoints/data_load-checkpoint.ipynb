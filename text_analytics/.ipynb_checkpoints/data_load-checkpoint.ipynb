{
 "cells": [
  {
   "cell_type": "code",
   "execution_count": 1,
   "metadata": {
    "collapsed": true
   },
   "outputs": [],
   "source": [
    "import glob\n",
    "import pandas as pd\n",
    "import numpy as np"
   ]
  },
  {
   "cell_type": "code",
   "execution_count": 2,
   "metadata": {
    "collapsed": true
   },
   "outputs": [],
   "source": [
    "data_path = \"/Users/jurajkapasny/Data/sk_text_for_api\""
   ]
  },
  {
   "cell_type": "code",
   "execution_count": 95,
   "metadata": {
    "collapsed": false
   },
   "outputs": [],
   "source": [
    "def load_data(path):\n",
    "    allFiles = glob.glob(path + \"/*.csv\")\n",
    "    print \"Number of files to process: %d\" %len(allFiles)\n",
    "    df = pd.DataFrame()\n",
    "    list_ = []\n",
    "    i = 0\n",
    "    for file_ in allFiles:\n",
    "        if (file_.find(\"articles\") != -1) & (file_.find(\"temo\") == -1):\n",
    "            i = i + 1\n",
    "            if i%50 == 0:\n",
    "                print \"Processing file %d\" %i\n",
    "            temp = pd.read_csv(file_,sep = \"|\",index_col=None, header=0, parse_dates=True, low_memory=False)\n",
    "            list_.append(temp)\n",
    "    df = pd.concat(list_).reset_index(drop = True)\n",
    "    return df"
   ]
  },
  {
   "cell_type": "code",
   "execution_count": 96,
   "metadata": {
    "collapsed": false
   },
   "outputs": [
    {
     "name": "stdout",
     "output_type": "stream",
     "text": [
      "Number of files to process: 166\n",
      "Processing file 50\n",
      "Processing file 100\n",
      "Processing file 150\n"
     ]
    }
   ],
   "source": [
    "df = load_data(data_path)"
   ]
  },
  {
   "cell_type": "code",
   "execution_count": 98,
   "metadata": {
    "collapsed": false
   },
   "outputs": [
    {
     "data": {
      "text/html": [
       "<div>\n",
       "<table border=\"1\" class=\"dataframe\">\n",
       "  <thead>\n",
       "    <tr style=\"text-align: right;\">\n",
       "      <th></th>\n",
       "      <th>label</th>\n",
       "      <th>summary</th>\n",
       "      <th>text</th>\n",
       "    </tr>\n",
       "  </thead>\n",
       "  <tbody>\n",
       "    <tr>\n",
       "      <th>0</th>\n",
       "      <td>NaN</td>\n",
       "      <td>Placebo má 20 rokov, oslavy boli aj v Bratisla...</td>\n",
       "      <td>\\nPozrite si atmosféru z víkendového koncertu ...</td>\n",
       "    </tr>\n",
       "    <tr>\n",
       "      <th>1</th>\n",
       "      <td>NaN</td>\n",
       "      <td>Treba zakázať Uber len preto, že nezapadá do s...</td>\n",
       "      <td>\\nV jednom svete najskôr všetko dovolí parlame...</td>\n",
       "    </tr>\n",
       "    <tr>\n",
       "      <th>2</th>\n",
       "      <td>techbox</td>\n",
       "      <td>Samsung už v minulosti skúšal zaujať SUHD tele...</td>\n",
       "      <td>\\nVerím, že mnohí z vás v tom majú jasno, no u...</td>\n",
       "    </tr>\n",
       "    <tr>\n",
       "      <th>3</th>\n",
       "      <td>NaN</td>\n",
       "      <td>Izrael opäť zaútočil na sýrske vojenské ciele ...</td>\n",
       "      <td>\\n po tom, čo na ním kontrolované Golanské výš...</td>\n",
       "    </tr>\n",
       "    <tr>\n",
       "      <th>4</th>\n",
       "      <td>NaN</td>\n",
       "      <td>Basketbalistky Španielska sa stali víťazkami m...</td>\n",
       "      <td>\\n v Česku. Vo finálovom súboji triumfovali na...</td>\n",
       "    </tr>\n",
       "  </tbody>\n",
       "</table>\n",
       "</div>"
      ],
      "text/plain": [
       "     label                                            summary  \\\n",
       "0      NaN  Placebo má 20 rokov, oslavy boli aj v Bratisla...   \n",
       "1      NaN  Treba zakázať Uber len preto, že nezapadá do s...   \n",
       "2  techbox  Samsung už v minulosti skúšal zaujať SUHD tele...   \n",
       "3      NaN  Izrael opäť zaútočil na sýrske vojenské ciele ...   \n",
       "4      NaN  Basketbalistky Španielska sa stali víťazkami m...   \n",
       "\n",
       "                                                text  \n",
       "0  \\nPozrite si atmosféru z víkendového koncertu ...  \n",
       "1  \\nV jednom svete najskôr všetko dovolí parlame...  \n",
       "2  \\nVerím, že mnohí z vás v tom majú jasno, no u...  \n",
       "3  \\n po tom, čo na ním kontrolované Golanské výš...  \n",
       "4  \\n v Česku. Vo finálovom súboji triumfovali na...  "
      ]
     },
     "execution_count": 98,
     "metadata": {},
     "output_type": "execute_result"
    }
   ],
   "source": [
    "df.head()"
   ]
  },
  {
   "cell_type": "code",
   "execution_count": null,
   "metadata": {
    "collapsed": true
   },
   "outputs": [],
   "source": []
  },
  {
   "cell_type": "code",
   "execution_count": 99,
   "metadata": {
    "collapsed": false
   },
   "outputs": [],
   "source": [
    "df_clean = df[(df.summary.notnull()) & (df.text.notnull())][[\"summary\",\"text\"]]"
   ]
  },
  {
   "cell_type": "code",
   "execution_count": 100,
   "metadata": {
    "collapsed": false
   },
   "outputs": [
    {
     "data": {
      "text/html": [
       "<div>\n",
       "<table border=\"1\" class=\"dataframe\">\n",
       "  <thead>\n",
       "    <tr style=\"text-align: right;\">\n",
       "      <th></th>\n",
       "      <th>summary</th>\n",
       "      <th>text</th>\n",
       "    </tr>\n",
       "  </thead>\n",
       "  <tbody>\n",
       "    <tr>\n",
       "      <th>0</th>\n",
       "      <td>Placebo má 20 rokov, oslavy boli aj v Bratisla...</td>\n",
       "      <td>\\nPozrite si atmosféru z víkendového koncertu ...</td>\n",
       "    </tr>\n",
       "    <tr>\n",
       "      <th>1</th>\n",
       "      <td>Treba zakázať Uber len preto, že nezapadá do s...</td>\n",
       "      <td>\\nV jednom svete najskôr všetko dovolí parlame...</td>\n",
       "    </tr>\n",
       "    <tr>\n",
       "      <th>2</th>\n",
       "      <td>Samsung už v minulosti skúšal zaujať SUHD tele...</td>\n",
       "      <td>\\nVerím, že mnohí z vás v tom majú jasno, no u...</td>\n",
       "    </tr>\n",
       "    <tr>\n",
       "      <th>3</th>\n",
       "      <td>Izrael opäť zaútočil na sýrske vojenské ciele ...</td>\n",
       "      <td>\\n po tom, čo na ním kontrolované Golanské výš...</td>\n",
       "    </tr>\n",
       "    <tr>\n",
       "      <th>4</th>\n",
       "      <td>Basketbalistky Španielska sa stali víťazkami m...</td>\n",
       "      <td>\\n v Česku. Vo finálovom súboji triumfovali na...</td>\n",
       "    </tr>\n",
       "  </tbody>\n",
       "</table>\n",
       "</div>"
      ],
      "text/plain": [
       "                                             summary  \\\n",
       "0  Placebo má 20 rokov, oslavy boli aj v Bratisla...   \n",
       "1  Treba zakázať Uber len preto, že nezapadá do s...   \n",
       "2  Samsung už v minulosti skúšal zaujať SUHD tele...   \n",
       "3  Izrael opäť zaútočil na sýrske vojenské ciele ...   \n",
       "4  Basketbalistky Španielska sa stali víťazkami m...   \n",
       "\n",
       "                                                text  \n",
       "0  \\nPozrite si atmosféru z víkendového koncertu ...  \n",
       "1  \\nV jednom svete najskôr všetko dovolí parlame...  \n",
       "2  \\nVerím, že mnohí z vás v tom majú jasno, no u...  \n",
       "3  \\n po tom, čo na ním kontrolované Golanské výš...  \n",
       "4  \\n v Česku. Vo finálovom súboji triumfovali na...  "
      ]
     },
     "execution_count": 100,
     "metadata": {},
     "output_type": "execute_result"
    }
   ],
   "source": [
    "df_clean.head()"
   ]
  },
  {
   "cell_type": "code",
   "execution_count": 101,
   "metadata": {
    "collapsed": true
   },
   "outputs": [],
   "source": [
    "# text_file = open(\"/Users/jurajkapasny/nltk_data/corpora/stopwords-sk/stopwords-sk.json\", \"r\")\n",
    "# lines = text_file.read()\n",
    "# stopwords_sk = lines.replace('\"','').split(\",\")"
   ]
  },
  {
   "cell_type": "code",
   "execution_count": 102,
   "metadata": {
    "collapsed": true
   },
   "outputs": [],
   "source": [
    "inputs = df_clean.text.str.lower()\n",
    "outputs = df_clean.summary.str.lower()\n",
    "\n",
    "inputs = inputs.str.replace(\",\", \" \")\n",
    "inputs = inputs.str.replace(\"\\n\", \" \")\n",
    "inputs = inputs.str.replace(\":\", \" \")\n",
    "# inputs = inputs.str.replace(\".\", \" \")\n",
    "inputs = inputs.str.replace('\"', \" \")\n",
    "inputs = inputs.str.replace(\"(\", \" \")\n",
    "inputs = inputs.str.replace(\")\", \" \")\n",
    "inputs = inputs.str.replace(\"-\", \" \")\n",
    "inputs = inputs.str.replace(\"“\", \" \")\n",
    "inputs = inputs.str.replace(\"„\", \" \")\n",
    "\n",
    "outputs = outputs.str.replace(\",\", \" \")\n",
    "outputs = outputs.str.replace(\"\\n\", \" \")\n",
    "outputs = outputs.str.replace(\":\", \" \")\n",
    "# outputs = outputs.str.replace(\".\", \" \")\n",
    "outputs = outputs.str.replace('\"', \" \")\n",
    "outputs = outputs.str.replace(\"(\", \" \")\n",
    "outputs = outputs.str.replace(\")\", \" \")\n",
    "outputs = outputs.str.replace(\"-\", \" \")\n",
    "outputs = outputs.str.replace(\"“\", \" \")\n",
    "outputs = outputs.str.replace(\"„\", \" \")"
   ]
  },
  {
   "cell_type": "code",
   "execution_count": 103,
   "metadata": {
    "collapsed": false
   },
   "outputs": [],
   "source": [
    "df_clean.text = inputs\n",
    "df_clean.summary = outputs"
   ]
  },
  {
   "cell_type": "code",
   "execution_count": 104,
   "metadata": {
    "collapsed": false
   },
   "outputs": [
    {
     "data": {
      "text/html": [
       "<div>\n",
       "<table border=\"1\" class=\"dataframe\">\n",
       "  <thead>\n",
       "    <tr style=\"text-align: right;\">\n",
       "      <th></th>\n",
       "      <th>summary</th>\n",
       "      <th>text</th>\n",
       "    </tr>\n",
       "  </thead>\n",
       "  <tbody>\n",
       "    <tr>\n",
       "      <th>0</th>\n",
       "      <td>placebo má 20 rokov  oslavy boli aj v bratisla...</td>\n",
       "      <td>pozrite si atmosféru z víkendového koncertu s...</td>\n",
       "    </tr>\n",
       "    <tr>\n",
       "      <th>1</th>\n",
       "      <td>treba zakázať uber len preto  že nezapadá do s...</td>\n",
       "      <td>v jednom svete najskôr všetko dovolí parlamen...</td>\n",
       "    </tr>\n",
       "    <tr>\n",
       "      <th>2</th>\n",
       "      <td>samsung už v minulosti skúšal zaujať suhd tele...</td>\n",
       "      <td>verím  že mnohí z vás v tom majú jasno  no ur...</td>\n",
       "    </tr>\n",
       "    <tr>\n",
       "      <th>3</th>\n",
       "      <td>izrael opäť zaútočil na sýrske vojenské ciele ...</td>\n",
       "      <td>po tom  čo na ním kontrolované golanské výši...</td>\n",
       "    </tr>\n",
       "    <tr>\n",
       "      <th>4</th>\n",
       "      <td>basketbalistky Španielska sa stali víťazkami m...</td>\n",
       "      <td>v Česku. vo finálovom súboji triumfovali nad...</td>\n",
       "    </tr>\n",
       "    <tr>\n",
       "      <th>5</th>\n",
       "      <td>google končí s prehliadaním správ v gmaili za ...</td>\n",
       "      <td>gmail na prispôsobenie reklamy používa prehli...</td>\n",
       "    </tr>\n",
       "    <tr>\n",
       "      <th>6</th>\n",
       "      <td>taliansky futbalový útočník mario balotelli pr...</td>\n",
       "      <td>. s účastníkom francúzskej ligue 1 sa dohodol...</td>\n",
       "    </tr>\n",
       "    <tr>\n",
       "      <th>7</th>\n",
       "      <td>voľby v albánsku vyhrali podľa odhadov vládni ...</td>\n",
       "      <td>. socialistická strana  ps  získala 45 až 49 ...</td>\n",
       "    </tr>\n",
       "    <tr>\n",
       "      <th>8</th>\n",
       "      <td>záujem o osobné bankroty je veľký. centrum prá...</td>\n",
       "      <td>nové pravidlá osobného bankrotu zaujali tisíc...</td>\n",
       "    </tr>\n",
       "    <tr>\n",
       "      <th>9</th>\n",
       "      <td>za vytvorením svetovo známeho youtube stoja dv...</td>\n",
       "      <td>len máloktorá firma zmenila svet internetu  m...</td>\n",
       "    </tr>\n",
       "    <tr>\n",
       "      <th>10</th>\n",
       "      <td>slovenské družstvo si na majstrovstvách európy...</td>\n",
       "      <td>. o ten sa zaslúžil aj šprintér ján volko  kt...</td>\n",
       "    </tr>\n",
       "    <tr>\n",
       "      <th>11</th>\n",
       "      <td>sns chce obmedziť predaj pôdy   slovenský poze...</td>\n",
       "      <td>1. fico si robí videá so psom  deti zveril ri...</td>\n",
       "    </tr>\n",
       "    <tr>\n",
       "      <th>12</th>\n",
       "      <td>Štrajk vo volkswagene sa končí. moderné odbory...</td>\n",
       "      <td>zamestnanci nastúpia do práce v pondelok ráno...</td>\n",
       "    </tr>\n",
       "    <tr>\n",
       "      <th>14</th>\n",
       "      <td>slovenskí reprezentanti v inline hokeji prehra...</td>\n",
       "      <td>v prvom zápase ms v bratislave  s usa 1 8. sl...</td>\n",
       "    </tr>\n",
       "    <tr>\n",
       "      <th>16</th>\n",
       "      <td>futbalisti nemecka postúpili do semifinále poh...</td>\n",
       "      <td>. v nedeľu si poradili s kamerunom 3 1 zásluh...</td>\n",
       "    </tr>\n",
       "    <tr>\n",
       "      <th>17</th>\n",
       "      <td>prečo sú ženské bradavky stále tabu  keď putin...</td>\n",
       "      <td>nahá mužská hruď sa  oslobodila  až príliš a ...</td>\n",
       "    </tr>\n",
       "    <tr>\n",
       "      <th>18</th>\n",
       "      <td>turecká polícia bráni aktivistom za práva lgbt...</td>\n",
       "      <td>v istanbule. aktivisti sa rozhodli uskutočni...</td>\n",
       "    </tr>\n",
       "    <tr>\n",
       "      <th>19</th>\n",
       "      <td>určite tam je smútok  prevláda sklamanie. na h...</td>\n",
       "      <td>povedal tréner pavel hapal po návrate futba...</td>\n",
       "    </tr>\n",
       "    <tr>\n",
       "      <th>20</th>\n",
       "      <td>európska centrálna banka rozhodla o likvidácii...</td>\n",
       "      <td>banca popolare di vicenza a veneto banca pod...</td>\n",
       "    </tr>\n",
       "    <tr>\n",
       "      <th>21</th>\n",
       "      <td>tisíce odporcov jadrovej energie z nemecka  ho...</td>\n",
       "      <td>doel a tihange. Účastníci žiadali okamžité o...</td>\n",
       "    </tr>\n",
       "    <tr>\n",
       "      <th>22</th>\n",
       "      <td>svetová zdravotnícka organizácia dostáva časté...</td>\n",
       "      <td>svetová zdravotnícka organizácia dostáva čast...</td>\n",
       "    </tr>\n",
       "    <tr>\n",
       "      <th>23</th>\n",
       "      <td>centrum ďalšieho vzdelávania na univerzite kom...</td>\n",
       "      <td>je to zlá stredná škola  hovoria bývalí lekto...</td>\n",
       "    </tr>\n",
       "    <tr>\n",
       "      <th>24</th>\n",
       "      <td>austrálsky jazdec red bullu daniel ricciardo t...</td>\n",
       "      <td>motoristickej f1. na druhom stupienku skonči...</td>\n",
       "    </tr>\n",
       "    <tr>\n",
       "      <th>25</th>\n",
       "      <td>jozef sollár zažil násilnú kolektivizáciu. pri...</td>\n",
       "      <td>kone otca jozefa sollára boli vychýrené. jedn...</td>\n",
       "    </tr>\n",
       "    <tr>\n",
       "      <th>26</th>\n",
       "      <td>slovenská tenistka magdaléna rybáriková sa sta...</td>\n",
       "      <td>v najnovšom vydaní svetového rebríčka sa tak...</td>\n",
       "    </tr>\n",
       "    <tr>\n",
       "      <th>27</th>\n",
       "      <td>robert fico je rozčarovaný zo spôsobu  akým bo...</td>\n",
       "      <td>veľmi ho znepokojuje  že výsledok zápasu nem...</td>\n",
       "    </tr>\n",
       "    <tr>\n",
       "      <th>30</th>\n",
       "      <td>juraj sagan obhájil na cestách v okolí Žiaru n...</td>\n",
       "      <td>juraj sagan obhájil na cestách v okolí Žiaru ...</td>\n",
       "    </tr>\n",
       "    <tr>\n",
       "      <th>31</th>\n",
       "      <td>barack obama vraj vedel o ruskom zasahovaní do...</td>\n",
       "      <td>donald trump mu vyčíta  že proti nemu nezak...</td>\n",
       "    </tr>\n",
       "    <tr>\n",
       "      <th>32</th>\n",
       "      <td>slovenskí futbalisti do 21 rokov nepostúpili d...</td>\n",
       "      <td>slovenskí futbalisti do 21 rokov nepostúpili ...</td>\n",
       "    </tr>\n",
       "    <tr>\n",
       "      <th>33</th>\n",
       "      <td>vodca britských labouristov jeremy corbyn sa c...</td>\n",
       "      <td>. v piatok v prieskumoch opozičný líder prvýk...</td>\n",
       "    </tr>\n",
       "    <tr>\n",
       "      <th>...</th>\n",
       "      <td>...</td>\n",
       "      <td>...</td>\n",
       "    </tr>\n",
       "    <tr>\n",
       "      <th>29234</th>\n",
       "      <td>sú senzáciou našej ligy  za odmenu mávajú opek...</td>\n",
       "      <td>v prvej lige pôvodne nemala byť  postúpila z ...</td>\n",
       "    </tr>\n",
       "    <tr>\n",
       "      <th>29235</th>\n",
       "      <td>o čom je vlastne eurofico                     ...</td>\n",
       "      <td>samozrejme  že rozumieme pobúreniu tých  ktor...</td>\n",
       "    </tr>\n",
       "    <tr>\n",
       "      <th>29236</th>\n",
       "      <td>macronov slavkovský klin</td>\n",
       "      <td>takzvaný slavkovský trojuholník – rakúsko  Če...</td>\n",
       "    </tr>\n",
       "    <tr>\n",
       "      <th>29237</th>\n",
       "      <td>zorjan si odsedel za protest proti okupácii Čs...</td>\n",
       "      <td>automobil zastavil pred domom. babička sa zam...</td>\n",
       "    </tr>\n",
       "    <tr>\n",
       "      <th>29238</th>\n",
       "      <td>keď sa z turecka ozývajú táraniny  Únia by ich...</td>\n",
       "      <td>erdogan pridal ďalší záznam do zložky s názvo...</td>\n",
       "    </tr>\n",
       "    <tr>\n",
       "      <th>29239</th>\n",
       "      <td>hollywood funguje na zahmlenom účtovníctve. bú...</td>\n",
       "      <td>bratislava. radšej budem dovážať brandy z bol...</td>\n",
       "    </tr>\n",
       "    <tr>\n",
       "      <th>29240</th>\n",
       "      <td>dostali drsnú školu. súčasní výtvarníci vracaj...</td>\n",
       "      <td>bratislava. boli pri tom  keď sa menil režim ...</td>\n",
       "    </tr>\n",
       "    <tr>\n",
       "      <th>29241</th>\n",
       "      <td>aj vrahovia počúvajú hudbu. z hudobníkov robia...</td>\n",
       "      <td>bratislava. jeho hudba nemá s násilím nič spo...</td>\n",
       "    </tr>\n",
       "    <tr>\n",
       "      <th>29242</th>\n",
       "      <td>rozhovory s katom  recenzia knihy             ...</td>\n",
       "      <td>ak ste príslušníkom poľskej krajinskej armády...</td>\n",
       "    </tr>\n",
       "    <tr>\n",
       "      <th>29243</th>\n",
       "      <td>totožnosť utopeného mladého muža už zistili  i...</td>\n",
       "      <td>brezno. na hladine jazera pri krpáčove našli ...</td>\n",
       "    </tr>\n",
       "    <tr>\n",
       "      <th>29244</th>\n",
       "      <td>stal sa nohami svojho syna</td>\n",
       "      <td>brezno. jedného dňa sa rozhodol  že sa stane ...</td>\n",
       "    </tr>\n",
       "    <tr>\n",
       "      <th>29245</th>\n",
       "      <td>kotlebovu jazdu vyprevadili z bystrice transpa...</td>\n",
       "      <td>banskÁ bystrica. skupina občanov banskobystri...</td>\n",
       "    </tr>\n",
       "    <tr>\n",
       "      <th>29246</th>\n",
       "      <td>príčiny pádu vrtuľníka pri strelníkoch sú už z...</td>\n",
       "      <td>strelnÍky. príčiny pádu vrtuľníka bell 429 om...</td>\n",
       "    </tr>\n",
       "    <tr>\n",
       "      <th>29247</th>\n",
       "      <td>aktualizovanÉ  vieme  kto to je  otrasný nález...</td>\n",
       "      <td>krpÁČovo. otrasný nález v rekreačnej oblasti ...</td>\n",
       "    </tr>\n",
       "    <tr>\n",
       "      <th>29248</th>\n",
       "      <td>keď sovieti okupovali liptovský mikuláš</td>\n",
       "      <td>liptovskÝ mikulÁŠ. pražská jar  takto histori...</td>\n",
       "    </tr>\n",
       "    <tr>\n",
       "      <th>29249</th>\n",
       "      <td>tri dni plné hudby a zábavy. v lučenci sa hodo...</td>\n",
       "      <td>luČenec. uplynulý týždeň patril v centre novo...</td>\n",
       "    </tr>\n",
       "    <tr>\n",
       "      <th>29250</th>\n",
       "      <td>talentu z lučenca strúhajú poklony vo viedni a...</td>\n",
       "      <td>luČenec. obrovský talent 16 ročného rodáka z ...</td>\n",
       "    </tr>\n",
       "    <tr>\n",
       "      <th>29251</th>\n",
       "      <td>hľadajú muža  ktorý má byť vo väzení</td>\n",
       "      <td>krupina. polícia žiada o pomoc pri pátraní po...</td>\n",
       "    </tr>\n",
       "    <tr>\n",
       "      <th>29252</th>\n",
       "      <td>Čiara                ...</td>\n",
       "      <td>scenÁr  peter balko  dramaturgia  zuzana gind...</td>\n",
       "    </tr>\n",
       "    <tr>\n",
       "      <th>29253</th>\n",
       "      <td>zabijakov osobný strá...</td>\n",
       "      <td>hrajú  ryan reynolds  samuel l. jackson  gary...</td>\n",
       "    </tr>\n",
       "    <tr>\n",
       "      <th>29254</th>\n",
       "      <td>novy cestny most a stavebny o...</td>\n",
       "      <td>novy cestny most. je v prevadzke uz nejaky t...</td>\n",
       "    </tr>\n",
       "    <tr>\n",
       "      <th>29255</th>\n",
       "      <td>treba vybudovať kruhovú križo...</td>\n",
       "      <td>nie je možné sa bezpečne dostať na cestu 1.t...</td>\n",
       "    </tr>\n",
       "    <tr>\n",
       "      <th>29256</th>\n",
       "      <td>s polom narazili do plotu a prevrátili sa  mla...</td>\n",
       "      <td>ŠamorÍn. polícia vyšetruje okolnosti a príčin...</td>\n",
       "    </tr>\n",
       "    <tr>\n",
       "      <th>29257</th>\n",
       "      <td>august 1968  trnavské ulice boli plné tankov +...</td>\n",
       "      <td>Článok bol pôvodne publikovaný v my trnavskýc...</td>\n",
       "    </tr>\n",
       "    <tr>\n",
       "      <th>29258</th>\n",
       "      <td>regióny okolo atómky čaká opäť výmena jódových...</td>\n",
       "      <td>trnava. tabletám jodidu draselného  dodaným p...</td>\n",
       "    </tr>\n",
       "    <tr>\n",
       "      <th>29259</th>\n",
       "      <td>dnešní tínedžeri vidia na internete súlož skôr...</td>\n",
       "      <td>trnava. rapídny nárast pacientov  taká je rea...</td>\n",
       "    </tr>\n",
       "    <tr>\n",
       "      <th>29260</th>\n",
       "      <td>ministerstvu došla trpezlivosť. galante hrozí ...</td>\n",
       "      <td>galanta. ministerstvu hospodárstva došla v pr...</td>\n",
       "    </tr>\n",
       "    <tr>\n",
       "      <th>29261</th>\n",
       "      <td>odišla legenda šalianskej hádzanej</td>\n",
       "      <td>bývalý manažér hk slovan duslo Šaľa ladislav ...</td>\n",
       "    </tr>\n",
       "    <tr>\n",
       "      <th>29262</th>\n",
       "      <td>dnes štartuje vyšehradský pohár</td>\n",
       "      <td>hokejistov nitry čaká po turnaji vo Švajčiars...</td>\n",
       "    </tr>\n",
       "    <tr>\n",
       "      <th>29263</th>\n",
       "      <td>zomrel ludvik Šesták  veterán druhej svetovej ...</td>\n",
       "      <td>lehota pod vtÁČnikom. rodák z malej hornonitr...</td>\n",
       "    </tr>\n",
       "  </tbody>\n",
       "</table>\n",
       "<p>28214 rows × 2 columns</p>\n",
       "</div>"
      ],
      "text/plain": [
       "                                                 summary  \\\n",
       "0      placebo má 20 rokov  oslavy boli aj v bratisla...   \n",
       "1      treba zakázať uber len preto  že nezapadá do s...   \n",
       "2      samsung už v minulosti skúšal zaujať suhd tele...   \n",
       "3      izrael opäť zaútočil na sýrske vojenské ciele ...   \n",
       "4      basketbalistky Španielska sa stali víťazkami m...   \n",
       "5      google končí s prehliadaním správ v gmaili za ...   \n",
       "6      taliansky futbalový útočník mario balotelli pr...   \n",
       "7      voľby v albánsku vyhrali podľa odhadov vládni ...   \n",
       "8      záujem o osobné bankroty je veľký. centrum prá...   \n",
       "9      za vytvorením svetovo známeho youtube stoja dv...   \n",
       "10     slovenské družstvo si na majstrovstvách európy...   \n",
       "11     sns chce obmedziť predaj pôdy   slovenský poze...   \n",
       "12     Štrajk vo volkswagene sa končí. moderné odbory...   \n",
       "14     slovenskí reprezentanti v inline hokeji prehra...   \n",
       "16     futbalisti nemecka postúpili do semifinále poh...   \n",
       "17     prečo sú ženské bradavky stále tabu  keď putin...   \n",
       "18     turecká polícia bráni aktivistom za práva lgbt...   \n",
       "19     určite tam je smútok  prevláda sklamanie. na h...   \n",
       "20     európska centrálna banka rozhodla o likvidácii...   \n",
       "21     tisíce odporcov jadrovej energie z nemecka  ho...   \n",
       "22     svetová zdravotnícka organizácia dostáva časté...   \n",
       "23     centrum ďalšieho vzdelávania na univerzite kom...   \n",
       "24     austrálsky jazdec red bullu daniel ricciardo t...   \n",
       "25     jozef sollár zažil násilnú kolektivizáciu. pri...   \n",
       "26     slovenská tenistka magdaléna rybáriková sa sta...   \n",
       "27     robert fico je rozčarovaný zo spôsobu  akým bo...   \n",
       "30     juraj sagan obhájil na cestách v okolí Žiaru n...   \n",
       "31     barack obama vraj vedel o ruskom zasahovaní do...   \n",
       "32     slovenskí futbalisti do 21 rokov nepostúpili d...   \n",
       "33     vodca britských labouristov jeremy corbyn sa c...   \n",
       "...                                                  ...   \n",
       "29234  sú senzáciou našej ligy  za odmenu mávajú opek...   \n",
       "29235  o čom je vlastne eurofico                     ...   \n",
       "29236  macronov slavkovský klin                            \n",
       "29237  zorjan si odsedel za protest proti okupácii Čs...   \n",
       "29238  keď sa z turecka ozývajú táraniny  Únia by ich...   \n",
       "29239  hollywood funguje na zahmlenom účtovníctve. bú...   \n",
       "29240  dostali drsnú školu. súčasní výtvarníci vracaj...   \n",
       "29241  aj vrahovia počúvajú hudbu. z hudobníkov robia...   \n",
       "29242  rozhovory s katom  recenzia knihy             ...   \n",
       "29243  totožnosť utopeného mladého muža už zistili  i...   \n",
       "29244                         stal sa nohami svojho syna   \n",
       "29245  kotlebovu jazdu vyprevadili z bystrice transpa...   \n",
       "29246  príčiny pádu vrtuľníka pri strelníkoch sú už z...   \n",
       "29247  aktualizovanÉ  vieme  kto to je  otrasný nález...   \n",
       "29248            keď sovieti okupovali liptovský mikuláš   \n",
       "29249  tri dni plné hudby a zábavy. v lučenci sa hodo...   \n",
       "29250  talentu z lučenca strúhajú poklony vo viedni a...   \n",
       "29251               hľadajú muža  ktorý má byť vo väzení   \n",
       "29252                           Čiara                ...   \n",
       "29253                           zabijakov osobný strá...   \n",
       "29254                   novy cestny most a stavebny o...   \n",
       "29255                   treba vybudovať kruhovú križo...   \n",
       "29256  s polom narazili do plotu a prevrátili sa  mla...   \n",
       "29257  august 1968  trnavské ulice boli plné tankov +...   \n",
       "29258  regióny okolo atómky čaká opäť výmena jódových...   \n",
       "29259  dnešní tínedžeri vidia na internete súlož skôr...   \n",
       "29260  ministerstvu došla trpezlivosť. galante hrozí ...   \n",
       "29261                 odišla legenda šalianskej hádzanej   \n",
       "29262                    dnes štartuje vyšehradský pohár   \n",
       "29263  zomrel ludvik Šesták  veterán druhej svetovej ...   \n",
       "\n",
       "                                                    text  \n",
       "0       pozrite si atmosféru z víkendového koncertu s...  \n",
       "1       v jednom svete najskôr všetko dovolí parlamen...  \n",
       "2       verím  že mnohí z vás v tom majú jasno  no ur...  \n",
       "3        po tom  čo na ním kontrolované golanské výši...  \n",
       "4        v Česku. vo finálovom súboji triumfovali nad...  \n",
       "5       gmail na prispôsobenie reklamy používa prehli...  \n",
       "6       . s účastníkom francúzskej ligue 1 sa dohodol...  \n",
       "7       . socialistická strana  ps  získala 45 až 49 ...  \n",
       "8       nové pravidlá osobného bankrotu zaujali tisíc...  \n",
       "9       len máloktorá firma zmenila svet internetu  m...  \n",
       "10      . o ten sa zaslúžil aj šprintér ján volko  kt...  \n",
       "11      1. fico si robí videá so psom  deti zveril ri...  \n",
       "12      zamestnanci nastúpia do práce v pondelok ráno...  \n",
       "14      v prvom zápase ms v bratislave  s usa 1 8. sl...  \n",
       "16      . v nedeľu si poradili s kamerunom 3 1 zásluh...  \n",
       "17      nahá mužská hruď sa  oslobodila  až príliš a ...  \n",
       "18       v istanbule. aktivisti sa rozhodli uskutočni...  \n",
       "19        povedal tréner pavel hapal po návrate futba...  \n",
       "20       banca popolare di vicenza a veneto banca pod...  \n",
       "21       doel a tihange. Účastníci žiadali okamžité o...  \n",
       "22      svetová zdravotnícka organizácia dostáva čast...  \n",
       "23      je to zlá stredná škola  hovoria bývalí lekto...  \n",
       "24       motoristickej f1. na druhom stupienku skonči...  \n",
       "25      kone otca jozefa sollára boli vychýrené. jedn...  \n",
       "26       v najnovšom vydaní svetového rebríčka sa tak...  \n",
       "27       veľmi ho znepokojuje  že výsledok zápasu nem...  \n",
       "30      juraj sagan obhájil na cestách v okolí Žiaru ...  \n",
       "31        donald trump mu vyčíta  že proti nemu nezak...  \n",
       "32      slovenskí futbalisti do 21 rokov nepostúpili ...  \n",
       "33      . v piatok v prieskumoch opozičný líder prvýk...  \n",
       "...                                                  ...  \n",
       "29234   v prvej lige pôvodne nemala byť  postúpila z ...  \n",
       "29235   samozrejme  že rozumieme pobúreniu tých  ktor...  \n",
       "29236   takzvaný slavkovský trojuholník – rakúsko  Če...  \n",
       "29237   automobil zastavil pred domom. babička sa zam...  \n",
       "29238   erdogan pridal ďalší záznam do zložky s názvo...  \n",
       "29239   bratislava. radšej budem dovážať brandy z bol...  \n",
       "29240   bratislava. boli pri tom  keď sa menil režim ...  \n",
       "29241   bratislava. jeho hudba nemá s násilím nič spo...  \n",
       "29242   ak ste príslušníkom poľskej krajinskej armády...  \n",
       "29243   brezno. na hladine jazera pri krpáčove našli ...  \n",
       "29244   brezno. jedného dňa sa rozhodol  že sa stane ...  \n",
       "29245   banskÁ bystrica. skupina občanov banskobystri...  \n",
       "29246   strelnÍky. príčiny pádu vrtuľníka bell 429 om...  \n",
       "29247   krpÁČovo. otrasný nález v rekreačnej oblasti ...  \n",
       "29248   liptovskÝ mikulÁŠ. pražská jar  takto histori...  \n",
       "29249   luČenec. uplynulý týždeň patril v centre novo...  \n",
       "29250   luČenec. obrovský talent 16 ročného rodáka z ...  \n",
       "29251   krupina. polícia žiada o pomoc pri pátraní po...  \n",
       "29252   scenÁr  peter balko  dramaturgia  zuzana gind...  \n",
       "29253   hrajú  ryan reynolds  samuel l. jackson  gary...  \n",
       "29254    novy cestny most. je v prevadzke uz nejaky t...  \n",
       "29255    nie je možné sa bezpečne dostať na cestu 1.t...  \n",
       "29256   ŠamorÍn. polícia vyšetruje okolnosti a príčin...  \n",
       "29257   Článok bol pôvodne publikovaný v my trnavskýc...  \n",
       "29258   trnava. tabletám jodidu draselného  dodaným p...  \n",
       "29259   trnava. rapídny nárast pacientov  taká je rea...  \n",
       "29260   galanta. ministerstvu hospodárstva došla v pr...  \n",
       "29261   bývalý manažér hk slovan duslo Šaľa ladislav ...  \n",
       "29262   hokejistov nitry čaká po turnaji vo Švajčiars...  \n",
       "29263   lehota pod vtÁČnikom. rodák z malej hornonitr...  \n",
       "\n",
       "[28214 rows x 2 columns]"
      ]
     },
     "execution_count": 104,
     "metadata": {},
     "output_type": "execute_result"
    }
   ],
   "source": [
    "df_clean"
   ]
  },
  {
   "cell_type": "code",
   "execution_count": 105,
   "metadata": {
    "collapsed": false
   },
   "outputs": [
    {
     "data": {
      "text/plain": [
       "28214"
      ]
     },
     "execution_count": 105,
     "metadata": {},
     "output_type": "execute_result"
    }
   ],
   "source": [
    "len(df_clean.text.str.split(\".\"))"
   ]
  },
  {
   "cell_type": "code",
   "execution_count": 122,
   "metadata": {
    "collapsed": false
   },
   "outputs": [
    {
     "data": {
      "text/plain": [
       "' v\\xc2\\xa0jednom svete najsk\\xc3\\xb4r v\\xc5\\xa1etko dovol\\xc3\\xad parlament a\\xc2\\xa0a\\xc5\\xbe po tom sa to stane'"
      ]
     },
     "execution_count": 122,
     "metadata": {},
     "output_type": "execute_result"
    }
   ],
   "source": [
    "df_clean.text.str.split(\".\")[1][0]"
   ]
  },
  {
   "cell_type": "markdown",
   "metadata": {},
   "source": [
    "### Write down texts into the file!!"
   ]
  },
  {
   "cell_type": "code",
   "execution_count": 167,
   "metadata": {
    "collapsed": false
   },
   "outputs": [],
   "source": [
    "for i in list(df_clean.index)[0:4]:\n",
    "    temp = df_clean.loc[i,:]\n",
    "    \n",
    "    inside_text = \"\"\n",
    "    for sentence in temp[\"text\"].split(\".\"):\n",
    "        inside_text = inside_text + \"\\n \\t <s> \"+sentence.strip() + \" </s>\"\n",
    "        \n",
    "    abstract = \"\"\n",
    "    for sentence in temp[\"summary\"].split(\".\"):\n",
    "        abstract = abstract + \"\\n  \\t <s> \"+sentence.strip() + \" </s>\"\n",
    "    \n",
    "    text = \"\"\"\n",
    "article=<d>\n",
    "    <p>\"\"\" + inside_text + \"\"\"\n",
    "    </p> \n",
    "</d>\n",
    "\n",
    "abstract=<d> \n",
    "    <p>\"\"\" + abstract + \"\"\"\n",
    "    </p> \n",
    "</d>\n",
    "\"\"\"\n",
    "    text_file = open(\"/Users/jurajkapasny/Desktop/input_text.txt\", \"a\")\n",
    "    text_file.write(text)\n",
    "    text_file.close()"
   ]
  },
  {
   "cell_type": "code",
   "execution_count": 165,
   "metadata": {
    "collapsed": false
   },
   "outputs": [
    {
     "name": "stdout",
     "output_type": "stream",
     "text": [
      "\n",
      "article=<d>\n",
      "    <p>\n",
      " \t <s> po tom  čo na ním kontrolované golanské výšiny dopadlo niekoľko delostreleckých granátov </s>\n",
      " \t <s> sýrske granáty zasiahli otvorenú krajinu na severe golanských výšin a nikoho nezranili </s>\n",
      " \t <s> izrael v odplate zasiahol dve delostrelecké pozície a nákladný automobil s muníciou patriaci sýrskemu režimu  informovala izraelská armáda </s>\n",
      " \t <s> sýrska armáda neskôr potvrdila  že izrael zasiahol jednu z jej základní </s>\n",
      " \t <s> čtk  reuters  voľby v albánsku vyhrali podľa odhadov vládni socialisti </s>\n",
      " \t <s> socialistická strana  ps  získala 45 až 49 percent hlasov </s>\n",
      " \t <s> opozičná demokratická strana  pd  dosiahne 30 až 34 percent hlasov </s>\n",
      " \t <s> za vytvorením svetovo známeho youtube stoja dve historky   prvá je pragmatická  druhá sexistická </s>\n",
      " \t <s> Či to bolo tak či onak  bez trojice mladých zamestnancov paypalu by sme asi nikdy nevideli toľko videí čo v súčasnosti </s>\n",
      " \t <s> techbox  protipožiarnym testom v anglicku doteraz nevyhovelo 60 výškových budov v 25 samosprávnych oblastiach </s>\n",
      " \t <s> oznámila to vláda  ktorá preveruje bezpečnosť zhruba 600 vežiakov v celom anglicku po tragickom požiari bytového domu v londýne </s>\n",
      " \t <s> bbc  prečo sú ženské bradavky stále tabu  keď putin a trudeau chodia pokojne hore bez? faktom je  že donedávna museli mať zahalenú hruď aj muži </s>\n",
      " \t <s>  ešte v roku 1947 zatkli v central parku muža  čo sedel v tráve bez košele a tielka </s>\n",
      " \t <s> turecká polícia bráni aktivistom za práva lgbt  aby sa zišli na námestí taksim v istanbule </s>\n",
      " \t <s> aktivisti sa rozhodli uskutočniť svoje zhromaždenie aj napriek zákazu </s>\n",
      " \t <s> sedem ľudí zomrelo pri nehode lanovky v stredisku gulmarg v indickej časti kašmíru </s>\n",
      " \t <s> na jednu z kabín lanovky spadol strom a kabína sa zrútila z výšky najmenej 30 metrov </s>\n",
      " \t <s> čtk </s>\n",
      "    </p> \n",
      "</d>\n",
      "\n",
      "abstract=<d> \n",
      "    <p>\n",
      "  \t <s> izrael opäť zaútočil na sýrske vojenské ciele po tom  čo na ním kontrolované golanské výšiny dopadlo niekoľko delostreleckých granátov </s>\n",
      "  \t <s>  </s>\n",
      "    </p> \n",
      "</d>\n",
      "\n"
     ]
    }
   ],
   "source": [
    "print text"
   ]
  },
  {
   "cell_type": "code",
   "execution_count": 141,
   "metadata": {
    "collapsed": false
   },
   "outputs": [
    {
     "name": "stdout",
     "output_type": "stream",
     "text": [
      "article=<d>\n",
      "    <p> \n",
      "\n",
      "    \n"
     ]
    }
   ],
   "source": [
    "print text"
   ]
  },
  {
   "cell_type": "code",
   "execution_count": 131,
   "metadata": {
    "collapsed": false
   },
   "outputs": [
    {
     "data": {
      "text/plain": [
       "[' lehota pod vt\\xc3\\x81\\xc4\\x8cnikom',\n",
       " ' rod\\xc3\\xa1k z malej hornonitrianskej obce  brig\\xc3\\xa1dny gener\\xc3\\xa1l a vojensk\\xc3\\xbd veter\\xc3\\xa1n ludvik \\xc5\\xa0est\\xc3\\xa1k zomrel',\n",
       " ' ned\\xc3\\xa1vno  6',\n",
       " ' augusta 2017 osl\\xc3\\xa1vil svoje dev\\xc3\\xa4\\xc5\\xa5desiate\\xc5\\xa1ieste narodeniny',\n",
       " '  umrel v domove soci\\xc3\\xa1lnych slu\\xc5\\xbeieb v jacovciach po mozgovej pr\\xc3\\xadhode   povedala helena kurnasov\\xc3\\xa1  matrik\\xc3\\xa1rka z miestneho obecn\\xc3\\xa9ho \\xc3\\xbaradu',\n",
       " ' pod\\xc4\\xbea webovej str\\xc3\\xa1nky bezpe\\xc4\\x8dnostn\\xc3\\xbdch zlo\\xc5\\xbeiek zbehol v roku 1944 so svojimi podriaden\\xc3\\xbdmi z arm\\xc3\\xa1dy slovensk\\xc3\\xa9ho \\xc5\\xa1t\\xc3\\xa1tu',\n",
       " ' po kr\\xc3\\xa1tkej intern\\xc3\\xa1cii \\xc4\\x8cervenou arm\\xc3\\xa1dou sa stal pr\\xc3\\xadslu\\xc5\\xa1n\\xc3\\xadkom mechanizovan\\xc3\\xa9ho pr\\xc3\\xa1poru prvej \\xc4\\x8deskoslovenskej samostatnej brig\\xc3\\xa1dy prv\\xc3\\xa9ho \\xc4\\x8deskoslovensk\\xc3\\xa9ho arm\\xc3\\xa1dneho zboru v sovietskom zv\\xc3\\xa4ze vo funkcii samopaln\\xc3\\xadka tankov\\xc3\\xa9ho desantu',\n",
       " ' akt\\xc3\\xadvne sa z\\xc3\\xba\\xc4\\x8dastnil bojov o dukelsk\\xc3\\xbd priesmyk  kde bol i \\xc5\\xa5a\\xc5\\xbeko zranen\\xc3\\xbd',\n",
       " ' bol nosite\\xc4\\xbeom vyznamenan\\xc3\\xad \\xc4\\x8deskoslovensk\\xc3\\xa9ho vojnov\\xc3\\xa9ho kr\\xc3\\xad\\xc5\\xbea 1939  radom \\xc4\\x8dervenej hviezdy a v roku 2015 bol inaugurovan\\xc3\\xbd do rytierskeho stavu za rytiera delostrelectva',\n",
       " ' v roku 2016 ho prezident republiky vymenoval brig\\xc3\\xa1dnym gener\\xc3\\xa1lom vo v\\xc3\\xbdslu\\xc5\\xbebe',\n",
       " ' pohreb v\\xc3\\xbdznamn\\xc3\\xa9ho lehotsk\\xc3\\xa9ho rod\\xc3\\xa1ka so v\\xc5\\xa1etk\\xc3\\xbdmi vojensk\\xc3\\xbdmi poctami bude 24',\n",
       " ' augusta 2017 o 14',\n",
       " ' h',\n",
       " ' na cintor\\xc3\\xadne v lehote pod vt\\xc3\\xa1\\xc4\\x8dnikom',\n",
       " '     ']"
      ]
     },
     "execution_count": 131,
     "metadata": {},
     "output_type": "execute_result"
    }
   ],
   "source": [
    "temp[\"text\"].split(\".\")"
   ]
  },
  {
   "cell_type": "code",
   "execution_count": null,
   "metadata": {
    "collapsed": true
   },
   "outputs": [],
   "source": []
  },
  {
   "cell_type": "code",
   "execution_count": null,
   "metadata": {
    "collapsed": false
   },
   "outputs": [],
   "source": [
    "msk = np.random.rand(len(inputs)) < 0.8\n",
    "inputs_train = inputs[msk].str.replace(\"\\n\", \" \")\n",
    "inputs_dev = inputs[~msk].str.replace(\"\\n\", \" \")\n",
    "outputs_train = outputs[msk].str.replace(\"\\n\", \" \")\n",
    "outputs_dev = outputs[~msk].str.replace(\"\\n\", \" \")\n",
    "inputs_train.to_csv(\"/Users/jurajkapasny/Data/testing/train_text.txt\", index=False, header=False,)\n",
    "outputs_train.to_csv(\"/Users/jurajkapasny/Data/testing/target_text.txt\", index=False, header=False)\n",
    "inputs_dev.to_csv(\"/Users/jurajkapasny/Data/testing/dev_text.txt\", index=False, header=False,)\n",
    "outputs_dev.to_csv(\"/Users/jurajkapasny/Data/testing/dev_target_text.txt\", index=False, header=False)"
   ]
  },
  {
   "cell_type": "code",
   "execution_count": null,
   "metadata": {
    "collapsed": false
   },
   "outputs": [],
   "source": [
    "print len(inputs_train)\n",
    "print len(outputs_train)\n",
    "print len(inputs_dev)\n",
    "print len(outputs_dev)"
   ]
  },
  {
   "cell_type": "code",
   "execution_count": null,
   "metadata": {
    "collapsed": true
   },
   "outputs": [],
   "source": []
  },
  {
   "cell_type": "code",
   "execution_count": null,
   "metadata": {
    "collapsed": false
   },
   "outputs": [],
   "source": [
    "inputs = inputs.str.replace(\",\", \" \")\n",
    "inputs = inputs.str.replace(\":\", \" \")\n",
    "inputs = inputs.str.replace(\".\", \" \")\n",
    "inputs = inputs.str.replace('\"', \" \")\n",
    "inputs = inputs.str.replace(\"(\", \" \")\n",
    "inputs = inputs.str.replace(\")\", \" \")\n",
    "inputs = inputs.str.replace(\"-\", \" \")\n",
    "inputs = inputs.str.replace(\"“\", \" \")\n",
    "inputs = inputs.str.replace(\"„\", \" \")\n",
    "\n",
    "outputs = outputs.str.replace(\",\", \" \")\n",
    "outputs = outputs.str.replace(\":\", \" \")\n",
    "outputs = outputs.str.replace(\".\", \" \")\n",
    "outputs = outputs.str.replace('\"', \" \")\n",
    "outputs = outputs.str.replace(\"(\", \" \")\n",
    "outputs = outputs.str.replace(\")\", \" \")\n",
    "outputs = outputs.str.replace(\"-\", \" \")\n",
    "outputs = outputs.str.replace(\"“\", \" \")\n",
    "outputs = outputs.str.replace(\"„\", \" \")\n",
    "\n",
    "# inputs = inputs.str.replace(\"(\", \" \")\n",
    "# inputs = inputs.str.replace(\")\", \" \")\n",
    "# #.to_csv(\"/Users/jurajkapasny/Desktop/train_text.txt\", index=False, header=False,)\n",
    "# inputs = inputs.str.split()"
   ]
  },
  {
   "cell_type": "code",
   "execution_count": null,
   "metadata": {
    "collapsed": true
   },
   "outputs": [],
   "source": [
    "inputs_final = inputs.apply(lambda x: [item for item in x if item not in stopwords_sk])"
   ]
  },
  {
   "cell_type": "code",
   "execution_count": null,
   "metadata": {
    "collapsed": true
   },
   "outputs": [],
   "source": [
    "import collections\n",
    "from collections import Counter\n",
    "# inputs.apply(lambda x: Counter(x))"
   ]
  },
  {
   "cell_type": "code",
   "execution_count": null,
   "metadata": {
    "collapsed": false
   },
   "outputs": [],
   "source": [
    "\n",
    "data = [\n",
    "  [1, 2, 3, 4, 5],\n",
    "  [1, 9, 3, 4, 5],\n",
    "  [1, 10, 8, 4, 5],\n",
    "  [1, 12, 13, 7, 5],\n",
    "  [1, 14, 13, 13, 6],\n",
    "]\n",
    "\n",
    "def sorted_by_count(lists):\n",
    "    counts = collections.defaultdict(int)\n",
    "    for L in lists:\n",
    "        for n in L:\n",
    "            counts[n] += 1\n",
    "\n",
    "    return [num for num, count in\n",
    "              sorted(counts.items(),\n",
    "                     key=lambda k_v: (k_v[1], k_v[0]),\n",
    "                     reverse=True)]\n",
    "\n",
    "print sorted_by_count(data)"
   ]
  },
  {
   "cell_type": "code",
   "execution_count": null,
   "metadata": {
    "collapsed": true
   },
   "outputs": [],
   "source": [
    "import itertools"
   ]
  },
  {
   "cell_type": "code",
   "execution_count": null,
   "metadata": {
    "collapsed": false,
    "scrolled": true
   },
   "outputs": [],
   "source": [
    "inputs.head()"
   ]
  },
  {
   "cell_type": "code",
   "execution_count": null,
   "metadata": {
    "collapsed": false
   },
   "outputs": [],
   "source": [
    "vocab = Counter(itertools.chain.from_iterable(inputs))"
   ]
  },
  {
   "cell_type": "code",
   "execution_count": null,
   "metadata": {
    "collapsed": false
   },
   "outputs": [],
   "source": [
    "len(vocab)"
   ]
  },
  {
   "cell_type": "code",
   "execution_count": null,
   "metadata": {
    "collapsed": false
   },
   "outputs": [],
   "source": [
    "vocab_df = pd.DataFrame(vocab, index = [\"count\"]).transpose()"
   ]
  },
  {
   "cell_type": "code",
   "execution_count": null,
   "metadata": {
    "collapsed": false
   },
   "outputs": [],
   "source": [
    "vocab_df.sort_values(\"count\", ascending=False).head(50)"
   ]
  },
  {
   "cell_type": "code",
   "execution_count": null,
   "metadata": {
    "collapsed": false
   },
   "outputs": [],
   "source": [
    "vocab_df.sort_values(\"count\", ascending=True).head(500)"
   ]
  },
  {
   "cell_type": "code",
   "execution_count": null,
   "metadata": {
    "collapsed": true
   },
   "outputs": [],
   "source": []
  }
 ],
 "metadata": {
  "kernelspec": {
   "display_name": "Python 2",
   "language": "python",
   "name": "python2"
  },
  "language_info": {
   "codemirror_mode": {
    "name": "ipython",
    "version": 2
   },
   "file_extension": ".py",
   "mimetype": "text/x-python",
   "name": "python",
   "nbconvert_exporter": "python",
   "pygments_lexer": "ipython2",
   "version": "2.7.11"
  }
 },
 "nbformat": 4,
 "nbformat_minor": 0
}
