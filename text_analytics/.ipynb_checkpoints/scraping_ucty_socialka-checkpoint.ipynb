{
 "cells": [
  {
   "cell_type": "code",
   "execution_count": null,
   "metadata": {
    "collapsed": true
   },
   "outputs": [],
   "source": [
    "import requests\n",
    "from bs4 import BeautifulSoup\n",
    "\n",
    "link = \"http://www.socpoist.sk/cisla-uctov-pobociek-sp/719s\"\n",
    "page = requests.get(link)\n",
    "soup = BeautifulSoup(page.content, 'html.parser')\n",
    "\n",
    "main_content = list(soup.children)\n",
    "for i in main_content:\n",
    "    #ked zacina cast <html tak to je main part\n",
    "    if str(i).find(\"<html\") == 0:\n",
    "        inner_content = i\n",
    "        for j in inner_content:\n",
    "            if str(j).find(\"<body\") == 0:\n",
    "                body = j\n",
    "                print \"Find body: Successfull!!\"\n",
    "#ucty zo socialnej poistovne\n",
    "ucty = []\n",
    "for i in body.select('table.tabulka-siva tbody tr td.bunka-siva-s-okrajom'):\n",
    "    if i.get_text()[0].isdigit():\n",
    "        ucty.append(i.get_text())\n",
    "for i in ucty:\n",
    "    print i"
   ]
  }
 ],
 "metadata": {
  "kernelspec": {
   "display_name": "Python 2",
   "language": "python",
   "name": "python2"
  },
  "language_info": {
   "codemirror_mode": {
    "name": "ipython",
    "version": 2
   },
   "file_extension": ".py",
   "mimetype": "text/x-python",
   "name": "python",
   "nbconvert_exporter": "python",
   "pygments_lexer": "ipython2",
   "version": "2.7.11"
  }
 },
 "nbformat": 4,
 "nbformat_minor": 2
}
