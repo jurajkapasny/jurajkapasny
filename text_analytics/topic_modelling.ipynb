{
 "cells": [
  {
   "cell_type": "code",
   "execution_count": 1,
   "metadata": {
    "collapsed": true
   },
   "outputs": [],
   "source": [
    "import glob\n",
    "import pandas as pd\n",
    "import numpy as np\n",
    "import pickle"
   ]
  },
  {
   "cell_type": "code",
   "execution_count": 2,
   "metadata": {
    "collapsed": true
   },
   "outputs": [],
   "source": [
    "data_path = \"/Users/jurajkapasny/Data/sk_text_for_api\""
   ]
  },
  {
   "cell_type": "code",
   "execution_count": 11,
   "metadata": {
    "collapsed": false
   },
   "outputs": [],
   "source": [
    "def load_data(path):\n",
    "    allFiles = glob.glob(path + \"/*.csv\")\n",
    "    print (\"Number of files to process: %d\" %len(allFiles))\n",
    "    df = pd.DataFrame()\n",
    "    list_ = []\n",
    "    i = 0\n",
    "    for file_ in allFiles:\n",
    "        if (file_.find(\"articles\") != -1) & (file_.find(\"temo\") == -1):\n",
    "            i = i + 1\n",
    "            if i%50 == 0:\n",
    "                print (\"Processing file %d\" %i)\n",
    "            temp = pd.read_csv(file_,sep = \"|\",index_col=None, header=0, parse_dates=True, low_memory=False)\n",
    "            list_.append(temp)\n",
    "    df = pd.concat(list_).reset_index(drop = True)\n",
    "    return df"
   ]
  },
  {
   "cell_type": "code",
   "execution_count": 12,
   "metadata": {
    "collapsed": false
   },
   "outputs": [
    {
     "name": "stdout",
     "output_type": "stream",
     "text": [
      "Number of files to process: 211\n",
      "Processing file 50\n",
      "Processing file 100\n",
      "Processing file 150\n",
      "Processing file 200\n"
     ]
    }
   ],
   "source": [
    "df = load_data(data_path)"
   ]
  },
  {
   "cell_type": "code",
   "execution_count": 13,
   "metadata": {
    "collapsed": false
   },
   "outputs": [
    {
     "data": {
      "text/html": [
       "<div>\n",
       "<style scoped>\n",
       "    .dataframe tbody tr th:only-of-type {\n",
       "        vertical-align: middle;\n",
       "    }\n",
       "\n",
       "    .dataframe tbody tr th {\n",
       "        vertical-align: top;\n",
       "    }\n",
       "\n",
       "    .dataframe thead th {\n",
       "        text-align: right;\n",
       "    }\n",
       "</style>\n",
       "<table border=\"1\" class=\"dataframe\">\n",
       "  <thead>\n",
       "    <tr style=\"text-align: right;\">\n",
       "      <th></th>\n",
       "      <th>label</th>\n",
       "      <th>summary</th>\n",
       "      <th>text</th>\n",
       "    </tr>\n",
       "  </thead>\n",
       "  <tbody>\n",
       "    <tr>\n",
       "      <th>0</th>\n",
       "      <td>domov</td>\n",
       "      <td>Žilinčík zo Súdnej rady: Najhoršie veci robili...</td>\n",
       "      <td>\\nDo Súdnej rady pribudol v novembri ako nomin...</td>\n",
       "    </tr>\n",
       "    <tr>\n",
       "      <th>1</th>\n",
       "      <td>korzar</td>\n",
       "      <td>Východ zasiahli silné búrky. Opäť mali charakt...</td>\n",
       "      <td>\\nVÝCHODNÉ SLOVENSKO. Prehánky a búrky sa v so...</td>\n",
       "    </tr>\n",
       "    <tr>\n",
       "      <th>2</th>\n",
       "      <td>svet</td>\n",
       "      <td>Ruská polícia zadržala takmer stovku prívrženc...</td>\n",
       "      <td>\\nMOSKVA. Ruská polícia zadržala desiatky stúp...</td>\n",
       "    </tr>\n",
       "    <tr>\n",
       "      <th>3</th>\n",
       "      <td>svet</td>\n",
       "      <td>Turecko kvôli USA uvažuje, že neschváli dohodu...</td>\n",
       "      <td>\\nHAMBURG. Rozhodnutie Spojených štátov odstúp...</td>\n",
       "    </tr>\n",
       "    <tr>\n",
       "      <th>4</th>\n",
       "      <td>ekonomika</td>\n",
       "      <td>Netflix pridal slovenské titulky k populárnym ...</td>\n",
       "      <td>\\nBRATISLAVA. On-line videotéka Netflix začala...</td>\n",
       "    </tr>\n",
       "  </tbody>\n",
       "</table>\n",
       "</div>"
      ],
      "text/plain": [
       "       label                                            summary  \\\n",
       "0      domov  Žilinčík zo Súdnej rady: Najhoršie veci robili...   \n",
       "1     korzar  Východ zasiahli silné búrky. Opäť mali charakt...   \n",
       "2       svet  Ruská polícia zadržala takmer stovku prívrženc...   \n",
       "3       svet  Turecko kvôli USA uvažuje, že neschváli dohodu...   \n",
       "4  ekonomika  Netflix pridal slovenské titulky k populárnym ...   \n",
       "\n",
       "                                                text  \n",
       "0  \\nDo Súdnej rady pribudol v novembri ako nomin...  \n",
       "1  \\nVÝCHODNÉ SLOVENSKO. Prehánky a búrky sa v so...  \n",
       "2  \\nMOSKVA. Ruská polícia zadržala desiatky stúp...  \n",
       "3  \\nHAMBURG. Rozhodnutie Spojených štátov odstúp...  \n",
       "4  \\nBRATISLAVA. On-line videotéka Netflix začala...  "
      ]
     },
     "execution_count": 13,
     "metadata": {},
     "output_type": "execute_result"
    }
   ],
   "source": [
    "df.head()"
   ]
  },
  {
   "cell_type": "code",
   "execution_count": null,
   "metadata": {
    "collapsed": true
   },
   "outputs": [],
   "source": []
  },
  {
   "cell_type": "code",
   "execution_count": 14,
   "metadata": {
    "collapsed": false
   },
   "outputs": [],
   "source": [
    "df_clean = df[(df.label.notnull()) & (df.text.notnull())][[\"label\",\"text\"]]"
   ]
  },
  {
   "cell_type": "code",
   "execution_count": 15,
   "metadata": {
    "collapsed": false
   },
   "outputs": [
    {
     "data": {
      "text/html": [
       "<div>\n",
       "<style scoped>\n",
       "    .dataframe tbody tr th:only-of-type {\n",
       "        vertical-align: middle;\n",
       "    }\n",
       "\n",
       "    .dataframe tbody tr th {\n",
       "        vertical-align: top;\n",
       "    }\n",
       "\n",
       "    .dataframe thead th {\n",
       "        text-align: right;\n",
       "    }\n",
       "</style>\n",
       "<table border=\"1\" class=\"dataframe\">\n",
       "  <thead>\n",
       "    <tr style=\"text-align: right;\">\n",
       "      <th></th>\n",
       "      <th>label</th>\n",
       "      <th>text</th>\n",
       "    </tr>\n",
       "  </thead>\n",
       "  <tbody>\n",
       "    <tr>\n",
       "      <th>0</th>\n",
       "      <td>domov</td>\n",
       "      <td>\\nDo Súdnej rady pribudol v novembri ako nomin...</td>\n",
       "    </tr>\n",
       "    <tr>\n",
       "      <th>1</th>\n",
       "      <td>korzar</td>\n",
       "      <td>\\nVÝCHODNÉ SLOVENSKO. Prehánky a búrky sa v so...</td>\n",
       "    </tr>\n",
       "    <tr>\n",
       "      <th>2</th>\n",
       "      <td>svet</td>\n",
       "      <td>\\nMOSKVA. Ruská polícia zadržala desiatky stúp...</td>\n",
       "    </tr>\n",
       "    <tr>\n",
       "      <th>3</th>\n",
       "      <td>svet</td>\n",
       "      <td>\\nHAMBURG. Rozhodnutie Spojených štátov odstúp...</td>\n",
       "    </tr>\n",
       "    <tr>\n",
       "      <th>4</th>\n",
       "      <td>ekonomika</td>\n",
       "      <td>\\nBRATISLAVA. On-line videotéka Netflix začala...</td>\n",
       "    </tr>\n",
       "  </tbody>\n",
       "</table>\n",
       "</div>"
      ],
      "text/plain": [
       "       label                                               text\n",
       "0      domov  \\nDo Súdnej rady pribudol v novembri ako nomin...\n",
       "1     korzar  \\nVÝCHODNÉ SLOVENSKO. Prehánky a búrky sa v so...\n",
       "2       svet  \\nMOSKVA. Ruská polícia zadržala desiatky stúp...\n",
       "3       svet  \\nHAMBURG. Rozhodnutie Spojených štátov odstúp...\n",
       "4  ekonomika  \\nBRATISLAVA. On-line videotéka Netflix začala..."
      ]
     },
     "execution_count": 15,
     "metadata": {},
     "output_type": "execute_result"
    }
   ],
   "source": [
    "df_clean.head()"
   ]
  },
  {
   "cell_type": "code",
   "execution_count": 16,
   "metadata": {
    "collapsed": true
   },
   "outputs": [],
   "source": [
    "docs = df_clean.text.tolist()"
   ]
  },
  {
   "cell_type": "code",
   "execution_count": 18,
   "metadata": {},
   "outputs": [
    {
     "data": {
      "text/plain": [
       "\"\\nDo Súdnej rady pribudol v novembri ako nominant prezidenta Andreja Kisku a ako jeden z mála nesudcov, ktorí v 18-člennom zbore sedia. S väčšinovým názorom, že radu by mal viesť sudca, PAVOL ŽILINČÍK nesúhlasí. Vyberať by sa malo najmä podľa etických kritérií, prízvukuje právnik, ktorý pôsobil v organizácii Via Iuris, ako poradca na americkej ambasáde a dnes pracuje v kancelárii ombudsmanky.\\nVidíte v čerstvo obmenenej Súdnej rade vhodného kandidáta na jej šéfa?\\n„Pri voľbe predsedu by mali zohrať rolu dve okolnosti - či kandidát preukázal v minulosti dostatok integrity a tiež schopnosti zvládať ťažké situácie. Myslím si, že na prvom mieste mala byť práve otázka etiky a hodnotového zamerania. Na Slovensku to však zatiaľ nehrá prvé husle.“\\nV Súdnej rade prevláda názor, že by ju mal viesť sudca, a to taký, ktorého do rady zvolili sudcovia. Stotožňujete sa s tým?\\n„Nemyslím si, že to je nevyhnutná podmienka. Viem o krajinách, kde Súdne rady vedú nesudcovia, napríklad v Slovinsku. Zdá sa mi, že na Slovensku vznikol zvláštny jav, k čomu možno prispela masívna a z veľkej časti legitímna kritika súdnictva. Viedla k ešte väčšiemu zomknutiu sudcov. Aj viacerí z úspešných kandidátov do Súdnej rady mali vo svojich prezentáciách heslá ako 'Budem obhajovať nezávislosť súdnictva, aj keď sa to médiám, politikom a tretiemu sektoru nebude páčiť'. To je signál, ktorý nie je úplne v poriadku. Ak vznikol u sudcov pohľad, podľa ktorého spolu musia držať, lebo všetci sú proti nim, tak je to chyba, pretože sa potom nedá nájsť spoločné riešenie.“\\nZatiaľ to ešte nepochopili?\\n\\nPokračovanie článku patrí k prémiovému obsahu Sme.sk \\nAj vy môžete byť jeho predplatiteľom\\n\\r\\n          Už mám predplatné - prihlásiť sa\\n\\n\\nPokračovanie článku patrí k prémiovému obsahu Sme.sk\\n\\r\\n          Už mám predplatné - prihlásiť sa\\n\\n\""
      ]
     },
     "execution_count": 18,
     "metadata": {},
     "output_type": "execute_result"
    }
   ],
   "source": [
    "docs[0]"
   ]
  },
  {
   "cell_type": "markdown",
   "metadata": {},
   "source": [
    "### Data Processing"
   ]
  },
  {
   "cell_type": "code",
   "execution_count": 19,
   "metadata": {
    "collapsed": true
   },
   "outputs": [],
   "source": [
    "from nltk.stem.wordnet import WordNetLemmatizer\n",
    "import string"
   ]
  },
  {
   "cell_type": "code",
   "execution_count": 20,
   "metadata": {
    "collapsed": true
   },
   "outputs": [],
   "source": [
    "text_file = open(\"/Users/jurajkapasny/nltk_data/corpora/stopwords-sk/stopwords-sk.json\", \"r\")\n",
    "lines = text_file.read()\n",
    "stopwords_sk = lines.replace('\"','').split(\",\")"
   ]
  },
  {
   "cell_type": "code",
   "execution_count": 21,
   "metadata": {
    "collapsed": false
   },
   "outputs": [],
   "source": [
    "for i in range(len(stopwords_sk)):\n",
    "    stopwords_sk[i] = stopwords_sk[i].replace(\"”\",\"\")\n",
    "    stopwords_sk[i] = stopwords_sk[i].replace(\"“\",\"\")"
   ]
  },
  {
   "cell_type": "code",
   "execution_count": 24,
   "metadata": {
    "collapsed": true
   },
   "outputs": [],
   "source": [
    "exclude = set(string.punctuation) \n",
    "lemma = WordNetLemmatizer()\n",
    "def clean(doc):\n",
    "    stop_free = \" \".join([i for i in doc.lower().split() if i not in stopwords_sk])\n",
    "    punc_free = ''.join(ch for ch in stop_free if ch not in exclude)\n",
    "    num_free = ''.join(ch for ch in punc_free if ch not in ['0','1','2','3','4','5','6','7','8','9'])\n",
    "    normalized = \" \".join(lemma.lemmatize(word) for word in num_free.split())\n",
    "    no_short = \" \".join(word for word in normalized.split() if len(word) > 3)\n",
    "    return no_short"
   ]
  },
  {
   "cell_type": "code",
   "execution_count": 25,
   "metadata": {
    "collapsed": false
   },
   "outputs": [],
   "source": [
    "doc_clean = [clean(doc).split() for doc in docs]  "
   ]
  },
  {
   "cell_type": "code",
   "execution_count": 27,
   "metadata": {
    "collapsed": false
   },
   "outputs": [
    {
     "name": "stdout",
     "output_type": "stream",
     "text": [
      "východné\n",
      "slovensko\n",
      "prehánky\n",
      "búrky\n",
      "sobotu\n",
      "vyskytli\n",
      "miestami\n",
      "takmer\n",
      "celom\n",
      "území\n",
      "východného\n",
      "slovenska\n",
      "informácií\n",
      "slovenského\n",
      "hydrometeorologického\n",
      "ústavu\n",
      "portálu\n",
      "imeteosk\n",
      "mali\n",
      "búrky\n",
      "popoludní\n",
      "podvečer\n",
      "vyskytli\n",
      "regióne\n",
      "charakter\n",
      "supercely\n",
      "popoludní\n",
      "hodine\n",
      "zasiahli\n",
      "najmä\n",
      "košický\n",
      "kraj\n",
      "miestami\n",
      "veľmi\n",
      "intenzívne\n",
      "slovenský\n",
      "hydrometeorologický\n",
      "ústav\n",
      "shmú\n",
      "informuje\n",
      "sociálnej\n",
      "sieti\n",
      "búrky\n",
      "krupobitím\n",
      "zaznamenali\n",
      "popoludní\n",
      "okrese\n",
      "trebišov\n",
      "zemplínsky\n",
      "klečenov\n",
      "prívalová\n",
      "voda\n",
      "zaliala\n",
      "polia\n",
      "niekde\n",
      "napríklad\n",
      "veľatoch\n",
      "ulice\n",
      "obcí\n",
      "popoludní\n",
      "okrese\n",
      "trebišov\n",
      "zdroj\n",
      "imeteosk\n",
      "silné\n",
      "výdatné\n",
      "popoludňajšie\n",
      "búrky\n",
      "zasiahli\n",
      "spiš\n",
      "oblasť\n",
      "slovenského\n",
      "raja\n",
      "hnileckej\n",
      "doliny\n",
      "švedlári\n",
      "napríklad\n",
      "zaznamenali\n",
      "minút\n",
      "milimetrový\n",
      "úhrn\n",
      "zrážok\n",
      "veľké\n",
      "úhrny\n",
      "zrážok\n",
      "krátky\n",
      "zaznamenali\n",
      "okolí\n",
      "košíc\n",
      "gemeri\n",
      "výrazná\n",
      "búrková\n",
      "činnosť\n",
      "vrátila\n",
      "okolia\n",
      "košíc\n",
      "východného\n",
      "slovenska\n",
      "opäť\n",
      "večer\n",
      "večer\n",
      "košiciach\n",
      "zdroj\n",
      "imeteosk\n",
      "neskôr\n",
      "popoludní\n",
      "búrky\n",
      "presunuli\n",
      "severnejšie\n",
      "častejšie\n",
      "vyskytovali\n",
      "území\n",
      "prešovského\n",
      "kraja\n",
      "podvečer\n",
      "informácií\n",
      "imeteosk\n",
      "presunula\n",
      "výrazná\n",
      "búrková\n",
      "činnosť\n",
      "poľska\n",
      "niektorých\n",
      "miestach\n",
      "silný\n",
      "vietor\n",
      "lámal\n",
      "stromy\n",
      "napríklad\n",
      "okolí\n",
      "bardejova\n",
      "obci\n",
      "gerlachov\n",
      "výdatné\n",
      "zrážky\n",
      "zasiahli\n",
      "podvečer\n",
      "prešov\n",
      "popoludní\n",
      "severnom\n",
      "šariši\n",
      "zdroj\n",
      "imeteosk\n",
      "supercela\n",
      "jednobunková\n",
      "konvektívna\n",
      "búrka\n",
      "obsahuje\n",
      "jeden\n",
      "dlhotrvajúci\n",
      "rotujúci\n",
      "výstupný\n",
      "prúd\n",
      "zostupné\n",
      "prúdy\n",
      "radare\n",
      "charakterizuje\n",
      "mezocyklóna\n",
      "supercely\n",
      "bývajú\n",
      "sprevádzané\n",
      "obrovskými\n",
      "krúpami\n",
      "tornádami\n",
      "prípadne\n",
      "prívalovými\n",
      "zrážkami\n",
      "extrémnou\n",
      "elektrickou\n",
      "aktivitou\n",
      "ostatných\n",
      "búrok\n",
      "líši\n",
      "výstupný\n",
      "prúd\n",
      "rotuje\n",
      "mezocyklónu\n",
      "rotáciu\n",
      "pohľade\n",
      "samotný\n",
      "oblak\n",
      "nemusí\n",
      "vidno\n",
      "rotujúci\n",
      "výstupný\n",
      "prúd\n",
      "umožňuje\n",
      "dlhú\n",
      "životnosť\n",
      "rádovo\n",
      "niekoľko\n",
      "hodín\n",
      "toho\n",
      "súčasťou\n",
      "väčšieho\n",
      "komplexu\n",
      "búrok\n",
      "totiž\n",
      "dobre\n",
      "separované\n",
      "zostupné\n",
      "výstupné\n",
      "prúdy\n",
      "zostupné\n",
      "neodrežú\n",
      "prítoku\n",
      "teplého\n",
      "vlhkého\n",
      "vzduchu\n",
      "ktorého\n",
      "žije\n",
      "supercely\n",
      "európe\n",
      "pomerne\n",
      "vzácne\n",
      "neobvyklé\n",
      "zdroj\n",
      "wikipediask\n",
      "najdôležitejšie\n",
      "správy\n",
      "východu\n",
      "slovenska\n",
      "čítajte\n",
      "korzarsmesk\n"
     ]
    }
   ],
   "source": [
    "for i in doc_clean[1]:\n",
    "    print(i)"
   ]
  },
  {
   "cell_type": "code",
   "execution_count": 31,
   "metadata": {
    "collapsed": false
   },
   "outputs": [],
   "source": [
    "# Importing Gensim\n",
    "import gensim\n",
    "from gensim import corpora"
   ]
  },
  {
   "cell_type": "code",
   "execution_count": 32,
   "metadata": {
    "collapsed": true
   },
   "outputs": [],
   "source": [
    "# Creating the term dictionary of our courpus, where every unique term is assigned an index. \n",
    "dictionary = corpora.Dictionary(doc_clean)"
   ]
  },
  {
   "cell_type": "code",
   "execution_count": 33,
   "metadata": {
    "collapsed": true
   },
   "outputs": [],
   "source": [
    "# Converting list of documents (corpus) into Document Term Matrix using dictionary prepared above.\n",
    "doc_term_matrix = [dictionary.doc2bow(doc) for doc in doc_clean]"
   ]
  },
  {
   "cell_type": "code",
   "execution_count": 34,
   "metadata": {
    "collapsed": true
   },
   "outputs": [],
   "source": [
    "# Creating the object for LDA model using gensim library\n",
    "lda = gensim.models.ldamodel.LdaModel"
   ]
  },
  {
   "cell_type": "code",
   "execution_count": 35,
   "metadata": {
    "collapsed": false
   },
   "outputs": [],
   "source": [
    "# Running and Trainign LDA model on the document term matrix.\n",
    "ldamodel = lda(doc_term_matrix, num_topics=20, id2word = dictionary, passes=50)"
   ]
  },
  {
   "cell_type": "code",
   "execution_count": 36,
   "metadata": {
    "collapsed": true
   },
   "outputs": [],
   "source": [
    "pickle.dump( ldamodel, open( \"/Users/jurajkapasny/Code/GitHub/jurajkapasny/text_analytics/LDA.p\", \"wb\" ) )"
   ]
  },
  {
   "cell_type": "code",
   "execution_count": 37,
   "metadata": {
    "collapsed": false
   },
   "outputs": [],
   "source": [
    "ldamodel = pickle.load( open( \"/Users/jurajkapasny/Code/GitHub/jurajkapasny/text_analytics/LDA.p\", \"rb\" ) )"
   ]
  },
  {
   "cell_type": "code",
   "execution_count": 38,
   "metadata": {
    "collapsed": false
   },
   "outputs": [
    {
     "ename": "SyntaxError",
     "evalue": "invalid syntax (<ipython-input-38-896ec181342d>, line 1)",
     "output_type": "error",
     "traceback": [
      "\u001b[0;36m  File \u001b[0;32m\"<ipython-input-38-896ec181342d>\"\u001b[0;36m, line \u001b[0;32m1\u001b[0m\n\u001b[0;31m    print ldamodel.print_topics(num_topics=20, num_words=10)[0][1]\u001b[0m\n\u001b[0m                 ^\u001b[0m\n\u001b[0;31mSyntaxError\u001b[0m\u001b[0;31m:\u001b[0m invalid syntax\n"
     ]
    }
   ],
   "source": [
    "print ldamodel.print_topics(num_topics=20, num_words=10)[0][1]\n",
    "print \"\"\n",
    "print ldamodel.print_topics(num_topics=20, num_words=10)[1][1]\n",
    "print \"\"\n",
    "print ldamodel.print_topics(num_topics=20, num_words=10)[2][1]\n",
    "print \"\"\n",
    "print ldamodel.print_topics(num_topics=20, num_words=10)[3][1]\n",
    "print \"\"\n",
    "print ldamodel.print_topics(num_topics=20, num_words=10)[4][1]\n",
    "print \"\"\n",
    "print ldamodel.print_topics(num_topics=20, num_words=10)[5][1]\n",
    "print \"\"\n",
    "print ldamodel.print_topics(num_topics=20, num_words=10)[6][1]\n",
    "print \"\"\n",
    "print ldamodel.print_topics(num_topics=20, num_words=10)[7][1]\n",
    "print \"\"\n",
    "print ldamodel.print_topics(num_topics=20, num_words=10)[8][1]\n",
    "print \"\"\n",
    "print ldamodel.print_topics(num_topics=20, num_words=10)[9][1]\n",
    "print \"\"\n",
    "print ldamodel.print_topics(num_topics=20, num_words=10)[10][1]\n",
    "print \"\"\n",
    "print ldamodel.print_topics(num_topics=20, num_words=10)[11][1]\n",
    "print \"\"\n",
    "print ldamodel.print_topics(num_topics=20, num_words=10)[12][1]\n",
    "print \"\"\n",
    "print ldamodel.print_topics(num_topics=20, num_words=10)[13][1]\n",
    "print \"\"\n",
    "print ldamodel.print_topics(num_topics=20, num_words=10)[14][1]\n",
    "print \"\"\n",
    "print ldamodel.print_topics(num_topics=20, num_words=10)[15][1]\n",
    "print \"\"\n",
    "print ldamodel.print_topics(num_topics=20, num_words=10)[16][1]\n",
    "print \"\"\n",
    "print ldamodel.print_topics(num_topics=20, num_words=10)[17][1]\n",
    "print \"\" \n",
    "print ldamodel.print_topics(num_topics=20, num_words=10)[18][1]\n",
    "print \"\" \n",
    "print ldamodel.print_topics(num_topics=20, num_words=10)[19][1]\n",
    "print \"\" "
   ]
  },
  {
   "cell_type": "code",
   "execution_count": 51,
   "metadata": {
    "collapsed": false
   },
   "outputs": [
    {
     "name": "stdout",
     "output_type": "stream",
     "text": [
      "(19, u'0.008*\"valec\" + 0.008*\"kolies\" + 0.006*\"zadn\\xfdch\" + 0.005*\"renault\" + 0.004*\"kombi\" + 0.003*\"koles\\xe1\" + 0.003*\"golf\" + 0.002*\"nissan\" + 0.002*\"pneumatiky\" + 0.002*\"suzuki\"')\n",
      "\n"
     ]
    }
   ],
   "source": [
    "print ldamodel.print_topics(num_topics=20, num_words=10)[19]\n",
    "print \"\" "
   ]
  },
  {
   "cell_type": "code",
   "execution_count": null,
   "metadata": {
    "collapsed": true
   },
   "outputs": [],
   "source": []
  }
 ],
 "metadata": {
  "kernelspec": {
   "display_name": "Python 3",
   "language": "python",
   "name": "python3"
  },
  "language_info": {
   "codemirror_mode": {
    "name": "ipython",
    "version": 3
   },
   "file_extension": ".py",
   "mimetype": "text/x-python",
   "name": "python",
   "nbconvert_exporter": "python",
   "pygments_lexer": "ipython3",
   "version": "3.6.1"
  }
 },
 "nbformat": 4,
 "nbformat_minor": 2
}
