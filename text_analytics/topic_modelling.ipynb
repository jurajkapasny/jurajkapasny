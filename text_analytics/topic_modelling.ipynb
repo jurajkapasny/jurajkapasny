{
 "cells": [
  {
   "cell_type": "code",
   "execution_count": 7,
   "metadata": {
    "collapsed": true
   },
   "outputs": [],
   "source": [
    "import glob\n",
    "import pandas as pd\n",
    "import numpy as np\n",
    "import pickle"
   ]
  },
  {
   "cell_type": "code",
   "execution_count": 8,
   "metadata": {
    "collapsed": true
   },
   "outputs": [],
   "source": [
    "data_path = \"/Users/jurajkapasny/Data/sk_text_for_api\""
   ]
  },
  {
   "cell_type": "code",
   "execution_count": 9,
   "metadata": {
    "collapsed": false
   },
   "outputs": [],
   "source": [
    "def load_data(path):\n",
    "    allFiles = glob.glob(path + \"/*.csv\")\n",
    "    print \"Number of files to process: %d\" %len(allFiles)\n",
    "    df = pd.DataFrame()\n",
    "    list_ = []\n",
    "    i = 0\n",
    "    for file_ in allFiles:\n",
    "        if (file_.find(\"articles\") != -1) & (file_.find(\"temo\") == -1):\n",
    "            i = i + 1\n",
    "            if i%50 == 0:\n",
    "                print \"Processing file %d\" %i\n",
    "            temp = pd.read_csv(file_,sep = \"|\",index_col=None, header=0, parse_dates=True, low_memory=False)\n",
    "            list_.append(temp)\n",
    "    df = pd.concat(list_).reset_index(drop = True)\n",
    "    return df"
   ]
  },
  {
   "cell_type": "code",
   "execution_count": 10,
   "metadata": {
    "collapsed": false
   },
   "outputs": [
    {
     "name": "stdout",
     "output_type": "stream",
     "text": [
      "Number of files to process: 189\n",
      "Processing file 50\n",
      "Processing file 100\n",
      "Processing file 150\n"
     ]
    }
   ],
   "source": [
    "df = load_data(data_path)"
   ]
  },
  {
   "cell_type": "code",
   "execution_count": 11,
   "metadata": {
    "collapsed": false
   },
   "outputs": [
    {
     "data": {
      "text/html": [
       "<div>\n",
       "<table border=\"1\" class=\"dataframe\">\n",
       "  <thead>\n",
       "    <tr style=\"text-align: right;\">\n",
       "      <th></th>\n",
       "      <th>label</th>\n",
       "      <th>summary</th>\n",
       "      <th>text</th>\n",
       "    </tr>\n",
       "  </thead>\n",
       "  <tbody>\n",
       "    <tr>\n",
       "      <th>0</th>\n",
       "      <td>NaN</td>\n",
       "      <td>Placebo má 20 rokov, oslavy boli aj v Bratisla...</td>\n",
       "      <td>\\nPozrite si atmosféru z víkendového koncertu ...</td>\n",
       "    </tr>\n",
       "    <tr>\n",
       "      <th>1</th>\n",
       "      <td>NaN</td>\n",
       "      <td>Treba zakázať Uber len preto, že nezapadá do s...</td>\n",
       "      <td>\\nV jednom svete najskôr všetko dovolí parlame...</td>\n",
       "    </tr>\n",
       "    <tr>\n",
       "      <th>2</th>\n",
       "      <td>techbox</td>\n",
       "      <td>Samsung už v minulosti skúšal zaujať SUHD tele...</td>\n",
       "      <td>\\nVerím, že mnohí z vás v tom majú jasno, no u...</td>\n",
       "    </tr>\n",
       "    <tr>\n",
       "      <th>3</th>\n",
       "      <td>NaN</td>\n",
       "      <td>Izrael opäť zaútočil na sýrske vojenské ciele ...</td>\n",
       "      <td>\\n po tom, čo na ním kontrolované Golanské výš...</td>\n",
       "    </tr>\n",
       "    <tr>\n",
       "      <th>4</th>\n",
       "      <td>NaN</td>\n",
       "      <td>Basketbalistky Španielska sa stali víťazkami m...</td>\n",
       "      <td>\\n v Česku. Vo finálovom súboji triumfovali na...</td>\n",
       "    </tr>\n",
       "  </tbody>\n",
       "</table>\n",
       "</div>"
      ],
      "text/plain": [
       "     label                                            summary  \\\n",
       "0      NaN  Placebo má 20 rokov, oslavy boli aj v Bratisla...   \n",
       "1      NaN  Treba zakázať Uber len preto, že nezapadá do s...   \n",
       "2  techbox  Samsung už v minulosti skúšal zaujať SUHD tele...   \n",
       "3      NaN  Izrael opäť zaútočil na sýrske vojenské ciele ...   \n",
       "4      NaN  Basketbalistky Španielska sa stali víťazkami m...   \n",
       "\n",
       "                                                text  \n",
       "0  \\nPozrite si atmosféru z víkendového koncertu ...  \n",
       "1  \\nV jednom svete najskôr všetko dovolí parlame...  \n",
       "2  \\nVerím, že mnohí z vás v tom majú jasno, no u...  \n",
       "3  \\n po tom, čo na ním kontrolované Golanské výš...  \n",
       "4  \\n v Česku. Vo finálovom súboji triumfovali na...  "
      ]
     },
     "execution_count": 11,
     "metadata": {},
     "output_type": "execute_result"
    }
   ],
   "source": [
    "df.head()"
   ]
  },
  {
   "cell_type": "code",
   "execution_count": null,
   "metadata": {
    "collapsed": true
   },
   "outputs": [],
   "source": []
  },
  {
   "cell_type": "code",
   "execution_count": 12,
   "metadata": {
    "collapsed": false
   },
   "outputs": [],
   "source": [
    "df_clean = df[(df.label.notnull()) & (df.text.notnull())][[\"label\",\"text\"]]"
   ]
  },
  {
   "cell_type": "code",
   "execution_count": 13,
   "metadata": {
    "collapsed": false
   },
   "outputs": [
    {
     "data": {
      "text/html": [
       "<div>\n",
       "<table border=\"1\" class=\"dataframe\">\n",
       "  <thead>\n",
       "    <tr style=\"text-align: right;\">\n",
       "      <th></th>\n",
       "      <th>label</th>\n",
       "      <th>text</th>\n",
       "    </tr>\n",
       "  </thead>\n",
       "  <tbody>\n",
       "    <tr>\n",
       "      <th>2</th>\n",
       "      <td>techbox</td>\n",
       "      <td>\\nVerím, že mnohí z vás v tom majú jasno, no u...</td>\n",
       "    </tr>\n",
       "    <tr>\n",
       "      <th>5</th>\n",
       "      <td>techbox</td>\n",
       "      <td>\\nGmail na prispôsobenie reklamy používa prehl...</td>\n",
       "    </tr>\n",
       "    <tr>\n",
       "      <th>9</th>\n",
       "      <td>techbox</td>\n",
       "      <td>\\nLen máloktorá firma zmenila svet internetu, ...</td>\n",
       "    </tr>\n",
       "    <tr>\n",
       "      <th>116</th>\n",
       "      <td>techbox</td>\n",
       "      <td>\\nEurópska únia v poslednom čase predstavuje j...</td>\n",
       "    </tr>\n",
       "    <tr>\n",
       "      <th>128</th>\n",
       "      <td>techbox</td>\n",
       "      <td>\\nNemecká spoločnosť Loewe predstavila novú sé...</td>\n",
       "    </tr>\n",
       "  </tbody>\n",
       "</table>\n",
       "</div>"
      ],
      "text/plain": [
       "       label                                               text\n",
       "2    techbox  \\nVerím, že mnohí z vás v tom majú jasno, no u...\n",
       "5    techbox  \\nGmail na prispôsobenie reklamy používa prehl...\n",
       "9    techbox  \\nLen máloktorá firma zmenila svet internetu, ...\n",
       "116  techbox  \\nEurópska únia v poslednom čase predstavuje j...\n",
       "128  techbox  \\nNemecká spoločnosť Loewe predstavila novú sé..."
      ]
     },
     "execution_count": 13,
     "metadata": {},
     "output_type": "execute_result"
    }
   ],
   "source": [
    "df_clean.head()"
   ]
  },
  {
   "cell_type": "code",
   "execution_count": 14,
   "metadata": {
    "collapsed": true
   },
   "outputs": [],
   "source": [
    "docs = df_clean.text.tolist()"
   ]
  },
  {
   "cell_type": "markdown",
   "metadata": {
    "collapsed": true
   },
   "source": [
    "### Data Processing"
   ]
  },
  {
   "cell_type": "code",
   "execution_count": 15,
   "metadata": {
    "collapsed": true
   },
   "outputs": [],
   "source": [
    "from nltk.stem.wordnet import WordNetLemmatizer\n",
    "import string"
   ]
  },
  {
   "cell_type": "code",
   "execution_count": 16,
   "metadata": {
    "collapsed": true
   },
   "outputs": [],
   "source": [
    "text_file = open(\"/Users/jurajkapasny/nltk_data/corpora/stopwords-sk/stopwords-sk.json\", \"r\")\n",
    "lines = text_file.read()\n",
    "stopwords_sk = lines.replace('\"','').split(\",\")"
   ]
  },
  {
   "cell_type": "code",
   "execution_count": 17,
   "metadata": {
    "collapsed": false
   },
   "outputs": [],
   "source": [
    "for i in range(len(stopwords_sk)):\n",
    "    stopwords_sk[i] = stopwords_sk[i].replace(\"”\",\"\")\n",
    "    stopwords_sk[i] = stopwords_sk[i].replace(\"“\",\"\")"
   ]
  },
  {
   "cell_type": "code",
   "execution_count": 18,
   "metadata": {
    "collapsed": true
   },
   "outputs": [],
   "source": [
    "exclude = set(string.punctuation) \n",
    "lemma = WordNetLemmatizer()\n",
    "def clean(doc):\n",
    "    stop_free = \" \".join([i for i in doc.lower().split() if i not in stopwords_sk])\n",
    "    punc_free = ''.join(ch for ch in stop_free if ch not in exclude)\n",
    "    num_free = ''.join(ch for ch in punc_free if ch not in ['0','1','2','3','4','5','6','7','8','9'])\n",
    "    normalized = \" \".join(lemma.lemmatize(word) for word in num_free.split())\n",
    "    no_short = \" \".join(word for word in normalized.split() if len(word) > 3)\n",
    "    return no_short"
   ]
  },
  {
   "cell_type": "code",
   "execution_count": 19,
   "metadata": {
    "collapsed": false
   },
   "outputs": [],
   "source": [
    "doc_clean = [clean(doc).split() for doc in docs]  "
   ]
  },
  {
   "cell_type": "code",
   "execution_count": null,
   "metadata": {
    "collapsed": true
   },
   "outputs": [],
   "source": [
    "pr"
   ]
  },
  {
   "cell_type": "code",
   "execution_count": 35,
   "metadata": {
    "collapsed": false
   },
   "outputs": [
    {
     "name": "stdout",
     "output_type": "stream",
     "text": [
      "gmail\n",
      "prispôsobenie\n",
      "reklamy\n",
      "používa\n",
      "prehliadanie\n",
      "správ\n",
      "doručené\n",
      "mailovej\n",
      "schránky\n",
      "konca\n",
      "tohto\n",
      "roka\n",
      "definitívne\n",
      "odzvoniť\n",
      "mailový\n",
      "klient\n",
      "google\n",
      "patrí\n",
      "najpopulárnejšie\n",
      "produkty\n",
      "spoločnosti\n",
      "niektorí\n",
      "môžu\n",
      "namietať\n",
      "celý\n",
      "vyhľadávací\n",
      "gigant\n",
      "veľký\n",
      "obchod\n",
      "reklamou\n",
      "zberom\n",
      "osobných\n",
      "údajov\n",
      "pozrite\n",
      "sigmailify\n",
      "funkcie\n",
      "gmail\n",
      "gmailcom\n",
      "gmail\n",
      "sebe\n",
      "zakomponovaný\n",
      "skener\n",
      "hľadá\n",
      "kľúčové\n",
      "slová\n",
      "základe\n",
      "nich vie\n",
      "veľký\n",
      "brat\n",
      "prispôsobiť\n",
      "reklamy\n",
      "každému\n",
      "osobne\n",
      "napriek\n",
      "tomu\n",
      "prehliadanie\n",
      "starosti\n",
      "stroj\n",
      "človek\n",
      "majú\n",
      "niektorí\n",
      "miliardy\n",
      "používateľov\n",
      "zásah\n",
      "súkromia\n",
      "ťažké\n",
      "srdce\n",
      "malo\n",
      "chvíľu\n",
      "zmeniť\n",
      "spoločnosť\n",
      "zrušila\n",
      "aktivitu\n",
      "business\n",
      "verzii\n",
      "gmailu\n",
      "spadá\n",
      "skupiny\n",
      "suite\n",
      "zmeny\n",
      "dočkáme\n",
      "bežní\n",
      "používatelia\n",
      "pravidlo\n",
      "nadobudne\n",
      "účinnosť\n",
      "konca\n",
      "tohto\n",
      "roka\n",
      "pozrite\n",
      "tipov\n",
      "oceníte\n",
      "používate\n",
      "gmail\n",
      "samozrejme\n",
      "neznamená\n",
      "ostatné\n",
      "služby\n",
      "google\n",
      "iných\n",
      "spoločností\n",
      "nebudú\n",
      "dáta\n",
      "zbierať\n",
      "vyhľadávač\n",
      "ďalej\n",
      "posvieti\n",
      "história\n",
      "prehliadania\n",
      "stránky\n",
      "navštevujeme\n",
      "videá\n",
      "sledujeme\n",
      "youtube\n",
      "ďalšie\n",
      "zdrojgoogle\n",
      "blog\n"
     ]
    }
   ],
   "source": [
    "for i in doc_clean[1]:\n",
    "    print i"
   ]
  },
  {
   "cell_type": "code",
   "execution_count": 34,
   "metadata": {
    "collapsed": false
   },
   "outputs": [
    {
     "name": "stdout",
     "output_type": "stream",
     "text": [
      "['gmail', 'prisp\\xc3\\xb4sobenie', 'reklamy', 'pou\\xc5\\xbe\\xc3\\xadva', 'prehliadanie', 'spr\\xc3\\xa1v', 'doru\\xc4\\x8den\\xc3\\xa9', 'mailovej', 'schr\\xc3\\xa1nky', 'konca', 'tohto', 'roka', 'definit\\xc3\\xadvne', 'odzvoni\\xc5\\xa5', 'mailov\\xc3\\xbd', 'klient', 'google', 'patr\\xc3\\xad', 'najpopul\\xc3\\xa1rnej\\xc5\\xa1ie', 'produkty', 'spolo\\xc4\\x8dnosti', 'niektor\\xc3\\xad', 'm\\xc3\\xb4\\xc5\\xbeu', 'namieta\\xc5\\xa5', 'cel\\xc3\\xbd', 'vyh\\xc4\\xbead\\xc3\\xa1vac\\xc3\\xad', 'gigant', 've\\xc4\\xbek\\xc3\\xbd', 'obchod', 'reklamou', 'zberom', 'osobn\\xc3\\xbdch', '\\xc3\\xbadajov', 'pozrite', 'sigmailify', 'funkcie', 'gmail', 'gmailcom', 'gmail', 'sebe', 'zakomponovan\\xc3\\xbd', 'skener', 'h\\xc4\\xbead\\xc3\\xa1', 'k\\xc4\\xbe\\xc3\\xba\\xc4\\x8dov\\xc3\\xa9', 'slov\\xc3\\xa1', 'z\\xc3\\xa1klade', 'nich\\xc2\\xa0vie', 've\\xc4\\xbek\\xc3\\xbd', 'brat', 'prisp\\xc3\\xb4sobi\\xc5\\xa5', 'reklamy', 'ka\\xc5\\xbed\\xc3\\xa9mu', 'osobne', 'napriek', 'tomu', 'prehliadanie', 'starosti', 'stroj', '\\xc4\\x8dlovek', 'maj\\xc3\\xba', 'niektor\\xc3\\xad', 'miliardy', 'pou\\xc5\\xbe\\xc3\\xadvate\\xc4\\xbeov', 'z\\xc3\\xa1sah', 's\\xc3\\xbakromia', '\\xc5\\xa5a\\xc5\\xbek\\xc3\\xa9', 'srdce', 'malo', 'chv\\xc3\\xad\\xc4\\xbeu', 'zmeni\\xc5\\xa5', 'spolo\\xc4\\x8dnos\\xc5\\xa5', 'zru\\xc5\\xa1ila', 'aktivitu', 'business', 'verzii', 'gmailu', 'spad\\xc3\\xa1', 'skupiny', 'suite', 'zmeny', 'do\\xc4\\x8dk\\xc3\\xa1me', 'be\\xc5\\xben\\xc3\\xad', 'pou\\xc5\\xbe\\xc3\\xadvatelia', 'pravidlo', 'nadobudne', '\\xc3\\xba\\xc4\\x8dinnos\\xc5\\xa5', 'konca', 'tohto', 'roka', 'pozrite', 'tipov', 'ocen\\xc3\\xadte', 'pou\\xc5\\xbe\\xc3\\xadvate', 'gmail', 'samozrejme', 'neznamen\\xc3\\xa1', 'ostatn\\xc3\\xa9', 'slu\\xc5\\xbeby', 'google', 'in\\xc3\\xbdch', 'spolo\\xc4\\x8dnost\\xc3\\xad', 'nebud\\xc3\\xba', 'd\\xc3\\xa1ta', 'zbiera\\xc5\\xa5', 'vyh\\xc4\\xbead\\xc3\\xa1va\\xc4\\x8d', '\\xc4\\x8falej', 'posvieti', 'hist\\xc3\\xb3ria', 'prehliadania', 'str\\xc3\\xa1nky', 'nav\\xc5\\xa1tevujeme', 'vide\\xc3\\xa1', 'sledujeme', 'youtube', '\\xc4\\x8fal\\xc5\\xa1ie', 'zdrojgoogle', 'blog']\n"
     ]
    }
   ],
   "source": [
    "print doc_clean[1]\n"
   ]
  },
  {
   "cell_type": "code",
   "execution_count": 44,
   "metadata": {
    "collapsed": false
   },
   "outputs": [
    {
     "name": "stderr",
     "output_type": "stream",
     "text": [
      "/Applications/anaconda/lib/python2.7/site-packages/gensim/utils.py:1015: UserWarning: Pattern library is not installed, lemmatization won't be available.\n",
      "  warnings.warn(\"Pattern library is not installed, lemmatization won't be available.\")\n"
     ]
    }
   ],
   "source": [
    "# Importing Gensim\n",
    "import gensim\n",
    "from gensim import corpora"
   ]
  },
  {
   "cell_type": "code",
   "execution_count": 45,
   "metadata": {
    "collapsed": true
   },
   "outputs": [],
   "source": [
    "# Creating the term dictionary of our courpus, where every unique term is assigned an index. \n",
    "dictionary = corpora.Dictionary(doc_clean)"
   ]
  },
  {
   "cell_type": "code",
   "execution_count": 46,
   "metadata": {
    "collapsed": true
   },
   "outputs": [],
   "source": [
    "# Converting list of documents (corpus) into Document Term Matrix using dictionary prepared above.\n",
    "doc_term_matrix = [dictionary.doc2bow(doc) for doc in doc_clean]"
   ]
  },
  {
   "cell_type": "code",
   "execution_count": 47,
   "metadata": {
    "collapsed": true
   },
   "outputs": [],
   "source": [
    "# Creating the object for LDA model using gensim library\n",
    "lda = gensim.models.ldamodel.LdaModel"
   ]
  },
  {
   "cell_type": "code",
   "execution_count": 48,
   "metadata": {
    "collapsed": false
   },
   "outputs": [],
   "source": [
    "# Running and Trainign LDA model on the document term matrix.\n",
    "ldamodel = lda(doc_term_matrix, num_topics=20, id2word = dictionary, passes=50)"
   ]
  },
  {
   "cell_type": "code",
   "execution_count": 49,
   "metadata": {
    "collapsed": true
   },
   "outputs": [],
   "source": [
    "pickle.dump( ldamodel, open( \"/Users/jurajkapasny/Code/GitHub/jurajkapasny/text_analytics/LDA.p\", \"wb\" ) )"
   ]
  },
  {
   "cell_type": "code",
   "execution_count": 2,
   "metadata": {
    "collapsed": false
   },
   "outputs": [
    {
     "name": "stderr",
     "output_type": "stream",
     "text": [
      "/Applications/anaconda/lib/python2.7/site-packages/gensim/utils.py:1015: UserWarning: Pattern library is not installed, lemmatization won't be available.\n",
      "  warnings.warn(\"Pattern library is not installed, lemmatization won't be available.\")\n"
     ]
    }
   ],
   "source": [
    "ldamodel = pickle.load( open( \"/Users/jurajkapasny/Code/GitHub/jurajkapasny/text_analytics/LDA.p\", \"rb\" ) )"
   ]
  },
  {
   "cell_type": "code",
   "execution_count": 36,
   "metadata": {
    "collapsed": false
   },
   "outputs": [
    {
     "name": "stdout",
     "output_type": "stream",
     "text": [
      "0.005*\"zadné\" + 0.005*\" km\" + 0.004*\"príspevok\" + 0.004*\"zdieľa\" + 0.004*\"sagan\" + 0.004*\"etapa\" + 0.003*\"júl\" + 0.003*\"              \" + 0.002*\"august\" + 0.002*\"september\"\n",
      "\n",
      "0.006*\"krajiny\" + 0.005*\"európskej\" + 0.004*\"povedal\" + 0.004*\"slovensko\" + 0.004*\"utečencov\" + 0.004*\"únie\" + 0.004*\"krajín\" + 0.003*\"proti\" + 0.003*\"európy\" + 0.002*\"teraz\"\n",
      "\n",
      "0.005*\"roku\" + 0.004*\"spoločnosti\" + 0.004*\"spoločnosť\" + 0.004*\" miliónov\" + 0.003*\"v roku\" + 0.003*\"firmy\" + 0.003*\"banky\" + 0.003*\"ceny\" + 0.003*\"roka\" + 0.003*\"firma\"\n",
      "\n",
      "0.011*\"strany\" + 0.007*\"vlády\" + 0.006*\"strana\" + 0.005*\"povedal\" + 0.005*\"parlamentu\" + 0.005*\"voľbách\" + 0.005*\"fico\" + 0.004*\"predseda\" + 0.004*\"voľby\" + 0.004*\"volieb\"\n",
      "\n",
      "0.003*\"počas\" + 0.003*\"môžu\" + 0.003*\"telo\" + 0.002*\"vody\" + 0.002*\"majú\" + 0.002*\"najmä\" + 0.002*\"ochorenia\" + 0.002*\"proti\" + 0.002*\"treba\" + 0.002*\"napríklad\"\n",
      "\n",
      "0.007*\"mäso\" + 0.005*\"pridáme\" + 0.004*\" sj\" + 0.004*\"soľ\" + 0.003*\"mäsa\" + 0.003*\"postup\" + 0.003*\"necháme\" + 0.003*\" minút\" + 0.003*\"korenie\" + 0.003*\" pl\"\n",
      "\n",
      "0.005*\"povedal\" + 0.003*\"uviedol\" + 0.003*\"zákona\" + 0.003*\"návrh\" + 0.003*\"mali\" + 0.003*\"ministerstvo\" + 0.003*\"dodal\" + 0.003*\"minister\" + 0.002*\"súdu\" + 0.002*\"súd\"\n",
      "\n",
      "0.006*\"trump\" + 0.006*\"proti\" + 0.005*\"prezident\" + 0.005*\"povedal\" + 0.004*\"rusko\" + 0.004*\"prezidenta\" + 0.003*\"v sýrii\" + 0.003*\"uviedol\" + 0.003*\"vyhlásil\" + 0.002*\"americký\"\n",
      "\n",
      "0.003*\"zápas\" + 0.003*\"veľmi\" + 0.003*\"prémiovému\" + 0.002*\"tréner\" + 0.002*\"miesto\" + 0.002*\"tour\" + 0.002*\"finále\" + 0.002*\"peter\" + 0.002*\"sveta\" + 0.002*\"tímu\"\n",
      "\n",
      "0.006*\"ľudí\" + 0.004*\"polícia\" + 0.003*\"macron\" + 0.003*\"úrady\" + 0.003*\" ľudí\" + 0.002*\"niekoľko\" + 0.002*\"tisíc\" + 0.002*\"okolo\" + 0.002*\"ktorých\" + 0.002*\"ďalších\"\n",
      "\n",
      "0.006*\"slovensku\" + 0.005*\"roku\" + 0.005*\"práce\" + 0.004*\" eur\" + 0.004*\"zamestnancov\" + 0.003*\"ľudí\" + 0.003*\"roka\" + 0.003*\"tisíc\" + 0.003*\"vláda\" + 0.003*\"školstva\"\n",
      "\n",
      "0.007*\"veľmi\" + 0.006*\"napríklad\" + 0.005*\"majú\" + 0.004*\"možno\" + 0.004*\"všetko\" + 0.004*\"stále\" + 0.004*\"ľudia\" + 0.004*\"mali\" + 0.004*\"treba\" + 0.004*\"veľa\"\n",
      "\n",
      "0.007*\" kw\" + 0.005*\"totiž\" + 0.004*\"motor\" + 0.004*\"auto\" + 0.003*\"systém\" + 0.003*\"model\" + 0.003*\" kmh\" + 0.002*\"napríklad\" + 0.002*\"áut\" + 0.002*\"Škoda\"\n",
      "\n",
      "0.006*\"polícia\" + 0.003*\"ukrajiny\" + 0.003*\"policajti\" + 0.003*\"informovala\" + 0.002*\"lietadlo\" + 0.002*\"informácie\" + 0.002*\"lietadla\" + 0.002*\"polície\" + 0.002*\"hovorkyňa\" + 0.002*\"vyšetrovanie\"\n",
      "\n",
      "0.007*\"mám\" + 0.007*\"deti\" + 0.005*\"prihlásiť\" + 0.005*\"predplatné\" + 0.004*\"patrí\" + 0.004*\"obsahu\" + 0.004*\"školy\" + 0.004*\"smesk\" + 0.004*\"článku\" + 0.004*\"pokračovanie\"\n",
      "\n",
      "0.005*\"slovensku\" + 0.005*\"nemocnice\" + 0.004*\"pacientov\" + 0.003*\"zdravotníctva\" + 0.003*\"ceny\" + 0.003*\"potravín\" + 0.002*\"zdravotnej\" + 0.002*\"prievidza\" + 0.002*\"slovenska\" + 0.002*\"starostlivosti\"\n",
      "\n",
      "0.007*\"audi\" + 0.006*\" litra\" + 0.005*\"motory\" + 0.004*\"ford\" + 0.004*\"sedadlá\" + 0.003*\"predné\" + 0.003*\"toyota\" + 0.003*\"opel\" + 0.002*\"fiat\" + 0.002*\"disky\"\n",
      "\n",
      "0.008*\"mesta\" + 0.008*\"mesto\" + 0.004*\"dopravy\" + 0.004*\"cesty\" + 0.003*\"časti\" + 0.003*\"ulici\" + 0.003*\"ceste\" + 0.003*\"počas\" + 0.002*\"tisíc\" + 0.002*\"cesta\"\n",
      "\n",
      "0.005*\"v roku\" + 0.004*\"roku\" + 0.002*\"rokov\" + 0.002*\"počas\" + 0.002*\"okrem\" + 0.002*\"turistov\" + 0.002*\"vďaka\" + 0.002*\"návštevníkov\" + 0.001*\"návštevníci\" + 0.001*\"hrad\"\n",
      "\n",
      "0.008*\"valec\" + 0.008*\"kolies\" + 0.006*\"zadných\" + 0.005*\"renault\" + 0.004*\"kombi\" + 0.003*\"kolesá\" + 0.003*\"golf\" + 0.002*\"nissan\" + 0.002*\"pneumatiky\" + 0.002*\"suzuki\"\n",
      "\n"
     ]
    }
   ],
   "source": [
    "print ldamodel.print_topics(num_topics=20, num_words=10)[0][1]\n",
    "print \"\"\n",
    "print ldamodel.print_topics(num_topics=20, num_words=10)[1][1]\n",
    "print \"\"\n",
    "print ldamodel.print_topics(num_topics=20, num_words=10)[2][1]\n",
    "print \"\"\n",
    "print ldamodel.print_topics(num_topics=20, num_words=10)[3][1]\n",
    "print \"\"\n",
    "print ldamodel.print_topics(num_topics=20, num_words=10)[4][1]\n",
    "print \"\"\n",
    "print ldamodel.print_topics(num_topics=20, num_words=10)[5][1]\n",
    "print \"\"\n",
    "print ldamodel.print_topics(num_topics=20, num_words=10)[6][1]\n",
    "print \"\"\n",
    "print ldamodel.print_topics(num_topics=20, num_words=10)[7][1]\n",
    "print \"\"\n",
    "print ldamodel.print_topics(num_topics=20, num_words=10)[8][1]\n",
    "print \"\"\n",
    "print ldamodel.print_topics(num_topics=20, num_words=10)[9][1]\n",
    "print \"\"\n",
    "print ldamodel.print_topics(num_topics=20, num_words=10)[10][1]\n",
    "print \"\"\n",
    "print ldamodel.print_topics(num_topics=20, num_words=10)[11][1]\n",
    "print \"\"\n",
    "print ldamodel.print_topics(num_topics=20, num_words=10)[12][1]\n",
    "print \"\"\n",
    "print ldamodel.print_topics(num_topics=20, num_words=10)[13][1]\n",
    "print \"\"\n",
    "print ldamodel.print_topics(num_topics=20, num_words=10)[14][1]\n",
    "print \"\"\n",
    "print ldamodel.print_topics(num_topics=20, num_words=10)[15][1]\n",
    "print \"\"\n",
    "print ldamodel.print_topics(num_topics=20, num_words=10)[16][1]\n",
    "print \"\"\n",
    "print ldamodel.print_topics(num_topics=20, num_words=10)[17][1]\n",
    "print \"\" \n",
    "print ldamodel.print_topics(num_topics=20, num_words=10)[18][1]\n",
    "print \"\" \n",
    "print ldamodel.print_topics(num_topics=20, num_words=10)[19][1]\n",
    "print \"\" "
   ]
  },
  {
   "cell_type": "code",
   "execution_count": 51,
   "metadata": {
    "collapsed": false
   },
   "outputs": [
    {
     "name": "stdout",
     "output_type": "stream",
     "text": [
      "(19, u'0.008*\"valec\" + 0.008*\"kolies\" + 0.006*\"zadn\\xfdch\" + 0.005*\"renault\" + 0.004*\"kombi\" + 0.003*\"koles\\xe1\" + 0.003*\"golf\" + 0.002*\"nissan\" + 0.002*\"pneumatiky\" + 0.002*\"suzuki\"')\n",
      "\n"
     ]
    }
   ],
   "source": [
    "print ldamodel.print_topics(num_topics=20, num_words=10)[19]\n",
    "print \"\" "
   ]
  },
  {
   "cell_type": "code",
   "execution_count": null,
   "metadata": {
    "collapsed": true
   },
   "outputs": [],
   "source": []
  }
 ],
 "metadata": {
  "kernelspec": {
   "display_name": "Python 2",
   "language": "python",
   "name": "python2"
  },
  "language_info": {
   "codemirror_mode": {
    "name": "ipython",
    "version": 2
   },
   "file_extension": ".py",
   "mimetype": "text/x-python",
   "name": "python",
   "nbconvert_exporter": "python",
   "pygments_lexer": "ipython2",
   "version": "2.7.11"
  }
 },
 "nbformat": 4,
 "nbformat_minor": 0
}
