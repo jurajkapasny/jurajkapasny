{
 "cells": [
  {
   "cell_type": "markdown",
   "metadata": {},
   "source": [
    "In the next blog post from the Knoyd series we will be focusing on text mining techniques. The main goal is to explore articles with different topics. These articles were scrape from websites www.sme.sk, www.pravda.sk and www.dennikn.sk. As you might already notices, the tricky part is that we will be dealing with article in Slovak, and that makes our job a little bit harder. We will compare to techniques to build the model for clustering of the articles and we will see if they are able to perform with a good quality."
   ]
  },
  {
   "cell_type": "markdown",
   "metadata": {},
   "source": [
    "## Data gathering"
   ]
  },
  {
   "cell_type": "markdown",
   "metadata": {},
   "source": [
    "To get our data, we will use package BeautifulSoup to scrape the text as well as category of the article. BeautifulSoup parse a webpage using the HTML tags and it is very simple to access separate parts of the webpage using those tags. The category of article is extracted from the URL, for example, Using the following URL https://tech.sme.sk/c/20652556/vymena-baterii-namiesto-nabijania-elektroauta-sa-mozu-zmenit.html?ref=trz, we can identified tech as the topic of the article. \n",
    "\n",
    "Using our own scraper we were able to download text and category of xxxxxx articles. We will use two unsupervised techniques to identify the clusters and topics of those articles. Afterwards we will use extracted categories to evaluate the models. You can see the sample of our data below."
   ]
  },
  {
   "cell_type": "code",
   "execution_count": 1,
   "metadata": {
    "collapsed": true
   },
   "outputs": [],
   "source": [
    "import glob\n",
    "import pandas as pd\n",
    "import numpy as np\n",
    "\n",
    "import matplotlib.pyplot as plt"
   ]
  },
  {
   "cell_type": "code",
   "execution_count": 2,
   "metadata": {
    "collapsed": true
   },
   "outputs": [],
   "source": [
    "data_path = \"/Users/jurajkapasny/Data/sk_text_for_api\""
   ]
  },
  {
   "cell_type": "code",
   "execution_count": 3,
   "metadata": {
    "collapsed": false
   },
   "outputs": [],
   "source": [
    "def load_data(path):\n",
    "    allFiles = glob.glob(path + \"/*.csv\")\n",
    "    print \"Number of files to process: %d\" %len(allFiles)\n",
    "    df = pd.DataFrame()\n",
    "    list_ = []\n",
    "    i = 0\n",
    "    for file_ in allFiles:\n",
    "        if (file_.find(\"articles\") != -1) & (file_.find(\"temo\") == -1):\n",
    "            i = i + 1\n",
    "            if i%50 == 0:\n",
    "                print \"Processing file %d\" %i\n",
    "            temp = pd.read_csv(file_,sep = \"|\",index_col=None, header=0, parse_dates=True, low_memory=False)\n",
    "            list_.append(temp)\n",
    "    df = pd.concat(list_).reset_index(drop = True)\n",
    "    return df"
   ]
  },
  {
   "cell_type": "code",
   "execution_count": 4,
   "metadata": {
    "collapsed": false
   },
   "outputs": [
    {
     "name": "stdout",
     "output_type": "stream",
     "text": [
      "Number of files to process: 189\n",
      "Processing file 50\n",
      "Processing file 100\n",
      "Processing file 150\n"
     ]
    }
   ],
   "source": [
    "df = load_data(data_path)"
   ]
  },
  {
   "cell_type": "code",
   "execution_count": 5,
   "metadata": {
    "collapsed": false
   },
   "outputs": [
    {
     "data": {
      "text/html": [
       "<div>\n",
       "<table border=\"1\" class=\"dataframe\">\n",
       "  <thead>\n",
       "    <tr style=\"text-align: right;\">\n",
       "      <th></th>\n",
       "      <th>label</th>\n",
       "      <th>summary</th>\n",
       "      <th>text</th>\n",
       "    </tr>\n",
       "  </thead>\n",
       "  <tbody>\n",
       "    <tr>\n",
       "      <th>0</th>\n",
       "      <td>NaN</td>\n",
       "      <td>Placebo má 20 rokov, oslavy boli aj v Bratisla...</td>\n",
       "      <td>\\nPozrite si atmosféru z víkendového koncertu ...</td>\n",
       "    </tr>\n",
       "    <tr>\n",
       "      <th>1</th>\n",
       "      <td>NaN</td>\n",
       "      <td>Treba zakázať Uber len preto, že nezapadá do s...</td>\n",
       "      <td>\\nV jednom svete najskôr všetko dovolí parlame...</td>\n",
       "    </tr>\n",
       "    <tr>\n",
       "      <th>2</th>\n",
       "      <td>techbox</td>\n",
       "      <td>Samsung už v minulosti skúšal zaujať SUHD tele...</td>\n",
       "      <td>\\nVerím, že mnohí z vás v tom majú jasno, no u...</td>\n",
       "    </tr>\n",
       "    <tr>\n",
       "      <th>3</th>\n",
       "      <td>NaN</td>\n",
       "      <td>Izrael opäť zaútočil na sýrske vojenské ciele ...</td>\n",
       "      <td>\\n po tom, čo na ním kontrolované Golanské výš...</td>\n",
       "    </tr>\n",
       "    <tr>\n",
       "      <th>4</th>\n",
       "      <td>NaN</td>\n",
       "      <td>Basketbalistky Španielska sa stali víťazkami m...</td>\n",
       "      <td>\\n v Česku. Vo finálovom súboji triumfovali na...</td>\n",
       "    </tr>\n",
       "  </tbody>\n",
       "</table>\n",
       "</div>"
      ],
      "text/plain": [
       "     label                                            summary  \\\n",
       "0      NaN  Placebo má 20 rokov, oslavy boli aj v Bratisla...   \n",
       "1      NaN  Treba zakázať Uber len preto, že nezapadá do s...   \n",
       "2  techbox  Samsung už v minulosti skúšal zaujať SUHD tele...   \n",
       "3      NaN  Izrael opäť zaútočil na sýrske vojenské ciele ...   \n",
       "4      NaN  Basketbalistky Španielska sa stali víťazkami m...   \n",
       "\n",
       "                                                text  \n",
       "0  \\nPozrite si atmosféru z víkendového koncertu ...  \n",
       "1  \\nV jednom svete najskôr všetko dovolí parlame...  \n",
       "2  \\nVerím, že mnohí z vás v tom majú jasno, no u...  \n",
       "3  \\n po tom, čo na ním kontrolované Golanské výš...  \n",
       "4  \\n v Česku. Vo finálovom súboji triumfovali na...  "
      ]
     },
     "execution_count": 5,
     "metadata": {},
     "output_type": "execute_result"
    }
   ],
   "source": [
    "df.head()"
   ]
  },
  {
   "cell_type": "code",
   "execution_count": null,
   "metadata": {
    "collapsed": true
   },
   "outputs": [],
   "source": []
  },
  {
   "cell_type": "code",
   "execution_count": 6,
   "metadata": {
    "collapsed": false
   },
   "outputs": [],
   "source": [
    "df_clean = df[(df.label.notnull()) & (df.text.notnull())][[\"label\",\"text\"]]"
   ]
  },
  {
   "cell_type": "code",
   "execution_count": 7,
   "metadata": {
    "collapsed": false
   },
   "outputs": [
    {
     "data": {
      "text/html": [
       "<div>\n",
       "<table border=\"1\" class=\"dataframe\">\n",
       "  <thead>\n",
       "    <tr style=\"text-align: right;\">\n",
       "      <th></th>\n",
       "      <th>label</th>\n",
       "      <th>text</th>\n",
       "    </tr>\n",
       "  </thead>\n",
       "  <tbody>\n",
       "    <tr>\n",
       "      <th>2</th>\n",
       "      <td>techbox</td>\n",
       "      <td>\\nVerím, že mnohí z vás v tom majú jasno, no u...</td>\n",
       "    </tr>\n",
       "    <tr>\n",
       "      <th>5</th>\n",
       "      <td>techbox</td>\n",
       "      <td>\\nGmail na prispôsobenie reklamy používa prehl...</td>\n",
       "    </tr>\n",
       "    <tr>\n",
       "      <th>9</th>\n",
       "      <td>techbox</td>\n",
       "      <td>\\nLen máloktorá firma zmenila svet internetu, ...</td>\n",
       "    </tr>\n",
       "    <tr>\n",
       "      <th>116</th>\n",
       "      <td>techbox</td>\n",
       "      <td>\\nEurópska únia v poslednom čase predstavuje j...</td>\n",
       "    </tr>\n",
       "    <tr>\n",
       "      <th>128</th>\n",
       "      <td>techbox</td>\n",
       "      <td>\\nNemecká spoločnosť Loewe predstavila novú sé...</td>\n",
       "    </tr>\n",
       "  </tbody>\n",
       "</table>\n",
       "</div>"
      ],
      "text/plain": [
       "       label                                               text\n",
       "2    techbox  \\nVerím, že mnohí z vás v tom majú jasno, no u...\n",
       "5    techbox  \\nGmail na prispôsobenie reklamy používa prehl...\n",
       "9    techbox  \\nLen máloktorá firma zmenila svet internetu, ...\n",
       "116  techbox  \\nEurópska únia v poslednom čase predstavuje j...\n",
       "128  techbox  \\nNemecká spoločnosť Loewe predstavila novú sé..."
      ]
     },
     "execution_count": 7,
     "metadata": {},
     "output_type": "execute_result"
    }
   ],
   "source": [
    "df_clean.head()"
   ]
  },
  {
   "cell_type": "code",
   "execution_count": 8,
   "metadata": {
    "collapsed": false
   },
   "outputs": [
    {
     "data": {
      "text/plain": [
       "28545"
      ]
     },
     "execution_count": 8,
     "metadata": {},
     "output_type": "execute_result"
    }
   ],
   "source": [
    "len(df_clean)"
   ]
  },
  {
   "cell_type": "code",
   "execution_count": 18,
   "metadata": {
    "collapsed": false
   },
   "outputs": [
    {
     "name": "stdout",
     "output_type": "stream",
     "text": [
      "techbox\n",
      "\n",
      "Gmail na prispôsobenie reklamy používa prehliadanie správ, ktoré sú doručené do mailovej schránky. Tomu má do konca tohto roka definitívne odzvoniť.\n",
      "Mailový klient od Google patrí medzi najpopulárnejšie produkty spoločnosti. Niektorí však môžu namietať, že celý vyhľadávací gigant je len veľký obchod s reklamou a zberom osobných údajov.\n",
      "Pozrite siGmailify – funkcie Gmail aj bez @gmail.com\n",
      "Gmail má v sebe zakomponovaný skener, ktorý hľadá kľúčové slová. Na základe nich vie veľký brat prispôsobiť reklamy každému osobne. A i napriek tomu, že toto prehliadanie má na starosti stroj a nie človek majú niektorí z 1,2 miliardy používateľov na tento zásah do súkromia ťažké srdce. To by sa však malo už o chvíľu zmeniť.\n",
      "Po tom, ako spoločnosť zrušila túto aktivitu v business verzii Gmailu, ktorý spadá do skupiny G Suite sa tak zmeny dočkáme aj my, bežní používatelia. Nové pravidlo nadobudne účinnosť do konca tohto roka.\n",
      "Pozrite si7 tipov, ktoré oceníte ak používate Gmail\n",
      "To samozrejme neznamená, že ostatné služby od Google, ale aj iných spoločností nebudú vaše dáta zbierať. Vyhľadávač si na nás aj ďalej posvieti. Či to už bude história prehliadania, stránky, ktoré navštevujeme, videá, ktoré sledujeme na YouTube a ďalšie.\n",
      "ZdrojGoogle Blog\n"
     ]
    }
   ],
   "source": [
    "print df_clean.iloc[1,0]\n",
    "print df_clean.iloc[1,1]"
   ]
  },
  {
   "cell_type": "code",
   "execution_count": 8,
   "metadata": {
    "collapsed": true
   },
   "outputs": [],
   "source": [
    "text_file = open(\"/Users/jurajkapasny/nltk_data/corpora/stopwords-sk/stopwords-sk.json\", \"r\")\n",
    "lines = text_file.read()\n",
    "stopwords_sk = lines.replace('\"','').split(\",\")"
   ]
  },
  {
   "cell_type": "code",
   "execution_count": null,
   "metadata": {
    "collapsed": true
   },
   "outputs": [],
   "source": [
    "# # inputs = df_clean.text.str.lower()\n",
    "# # outputs = df_clean.summary.str.lower()\n",
    "\n",
    "# inputs = df_clean.text\n",
    "# outputs = df_clean.summary\n",
    "\n",
    "# inputs = inputs.str.replace(\",\", \" \")\n",
    "# inputs = inputs.str.replace(\"\\n\", \" \")\n",
    "# inputs = inputs.str.replace(\":\", \" \")\n",
    "# # inputs = inputs.str.replace(\".\", \" \")\n",
    "# inputs = inputs.str.replace('\"', \" \")\n",
    "# inputs = inputs.str.replace(\"(\", \" \")\n",
    "# inputs = inputs.str.replace(\")\", \" \")\n",
    "# inputs = inputs.str.replace(\"-\", \" \")\n",
    "# inputs = inputs.str.replace(\"“\", \" \")\n",
    "# inputs = inputs.str.replace(\"„\", \" \")\n",
    "\n",
    "# outputs = outputs.str.replace(\",\", \" \")\n",
    "# outputs = outputs.str.replace(\"\\n\", \" \")\n",
    "# outputs = outputs.str.replace(\":\", \" \")\n",
    "# # outputs = outputs.str.replace(\".\", \" \")\n",
    "# outputs = outputs.str.replace('\"', \" \")\n",
    "# outputs = outputs.str.replace(\"(\", \" \")\n",
    "# outputs = outputs.str.replace(\")\", \" \")\n",
    "# outputs = outputs.str.replace(\"-\", \" \")\n",
    "# outputs = outputs.str.replace(\"“\", \" \")\n",
    "# outputs = outputs.str.replace(\"„\", \" \")"
   ]
  },
  {
   "cell_type": "code",
   "execution_count": null,
   "metadata": {
    "collapsed": false
   },
   "outputs": [],
   "source": [
    "# df_clean.text = inputs\n",
    "# df_clean.summary = outputs"
   ]
  },
  {
   "cell_type": "code",
   "execution_count": null,
   "metadata": {
    "collapsed": false
   },
   "outputs": [],
   "source": [
    "# df_clean"
   ]
  },
  {
   "cell_type": "markdown",
   "metadata": {},
   "source": [
    "  story -> word2vec -> word mover distance as similarity metric. show 3 with highest similarity"
   ]
  },
  {
   "cell_type": "code",
   "execution_count": null,
   "metadata": {
    "collapsed": true
   },
   "outputs": [],
   "source": []
  },
  {
   "cell_type": "code",
   "execution_count": 9,
   "metadata": {
    "collapsed": false
   },
   "outputs": [
    {
     "data": {
      "text/html": [
       "<div>\n",
       "<table border=\"1\" class=\"dataframe\">\n",
       "  <thead>\n",
       "    <tr style=\"text-align: right;\">\n",
       "      <th></th>\n",
       "      <th>label</th>\n",
       "      <th>text</th>\n",
       "    </tr>\n",
       "  </thead>\n",
       "  <tbody>\n",
       "    <tr>\n",
       "      <th>2</th>\n",
       "      <td>techbox</td>\n",
       "      <td>\\nVerím, že mnohí z vás v tom majú jasno, no u...</td>\n",
       "    </tr>\n",
       "    <tr>\n",
       "      <th>5</th>\n",
       "      <td>techbox</td>\n",
       "      <td>\\nGmail na prispôsobenie reklamy používa prehl...</td>\n",
       "    </tr>\n",
       "    <tr>\n",
       "      <th>9</th>\n",
       "      <td>techbox</td>\n",
       "      <td>\\nLen máloktorá firma zmenila svet internetu, ...</td>\n",
       "    </tr>\n",
       "    <tr>\n",
       "      <th>116</th>\n",
       "      <td>techbox</td>\n",
       "      <td>\\nEurópska únia v poslednom čase predstavuje j...</td>\n",
       "    </tr>\n",
       "    <tr>\n",
       "      <th>128</th>\n",
       "      <td>techbox</td>\n",
       "      <td>\\nNemecká spoločnosť Loewe predstavila novú sé...</td>\n",
       "    </tr>\n",
       "  </tbody>\n",
       "</table>\n",
       "</div>"
      ],
      "text/plain": [
       "       label                                               text\n",
       "2    techbox  \\nVerím, že mnohí z vás v tom majú jasno, no u...\n",
       "5    techbox  \\nGmail na prispôsobenie reklamy používa prehl...\n",
       "9    techbox  \\nLen máloktorá firma zmenila svet internetu, ...\n",
       "116  techbox  \\nEurópska únia v poslednom čase predstavuje j...\n",
       "128  techbox  \\nNemecká spoločnosť Loewe predstavila novú sé..."
      ]
     },
     "execution_count": 9,
     "metadata": {},
     "output_type": "execute_result"
    }
   ],
   "source": [
    "df_clean.head()"
   ]
  },
  {
   "cell_type": "code",
   "execution_count": 10,
   "metadata": {
    "collapsed": false
   },
   "outputs": [],
   "source": [
    "counts = df_clean.label.value_counts()"
   ]
  },
  {
   "cell_type": "code",
   "execution_count": 12,
   "metadata": {
    "collapsed": false
   },
   "outputs": [],
   "source": [
    "df_clean = df_clean[df_clean.label.isin(list(counts[counts > 60].index))]"
   ]
  },
  {
   "cell_type": "code",
   "execution_count": 13,
   "metadata": {
    "collapsed": true
   },
   "outputs": [],
   "source": [
    "from sklearn.feature_extraction.text import TfidfVectorizer"
   ]
  },
  {
   "cell_type": "code",
   "execution_count": 14,
   "metadata": {
    "collapsed": true
   },
   "outputs": [],
   "source": [
    "tf = TfidfVectorizer(max_features = 1000, min_df = 100, max_df = 1000)"
   ]
  },
  {
   "cell_type": "code",
   "execution_count": 15,
   "metadata": {
    "collapsed": false
   },
   "outputs": [],
   "source": [
    "df_transformed = tf.fit_transform(df_clean[\"text\"].values)"
   ]
  },
  {
   "cell_type": "code",
   "execution_count": 16,
   "metadata": {
    "collapsed": true
   },
   "outputs": [],
   "source": [
    "df_transformed_final = pd.SparseDataFrame([pd.SparseSeries(df_transformed[i].toarray().ravel()) \n",
    "                                    for i in np.arange(df_transformed.shape[0])])"
   ]
  },
  {
   "cell_type": "markdown",
   "metadata": {},
   "source": [
    "## Kmeans"
   ]
  },
  {
   "cell_type": "markdown",
   "metadata": {},
   "source": [
    "First approach we use is KMeans clustering. We need to transform the data from the text into the numeric features before that. We will use tf-idf algorithm for that, which transform the documents into the numeric vectors. It is short for term frequency and inverse document frequency and it uses the counts of different terms in each article and compare with the counts in all documents. For more information about the algorithm you can visit: "
   ]
  },
  {
   "cell_type": "code",
   "execution_count": 18,
   "metadata": {
    "collapsed": true
   },
   "outputs": [],
   "source": [
    "from sklearn.cluster import KMeans"
   ]
  },
  {
   "cell_type": "code",
   "execution_count": 19,
   "metadata": {
    "collapsed": false
   },
   "outputs": [],
   "source": [
    "cl_10 = KMeans(n_clusters = 10)\n",
    "cl_11 = KMeans(n_clusters = 11)\n",
    "cl_12 = KMeans(n_clusters = 12)\n",
    "cl_13 = KMeans(n_clusters = 13)\n",
    "cl_14 = KMeans(n_clusters = 14)\n",
    "cl_15 = KMeans(n_clusters = 15)\n",
    "cl_16 = KMeans(n_clusters = 16)\n",
    "cl_17 = KMeans(n_clusters = 17)\n",
    "cl_18 = KMeans(n_clusters = 18)\n",
    "res_18 = cl_18.fit_predict(df_transformed_final.as_matrix())\n",
    "res_17 = cl_17.fit_predict(df_transformed_final.as_matrix())\n",
    "res_10 = cl_10.fit_predict(df_transformed_final.as_matrix())\n",
    "res_11 = cl_11.fit_predict(df_transformed_final.as_matrix())\n",
    "res_12 = cl_12.fit_predict(df_transformed_final.as_matrix())\n",
    "res_13 = cl_13.fit_predict(df_transformed_final.as_matrix())\n",
    "res_14 = cl_14.fit_predict(df_transformed_final.as_matrix())\n",
    "res_15 = cl_15.fit_predict(df_transformed_final.as_matrix())\n",
    "res_16 = cl_16.fit_predict(df_transformed_final.as_matrix())"
   ]
  },
  {
   "cell_type": "code",
   "execution_count": 20,
   "metadata": {
    "collapsed": true
   },
   "outputs": [],
   "source": [
    "cl_19 = KMeans(n_clusters = 19)\n",
    "cl_20 = KMeans(n_clusters = 20)\n",
    "# cl_21 = KMeans(n_clusters = 21)\n",
    "# cl_22 = KMeans(n_clusters = 22)\n",
    "res_19 = cl_19.fit_predict(df_transformed_final.as_matrix())\n",
    "res_20 = cl_20.fit_predict(df_transformed_final.as_matrix())\n",
    "# res_21 = cl_21.fit_predict(df_transformed_final.as_matrix())\n",
    "# res_22 = cl_22.fit_predict(df_transformed_final.as_matrix())"
   ]
  },
  {
   "cell_type": "code",
   "execution_count": 21,
   "metadata": {
    "collapsed": false
   },
   "outputs": [
    {
     "name": "stdout",
     "output_type": "stream",
     "text": [
      "Inertia for KMeans with 10 clusters =  23260.223711 \n",
      "Inertia for KMeans with 11 clusters = 23175.115672 \n",
      "Inertia for KMeans with 12 clusters = 23066.631996 \n",
      "Inertia for KMeans with 13 clusters = 22997.639527 \n",
      "Inertia for KMeans with 14 clusters =  22913.975833 \n",
      "Inertia for KMeans with 15 clusters = 22847.225592 \n",
      "Inertia for KMeans with 16 clusters = 22779.764281 \n",
      "Inertia for KMeans with 17 clusters = 22693.061253 \n",
      "Inertia for KMeans with 18 clusters = 22623.904487 \n",
      "Inertia for KMeans with 19 clusters = 22544.504475 \n",
      "Inertia for KMeans with 20 clusters = 22519.283904 \n"
     ]
    }
   ],
   "source": [
    "print(\"Inertia for KMeans with 10 clusters =  %lf \"%(cl_10.inertia_))\n",
    "print(\"Inertia for KMeans with 11 clusters = %lf \"%(cl_11.inertia_))\n",
    "print(\"Inertia for KMeans with 12 clusters = %lf \" %(cl_12.inertia_))\n",
    "print(\"Inertia for KMeans with 13 clusters = %lf \" %(cl_13.inertia_))\n",
    "print(\"Inertia for KMeans with 14 clusters =  %lf \"%(cl_14.inertia_))\n",
    "print(\"Inertia for KMeans with 15 clusters = %lf \"%(cl_15.inertia_))\n",
    "print(\"Inertia for KMeans with 16 clusters = %lf \"%(cl_16.inertia_))\n",
    "print(\"Inertia for KMeans with 17 clusters = %lf \" %(cl_17.inertia_))\n",
    "print(\"Inertia for KMeans with 18 clusters = %lf \" %(cl_18.inertia_))\n",
    "print(\"Inertia for KMeans with 19 clusters = %lf \"%(cl_19.inertia_))\n",
    "print(\"Inertia for KMeans with 20 clusters = %lf \"%(cl_20.inertia_))\n",
    "# print(\"Inertia for KMeans with 21 clusters = %lf \" %(cl_21.inertia_))\n",
    "# print(\"Inertia for KMeans with 22 clusters = %lf \" %(cl_22.inertia_))"
   ]
  },
  {
   "cell_type": "markdown",
   "metadata": {},
   "source": [
    "The inertia of clusters is getting smaller with increasing number of cluster. We expected this behavior because there are many possible topics of the articles and would be hard to fit them into 10 clusters. "
   ]
  },
  {
   "cell_type": "code",
   "execution_count": 22,
   "metadata": {
    "collapsed": true
   },
   "outputs": [],
   "source": [
    "from sklearn.metrics import silhouette_score\n",
    "\n",
    "def get_silhouette_score(data, model):\n",
    "    cluster_labels = model.fit_predict(data)\n",
    "    score = silhouette_score(data, cluster_labels)\n",
    "    return score"
   ]
  },
  {
   "cell_type": "code",
   "execution_count": 23,
   "metadata": {
    "collapsed": false
   },
   "outputs": [
    {
     "name": "stdout",
     "output_type": "stream",
     "text": [
      "0.0210335557488\n",
      "0.0214800705955\n",
      "0.0218457408825\n",
      "0.0237952614046\n",
      "0.0244904783978\n",
      "0.024998723227\n",
      "0.0246250285108\n",
      "0.0271721475043\n",
      "0.0285557281953\n",
      "0.0280178642222\n",
      "0.0300612505969\n"
     ]
    }
   ],
   "source": [
    "print get_silhouette_score(df_transformed_final, cl_10)\n",
    "print get_silhouette_score(df_transformed_final, cl_11)\n",
    "print get_silhouette_score(df_transformed_final, cl_12)\n",
    "print get_silhouette_score(df_transformed_final, cl_13)\n",
    "print get_silhouette_score(df_transformed_final, cl_14)\n",
    "print get_silhouette_score(df_transformed_final, cl_15)\n",
    "print get_silhouette_score(df_transformed_final, cl_16)\n",
    "print get_silhouette_score(df_transformed_final, cl_17)\n",
    "print get_silhouette_score(df_transformed_final, cl_18)\n",
    "print get_silhouette_score(df_transformed_final, cl_19)\n",
    "print get_silhouette_score(df_transformed_final, cl_20)\n",
    "# print get_silhouette_score(df_transformed_final, cl_21)\n",
    "# print get_silhouette_score(df_transformed_final, cl_22)"
   ]
  },
  {
   "cell_type": "code",
   "execution_count": 25,
   "metadata": {
    "collapsed": true
   },
   "outputs": [],
   "source": [
    "# saving the results\n",
    "import pickle"
   ]
  },
  {
   "cell_type": "code",
   "execution_count": 27,
   "metadata": {
    "collapsed": false
   },
   "outputs": [],
   "source": [
    "pickle.dump( cl_20, open( \"/Users/jurajkapasny/Code/GitHub/jurajkapasny/text_analytics/cl_20.p\", \"wb\" ) )\n",
    "pickle.dump( cl_19, open( \"/Users/jurajkapasny/Code/GitHub/jurajkapasny/text_analytics/cl_19.p\", \"wb\" ) )\n",
    "pickle.dump( cl_18, open( \"/Users/jurajkapasny/Code/GitHub/jurajkapasny/text_analytics/cl_18.p\", \"wb\" ) )\n",
    "pickle.dump( cl_17, open( \"/Users/jurajkapasny/Code/GitHub/jurajkapasny/text_analytics/cl_17.p\", \"wb\" ) )\n",
    "pickle.dump( cl_16, open( \"/Users/jurajkapasny/Code/GitHub/jurajkapasny/text_analytics/cl_16.p\", \"wb\" ) )\n",
    "pickle.dump( cl_15, open( \"/Users/jurajkapasny/Code/GitHub/jurajkapasny/text_analytics/cl_15.p\", \"wb\" ) )\n",
    "pickle.dump( cl_14, open( \"/Users/jurajkapasny/Code/GitHub/jurajkapasny/text_analytics/cl_14.p\", \"wb\" ) )\n",
    "pickle.dump( cl_13, open( \"/Users/jurajkapasny/Code/GitHub/jurajkapasny/text_analytics/cl_13.p\", \"wb\" ) )\n",
    "pickle.dump( cl_12, open( \"/Users/jurajkapasny/Code/GitHub/jurajkapasny/text_analytics/cl_12.p\", \"wb\" ) )\n",
    "pickle.dump( cl_11, open( \"/Users/jurajkapasny/Code/GitHub/jurajkapasny/text_analytics/cl_11.p\", \"wb\" ) )\n",
    "pickle.dump( cl_10, open( \"/Users/jurajkapasny/Code/GitHub/jurajkapasny/text_analytics/cl_10.p\", \"wb\" ) )"
   ]
  },
  {
   "cell_type": "code",
   "execution_count": null,
   "metadata": {
    "collapsed": true
   },
   "outputs": [],
   "source": []
  },
  {
   "cell_type": "code",
   "execution_count": 79,
   "metadata": {
    "collapsed": true
   },
   "outputs": [],
   "source": [
    "cl_40 = KMeans(n_clusters = 40)\n",
    "res_40 = cl_40.fit_predict(df_transformed_final.as_matrix())"
   ]
  },
  {
   "cell_type": "code",
   "execution_count": 80,
   "metadata": {
    "collapsed": false
   },
   "outputs": [
    {
     "name": "stdout",
     "output_type": "stream",
     "text": [
      "Inertia for KMeans with 20 clusters = 21476.973524 \n",
      "0.0419544779021\n"
     ]
    }
   ],
   "source": [
    "print(\"Inertia for KMeans with 20 clusters = %lf \"%(cl_40.inertia_))\n",
    "print get_silhouette_score(df_transformed_final, cl_40)"
   ]
  },
  {
   "cell_type": "code",
   "execution_count": null,
   "metadata": {
    "collapsed": true
   },
   "outputs": [],
   "source": []
  },
  {
   "cell_type": "markdown",
   "metadata": {},
   "source": [
    "## Evaluation"
   ]
  },
  {
   "cell_type": "code",
   "execution_count": 28,
   "metadata": {
    "collapsed": true
   },
   "outputs": [],
   "source": [
    "from copy import deepcopy"
   ]
  },
  {
   "cell_type": "code",
   "execution_count": 29,
   "metadata": {
    "collapsed": false
   },
   "outputs": [],
   "source": [
    "df_res = deepcopy(df_clean)\n",
    "df_res[\"res15\"] = res_15\n",
    "df_res[\"res16\"] = res_16\n",
    "df_res[\"res17\"] = res_17\n",
    "df_res[\"res18\"] = res_18\n",
    "df_res[\"res19\"] = res_19\n",
    "df_res[\"res20\"] = res_20"
   ]
  },
  {
   "cell_type": "code",
   "execution_count": 147,
   "metadata": {
    "collapsed": false
   },
   "outputs": [
    {
     "data": {
      "text/plain": [
       "svet                      1710\n",
       "ekonomika                 1321\n",
       "domace                    1285\n",
       "regiony                    446\n",
       "cestovny-ruch              265\n",
       "mesta                      181\n",
       "kniha                      160\n",
       "vesmir                     143\n",
       "hory                       139\n",
       "komentare                  135\n",
       "komentare-a-glosy          134\n",
       "zamestnanie                127\n",
       "nasaprievidza              121\n",
       "tech                       121\n",
       "zem                        113\n",
       "nasazilina                 112\n",
       "nasturiec                  110\n",
       "magazin                    105\n",
       "nasanitra                  102\n",
       "nasekysuce                  99\n",
       "aktuality                   94\n",
       "film-a-televizia            94\n",
       "nasapovazska                93\n",
       "novinky                     90\n",
       "spolocnost                  85\n",
       "nasaorava                   84\n",
       "nastrencin                  75\n",
       "zdravy-zivot                72\n",
       "nasabystrica                70\n",
       "analyzy-a-postrehy          68\n",
       "                          ... \n",
       "topolcanyinfo               52\n",
       "domov                       51\n",
       "dnes-pise                   51\n",
       "more                        51\n",
       "peniaze-a-paragrafy         51\n",
       "exotika                     49\n",
       "zdravie-a-prevencia         49\n",
       "hviezdne-kauzy              45\n",
       "nasnovohrad                 44\n",
       "naszvolen                   43\n",
       "jedlo                       43\n",
       "tenis                       42\n",
       "mynitra                     42\n",
       "zahranicne-ligy             41\n",
       "mytrencin                   40\n",
       "myorava                     39\n",
       "kosice.korzar               36\n",
       "rozhovory                   31\n",
       "kultura                     30\n",
       "poradna                     26\n",
       "auto                        25\n",
       "reprezentacia               24\n",
       "sex-a-vztahy                22\n",
       "zimne-sporty                22\n",
       "zdrava-dusa                 20\n",
       "zdrava-vyziva               18\n",
       "rady-a-tipy                 11\n",
       "parlamentne-volby-2016      11\n",
       "cyklistika                   8\n",
       "rodina                       7\n",
       "Name: label, dtype: int64"
      ]
     },
     "execution_count": 147,
     "metadata": {},
     "output_type": "execute_result"
    }
   ],
   "source": [
    "df_res[df_res.res20 == 14].label.value_counts()"
   ]
  },
  {
   "cell_type": "code",
   "execution_count": 23,
   "metadata": {
    "collapsed": true
   },
   "outputs": [],
   "source": [
    "import plotly.plotly as py\n",
    "import plotly.graph_objs as go\n",
    "py.sign_in('jurajkapasny', 'WhWXTdf0eG67r9ysMSFl')"
   ]
  },
  {
   "cell_type": "code",
   "execution_count": 21,
   "metadata": {
    "collapsed": true
   },
   "outputs": [],
   "source": [
    "#INertia\n",
    "\n",
    "inertias = [23260.223711,23175.115672 ,23066.631996 ,22997.639527 ,22913.975833 ,22847.225592 ,22779.764281 \n",
    "    ,22693.061253 ,22623.904487 ,22544.504475 ,22519.283904 ]\n",
    "x_axis = range(10,21)"
   ]
  },
  {
   "cell_type": "code",
   "execution_count": 33,
   "metadata": {
    "collapsed": false
   },
   "outputs": [
    {
     "data": {
      "text/html": [
       "<iframe id=\"igraph\" scrolling=\"no\" style=\"border:none;\" seamless=\"seamless\" src=\"https://plot.ly/~jurajkapasny/85.embed\" height=\"525px\" width=\"100%\"></iframe>"
      ],
      "text/plain": [
       "<plotly.tools.PlotlyDisplay object>"
      ]
     },
     "execution_count": 33,
     "metadata": {},
     "output_type": "execute_result"
    }
   ],
   "source": [
    "trace = go.Scatter(\n",
    "    x = x_axis,\n",
    "    y = inertias,\n",
    "    mode = 'lines',\n",
    "    name = 'lines',\n",
    "    marker=dict(\n",
    "                color=\"#00cedc\")\n",
    ")\n",
    "layout = go.Layout(\n",
    "    title='Inertia',\n",
    ")\n",
    "data = [trace]\n",
    "\n",
    "fig = dict(data=data, layout=layout)\n",
    "py.iplot(fig, filename='styled-line')"
   ]
  },
  {
   "cell_type": "code",
   "execution_count": null,
   "metadata": {
    "collapsed": true
   },
   "outputs": [],
   "source": []
  },
  {
   "cell_type": "code",
   "execution_count": 30,
   "metadata": {
    "collapsed": true
   },
   "outputs": [],
   "source": [
    "#Sillhoutte\n",
    "\n",
    "sillhoutte = [0.0210335557488,0.0214800705955,0.0218457408825,0.0237952614046,0.0244904783978\n",
    ",0.024998723227,0.0246250285108,0.0271721475043,0.0285557281953,0.0280178642222,0.0300612505969]\n",
    "x_axis = range(10,21)"
   ]
  },
  {
   "cell_type": "code",
   "execution_count": 32,
   "metadata": {
    "collapsed": false
   },
   "outputs": [
    {
     "data": {
      "text/html": [
       "<iframe id=\"igraph\" scrolling=\"no\" style=\"border:none;\" seamless=\"seamless\" src=\"https://plot.ly/~jurajkapasny/87.embed\" height=\"525px\" width=\"100%\"></iframe>"
      ],
      "text/plain": [
       "<plotly.tools.PlotlyDisplay object>"
      ]
     },
     "execution_count": 32,
     "metadata": {},
     "output_type": "execute_result"
    }
   ],
   "source": [
    "trace = go.Scatter(\n",
    "    x = x_axis,\n",
    "    y = sillhoutte,\n",
    "    mode = 'lines',\n",
    "    name = 'lines',\n",
    "    marker=dict(\n",
    "                color=\"#00cedc\")\n",
    ")\n",
    "layout = go.Layout(\n",
    "    title='Silhouette Score',\n",
    ")\n",
    "data = [trace]\n",
    "\n",
    "fig = dict(data=data, layout=layout)\n",
    "py.iplot(fig, filename='styled-line-silhouette')"
   ]
  },
  {
   "cell_type": "code",
   "execution_count": null,
   "metadata": {
    "collapsed": true
   },
   "outputs": [],
   "source": []
  },
  {
   "cell_type": "code",
   "execution_count": null,
   "metadata": {
    "collapsed": true
   },
   "outputs": [],
   "source": []
  },
  {
   "cell_type": "code",
   "execution_count": null,
   "metadata": {
    "collapsed": true
   },
   "outputs": [],
   "source": []
  },
  {
   "cell_type": "code",
   "execution_count": 149,
   "metadata": {
    "collapsed": false
   },
   "outputs": [
    {
     "data": {
      "text/html": [
       "<iframe id=\"igraph\" scrolling=\"no\" style=\"border:none;\" seamless=\"seamless\" src=\"https://plot.ly/~jurajkapasny/69.embed\" height=\"525px\" width=\"100%\"></iframe>"
      ],
      "text/plain": [
       "<plotly.tools.PlotlyDisplay object>"
      ]
     },
     "execution_count": 149,
     "metadata": {},
     "output_type": "execute_result"
    }
   ],
   "source": [
    "data = [go.Bar(\n",
    "            x=df_res[df_res.res20 == 0].label.value_counts().index[:5],\n",
    "            y=df_res[df_res.res20 == 0].label.value_counts()[:5] / df_res[df_res.res20 == 0].label.value_counts().sum(),\n",
    "            marker=dict(\n",
    "                color=\"#00cedc\")\n",
    "    )]\n",
    "\n",
    "# data = [trace0]\n",
    "layout = go.Layout(\n",
    "    title='Cluster 0 (Health and Food)',\n",
    ")\n",
    "fig = go.Figure(data=data, layout=layout)\n",
    "py.iplot(fig, filename='basic-bar-0')"
   ]
  },
  {
   "cell_type": "code",
   "execution_count": 150,
   "metadata": {
    "collapsed": false
   },
   "outputs": [
    {
     "data": {
      "text/html": [
       "<iframe id=\"igraph\" scrolling=\"no\" style=\"border:none;\" seamless=\"seamless\" src=\"https://plot.ly/~jurajkapasny/71.embed\" height=\"525px\" width=\"100%\"></iframe>"
      ],
      "text/plain": [
       "<plotly.tools.PlotlyDisplay object>"
      ]
     },
     "execution_count": 150,
     "metadata": {},
     "output_type": "execute_result"
    }
   ],
   "source": [
    "data = [go.Bar(\n",
    "            x=df_res[df_res.res20 == 9].label.value_counts().index[:5],\n",
    "            y=df_res[df_res.res20 == 9].label.value_counts()[:5] / df_res[df_res.res20 == 9].label.value_counts().sum(),\n",
    "            marker=dict(\n",
    "                color=\"#cb4b4a\")\n",
    "    )]\n",
    "\n",
    "# data = [trace0]\n",
    "layout = go.Layout(\n",
    "    title='Cluster 9 (Sport)',\n",
    ")\n",
    "fig = go.Figure(data=data, layout=layout)\n",
    "py.iplot(fig, filename='basic-bar-9')"
   ]
  },
  {
   "cell_type": "code",
   "execution_count": 151,
   "metadata": {
    "collapsed": false
   },
   "outputs": [
    {
     "data": {
      "text/html": [
       "<iframe id=\"igraph\" scrolling=\"no\" style=\"border:none;\" seamless=\"seamless\" src=\"https://plot.ly/~jurajkapasny/73.embed\" height=\"525px\" width=\"100%\"></iframe>"
      ],
      "text/plain": [
       "<plotly.tools.PlotlyDisplay object>"
      ]
     },
     "execution_count": 151,
     "metadata": {},
     "output_type": "execute_result"
    }
   ],
   "source": [
    "data = [go.Bar(\n",
    "            x=df_res[df_res.res20 == 18].label.value_counts().index[:5],\n",
    "            y=df_res[df_res.res20 == 18].label.value_counts()[:5] / df_res[df_res.res20 == 18].label.value_counts().sum(),\n",
    "            marker=dict(\n",
    "                color=\"#cb4b4a\")\n",
    "    )]\n",
    "\n",
    "# data = [trace0]\n",
    "layout = go.Layout(\n",
    "    title='Cluster 18',\n",
    ")\n",
    "fig = go.Figure(data=data, layout=layout)\n",
    "py.iplot(fig, filename='basic-bar-18')"
   ]
  },
  {
   "cell_type": "code",
   "execution_count": 152,
   "metadata": {
    "collapsed": false
   },
   "outputs": [
    {
     "data": {
      "text/html": [
       "<iframe id=\"igraph\" scrolling=\"no\" style=\"border:none;\" seamless=\"seamless\" src=\"https://plot.ly/~jurajkapasny/75.embed\" height=\"525px\" width=\"100%\"></iframe>"
      ],
      "text/plain": [
       "<plotly.tools.PlotlyDisplay object>"
      ]
     },
     "execution_count": 152,
     "metadata": {},
     "output_type": "execute_result"
    }
   ],
   "source": [
    "data = [go.Bar(\n",
    "            x=df_res[df_res.res20 == 8].label.value_counts().index[:5],\n",
    "            y=df_res[df_res.res20 == 8].label.value_counts()[:5] / df_res[df_res.res20 == 8].label.value_counts().sum(),\n",
    "            marker=dict(\n",
    "                color=\"#00cedc\")\n",
    "    )]\n",
    "\n",
    "# data = [trace0]\n",
    "layout = go.Layout(\n",
    "    title='Cluster 8 (Relationships)',\n",
    ")\n",
    "fig = go.Figure(data=data, layout=layout)\n",
    "py.iplot(fig, filename='basic-bar-8')"
   ]
  },
  {
   "cell_type": "code",
   "execution_count": 153,
   "metadata": {
    "collapsed": false
   },
   "outputs": [
    {
     "data": {
      "text/html": [
       "<iframe id=\"igraph\" scrolling=\"no\" style=\"border:none;\" seamless=\"seamless\" src=\"https://plot.ly/~jurajkapasny/77.embed\" height=\"525px\" width=\"100%\"></iframe>"
      ],
      "text/plain": [
       "<plotly.tools.PlotlyDisplay object>"
      ]
     },
     "execution_count": 153,
     "metadata": {},
     "output_type": "execute_result"
    }
   ],
   "source": [
    "data = [go.Bar(\n",
    "            x=df_res[df_res.res20 == 11].label.value_counts().index[:5],\n",
    "            y=df_res[df_res.res20 == 11].label.value_counts()[:5] / df_res[df_res.res20 == 11].label.value_counts().sum(),\n",
    "            marker=dict(\n",
    "                color=\"#00cedc\")\n",
    "    )]\n",
    "\n",
    "# data = [trace0]\n",
    "layout = go.Layout(\n",
    "    title='Cluster 11 (World)',\n",
    ")\n",
    "fig = go.Figure(data=data, layout=layout)\n",
    "py.iplot(fig, filename='basic-bar-11')"
   ]
  },
  {
   "cell_type": "code",
   "execution_count": 154,
   "metadata": {
    "collapsed": false
   },
   "outputs": [
    {
     "data": {
      "text/html": [
       "<iframe id=\"igraph\" scrolling=\"no\" style=\"border:none;\" seamless=\"seamless\" src=\"https://plot.ly/~jurajkapasny/79.embed\" height=\"525px\" width=\"100%\"></iframe>"
      ],
      "text/plain": [
       "<plotly.tools.PlotlyDisplay object>"
      ]
     },
     "execution_count": 154,
     "metadata": {},
     "output_type": "execute_result"
    }
   ],
   "source": [
    "data = [go.Bar(\n",
    "            x=df_res[df_res.res20 == 10].label.value_counts().index[:5],\n",
    "            y=df_res[df_res.res20 == 10].label.value_counts()[:5] / df_res[df_res.res20 == 10].label.value_counts().sum(),\n",
    "            marker=dict(\n",
    "                color=\"#cb4b4a\")\n",
    "    )]\n",
    "\n",
    "# data = [trace0]\n",
    "layout = go.Layout(\n",
    "    title='Cluster 10 (Economics)',\n",
    ")\n",
    "fig = go.Figure(data=data, layout=layout)\n",
    "py.iplot(fig, filename='basic-bar-10')"
   ]
  },
  {
   "cell_type": "code",
   "execution_count": 155,
   "metadata": {
    "collapsed": false
   },
   "outputs": [
    {
     "data": {
      "text/html": [
       "<iframe id=\"igraph\" scrolling=\"no\" style=\"border:none;\" seamless=\"seamless\" src=\"https://plot.ly/~jurajkapasny/81.embed\" height=\"525px\" width=\"100%\"></iframe>"
      ],
      "text/plain": [
       "<plotly.tools.PlotlyDisplay object>"
      ]
     },
     "execution_count": 155,
     "metadata": {},
     "output_type": "execute_result"
    }
   ],
   "source": [
    "data = [go.Bar(\n",
    "            x=df_res[df_res.res20 == 14].label.value_counts().index[:5],\n",
    "            y=df_res[df_res.res20 == 14].label.value_counts()[:5] / df_res[df_res.res20 == 14].label.value_counts().sum(),\n",
    "            marker=dict(\n",
    "                color=\"#cb4b4a\")\n",
    "    )]\n",
    "\n",
    "# data = [trace0]\n",
    "layout = go.Layout(\n",
    "    title='Cluster 14 (Mix)',\n",
    ")\n",
    "fig = go.Figure(data=data, layout=layout)\n",
    "py.iplot(fig, filename='basic-bar-14')"
   ]
  },
  {
   "cell_type": "code",
   "execution_count": null,
   "metadata": {
    "collapsed": true
   },
   "outputs": [],
   "source": []
  }
 ],
 "metadata": {
  "kernelspec": {
   "display_name": "Python 2",
   "language": "python",
   "name": "python2"
  },
  "language_info": {
   "codemirror_mode": {
    "name": "ipython",
    "version": 2
   },
   "file_extension": ".py",
   "mimetype": "text/x-python",
   "name": "python",
   "nbconvert_exporter": "python",
   "pygments_lexer": "ipython2",
   "version": "2.7.11"
  }
 },
 "nbformat": 4,
 "nbformat_minor": 0
}
