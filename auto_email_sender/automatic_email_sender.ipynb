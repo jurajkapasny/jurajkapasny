{
 "cells": [
  {
   "cell_type": "code",
   "execution_count": 1,
   "metadata": {
    "collapsed": true
   },
   "outputs": [],
   "source": [
    "import smtplib\n",
    "from email.mime.text import MIMEText\n",
    "from email.mime.multipart import MIMEMultipart\n",
    "import requests\n",
    "import pandas as pd\n",
    "import time\n",
    "\n",
    "from pandas import DataFrame\n",
    "from StringIO import StringIO\n",
    "me = \"info@jamieniederer.com\"\n",
    "you = \"toma.lukas@gmail.com\"\n",
    "USERNAME = \"wp12368441-349353\"\n",
    "PASSWORD = \"HHgs152.2\"\n",
    "SERVER = 'wp028.webpack.hosteurope.de'\n",
    "PORT = 587\n",
    "SUBJECT = unicode(\"In need of a creative ninja?\", \"utf-8\")"
   ]
  },
  {
   "cell_type": "code",
   "execution_count": null,
   "metadata": {
    "collapsed": false
   },
   "outputs": [],
   "source": []
  },
  {
   "cell_type": "code",
   "execution_count": 2,
   "metadata": {
    "collapsed": true
   },
   "outputs": [],
   "source": [
    "#paths to letter files\n",
    "html_path = \"/Users/lukastoma/Documents/MyRandomFunctions/dev/letter_text_international.html\"\n",
    "plain_path = \"/Users/lukastoma/Documents/MyRandomFunctions/dev/letter_text.txt\""
   ]
  },
  {
   "cell_type": "code",
   "execution_count": 3,
   "metadata": {
    "collapsed": false
   },
   "outputs": [],
   "source": [
    "class SenderServer():\n",
    "    \"\"\"\n",
    "    Class to take care of connection and parameters to send emails\n",
    "    \"\"\"\n",
    "    def __init__(self, my_email, server, port, username, password):\n",
    "        self.me = my_email\n",
    "        self.server = smtplib.SMTP(server, port)\n",
    "        self.server.ehlo()\n",
    "        self.server.starttls()\n",
    "        self.server.ehlo()\n",
    "        self.server.login(username, password)\n",
    "        \n",
    "    def send_mail(self, msg):\n",
    "        self.server.sendmail(self.me, [msg[\"To\"]], msg.as_string())\n",
    "        \n",
    "    def end_connection(self):\n",
    "        self.server.quit()\n",
    "\n",
    "class MessageFormatterAndSender:\n",
    "    def __init__(self, sender_server, html_path = None, plain_path = None):\n",
    "        self.server = sender_server\n",
    "        self.multipart = False\n",
    "        if html_path is None and plain_path is None:\n",
    "            raise BaseException(\"supply location of the text\")\n",
    "        \n",
    "        if html_path is not None:\n",
    "            #read html from file\n",
    "            with open(html_path, \"rb\") as fp:\n",
    "                self.html = fp.read()\n",
    "        else:\n",
    "            self.html = None\n",
    "            \n",
    "        if plain_path is not None:\n",
    "            with open(plain_path, \"rb\") as fp:\n",
    "                self.plain = fp.read()\n",
    "        else:\n",
    "            self.plain = None\n",
    "                \n",
    "        if html_path is not None and plain_path is not None:\n",
    "            self.multipart = True\n",
    "                \n",
    "    def send_formated_message(self, names_to_fill, email, subject):\n",
    "        \"\"\"\n",
    "        created and send emails authomatically\n",
    "        \"\"\"\n",
    "        if self.html is None and self.plain is None:\n",
    "            raise BaseException(\"supply letter text\")\n",
    "        elif (self.html is None or self.plain is None) and self.multipart:\n",
    "            raise BaseException(\"cannot use multipart if both not supplied\")\n",
    "\n",
    "        if self.plain is not None:\n",
    "            plain_new = self.plain %names_to_fill\n",
    "        if self.html is not None:\n",
    "            html_new = self.html %names_to_fill\n",
    "            \n",
    "        if self.multipart:\n",
    "            #create message\n",
    "            msg = MIMEMultipart(\"alternative\")\n",
    "            msg.attach(MIMEText(plain_new, \"plain\"))\n",
    "            msg.attach(MIMEText(html_new, \"html\"))\n",
    "        elif self.html is not None:\n",
    "            msg = MIMEText(html_new, \"html\")\n",
    "        elif self.plain is not None:\n",
    "            msg = MIMEText(plain_new, \"plain\")\n",
    "\n",
    "        msg['Subject'] = subject\n",
    "        msg['From'] = me\n",
    "        msg['To'] = email\n",
    "        \n",
    "        self.server.send_mail(msg)\n",
    "    "
   ]
  },
  {
   "cell_type": "code",
   "execution_count": 21,
   "metadata": {
    "collapsed": false
   },
   "outputs": [
    {
     "data": {
      "text/html": [
       "<div>\n",
       "<table border=\"1\" class=\"dataframe\">\n",
       "  <thead>\n",
       "    <tr style=\"text-align: right;\">\n",
       "      <th></th>\n",
       "      <th>name</th>\n",
       "      <th>website</th>\n",
       "      <th>email_address</th>\n",
       "      <th>send</th>\n",
       "      <th>done</th>\n",
       "    </tr>\n",
       "  </thead>\n",
       "  <tbody>\n",
       "    <tr>\n",
       "      <th>0</th>\n",
       "      <td>Achtung!</td>\n",
       "      <td>www.achtung.nl</td>\n",
       "      <td>office@achtung.nl</td>\n",
       "      <td>yes</td>\n",
       "      <td>NaN</td>\n",
       "    </tr>\n",
       "    <tr>\n",
       "      <th>1</th>\n",
       "      <td>Blast Radius</td>\n",
       "      <td>www.blastradius.com</td>\n",
       "      <td>amsterdam@blastradius.com</td>\n",
       "      <td>yes</td>\n",
       "      <td>NaN</td>\n",
       "    </tr>\n",
       "    <tr>\n",
       "      <th>2</th>\n",
       "      <td>Booreiland</td>\n",
       "      <td>www.booreiland.nl</td>\n",
       "      <td>info@booreiland.nl</td>\n",
       "      <td>yes</td>\n",
       "      <td>NaN</td>\n",
       "    </tr>\n",
       "    <tr>\n",
       "      <th>3</th>\n",
       "      <td>Burst Digital</td>\n",
       "      <td>www.burst-digital.com</td>\n",
       "      <td>info@burst-digital.com</td>\n",
       "      <td>yes</td>\n",
       "      <td>NaN</td>\n",
       "    </tr>\n",
       "    <tr>\n",
       "      <th>4</th>\n",
       "      <td>Cartelle</td>\n",
       "      <td>www.cartelle.nl</td>\n",
       "      <td>info@cartelle.nl</td>\n",
       "      <td>yes</td>\n",
       "      <td>NaN</td>\n",
       "    </tr>\n",
       "  </tbody>\n",
       "</table>\n",
       "</div>"
      ],
      "text/plain": [
       "            name                website              email_address send  done\n",
       "0       Achtung!         www.achtung.nl          office@achtung.nl  yes   NaN\n",
       "1   Blast Radius    www.blastradius.com  amsterdam@blastradius.com  yes   NaN\n",
       "2     Booreiland      www.booreiland.nl         info@booreiland.nl  yes   NaN\n",
       "3  Burst Digital  www.burst-digital.com     info@burst-digital.com  yes   NaN\n",
       "4       Cartelle        www.cartelle.nl           info@cartelle.nl  yes   NaN"
      ]
     },
     "execution_count": 21,
     "metadata": {},
     "output_type": "execute_result"
    }
   ],
   "source": [
    "df.head()"
   ]
  },
  {
   "cell_type": "code",
   "execution_count": null,
   "metadata": {
    "collapsed": false
   },
   "outputs": [
    {
     "name": "stdout",
     "output_type": "stream",
     "text": [
      "Sending for Toormix to info@toormix.com (1 out of 272)\n",
      "    >Sent successfully...\n",
      "Sending for Whatalovelyday to info@whatalovelyday.com (2 out of 272)\n",
      "    >Sent successfully...\n",
      "Sending for 6S Marketing to sales@6smarketing.com (3 out of 272)\n",
      "    >Sent successfully...\n",
      "Sending for 88 Creative to hello@88creative.ca (4 out of 272)\n",
      "    >Sent successfully...\n",
      "Sending for 9thCO Inc. to info@9thco.com (5 out of 272)\n",
      "    >Sent successfully...\n",
      "Sending for Arcane to begin@arcane.ws (6 out of 272)\n",
      "    >Sent successfully...\n",
      "Sending for Art & Science to info@artscience.ca (7 out of 272)\n",
      "    >Sent successfully...\n",
      "Sending for BlueBand Digital to info@bluebanddigital.com (8 out of 272)\n",
      "    >Sent successfully...\n",
      "Sending for Cordon Media to info@cordonmedia.com (9 out of 272)\n",
      "    >Sent successfully...\n",
      "Sending for Critical Mass to newbusiness@criticalmass.com (10 out of 272)\n",
      "    >Sent successfully...\n",
      "Sending for Cundari to newbusiness@cundari.com (11 out of 272)\n",
      "    >Sent successfully...\n",
      "Sending for DAC Group to media@dacgroup.com (12 out of 272)\n",
      "    >Sent successfully...\n",
      "Sending for Design Pilot to start@design-pilot.com (13 out of 272)\n",
      "    >Sent successfully...\n",
      "Sending for Drive Digital to info@drivedigital.ca (14 out of 272)\n",
      "    >Sent successfully...\n",
      "Sending for FCV Interactive to edel.ronan@fcv.ca (15 out of 272)\n",
      "    >Sent successfully...\n",
      "Sending for Filament to heythere@filamentlab.com (16 out of 272)\n",
      "    >Sent successfully...\n",
      "Sending for Fuse to info@fusemg.com (17 out of 272)\n",
      "    >Sent successfully...\n",
      "Sending for Huge to to@hugeinc.com (18 out of 272)\n",
      "    >Sent successfully...\n",
      "Sending for Huge Impact to info@hugeimpact.com (19 out of 272)\n",
      "    >Sent successfully...\n",
      "Sending for Idea Rebel to to@idearebel.com (20 out of 272)\n",
      "    >Sent successfully...\n",
      "Sending for Jar Creative to hello@jarcreative.com (21 out of 272)\n",
      "    >Sent successfully...\n",
      "Sending for Kinex Media Inc. to info@kinexmedia.com (22 out of 272)\n",
      "    >Sent successfully...\n",
      "Sending for Noise Digital to toronto@noisedigital.com (23 out of 272)\n",
      "    >Sent successfully...\n",
      "Sending for Northern to info@northern.co (24 out of 272)\n",
      "    >Sent successfully...\n",
      "Sending for OneMethod to ideas@onemethod.com (25 out of 272)\n",
      "    >Sent successfully...\n",
      "Sending for Playground to hello@playgroundinc.com (26 out of 272)\n",
      "    >Sent successfully...\n",
      "Sending for Secret Location to contact@thesecretlocation.com (27 out of 272)\n",
      "    >Sent successfully...\n",
      "Sending for Spaz Media to info@spazmedia.com (28 out of 272)\n",
      "    >Sent successfully..."
     ]
    }
   ],
   "source": [
    "#read from google doc\n",
    "#r = requests.get('https://docs.google.com/spreadsheets/d/1Lytul8W-hYwhyWoD2Z4_ZqpkV2iNg0aNoNS27waHr2c/export?format=csv&id')\n",
    "#r = requests.get('https://docs.google.com/spreadsheets/d/1_DegFZwc_gyhdxP4FUgSOqYHqC__2_m4Or93XlXJkbw/export?format=csv&id')\n",
    "#data = r.content\n",
    "\n",
    "#df = pd.read_csv(StringIO(data))\n",
    "df = pd.read_csv(\"/Users/lukastoma/Downloads/Agencies Worldwide - Tabellenblatt1.csv\")\n",
    "to_send = df.ix[df.send == \"yes\"]\n",
    "to_send.fillna({\"done\": \"not done\"}, inplace = True)\n",
    "to_send = to_send.ix[to_send.done == \"not done\"]\n",
    "#print to_send\n",
    "server = SenderServer(me, SERVER, PORT, USERNAME, PASSWORD)\n",
    "msg_sender = MessageFormatterAndSender(server, html_path, None)\n",
    "num_to_send = len(to_send.index)\n",
    "ind = 0\n",
    "for i in range(num_to_send):\n",
    "    ind +=1\n",
    "#     if ind == 49:\n",
    "#         raise BaseException(\"Send 49 emails!!!\")\n",
    "    agency = to_send.iloc[i]\n",
    "    name = agency[\"name\"]\n",
    "    email = agency[\"email_address\"]\n",
    "    #email = \"toma.lukas@gmail.com\"\n",
    "    print \"Sending for %s to %s (%s out of %s)\" %(name, email, ind, num_to_send )\n",
    "    try:\n",
    "        msg_sender.send_formated_message(name, email, SUBJECT)\n",
    "        print \"    >Sent successfully...\"\n",
    "    except Exception as e:\n",
    "        print \"    >Failed sending: %s\" %e\n",
    "        print \"Waiting...\"\n",
    "        time.sleep(4000)\n",
    "        server = SenderServer(me, SERVER, PORT, USERNAME, PASSWORD)\n",
    "        msg_sender.send_formated_message(name, email, SUBJECT)\n",
    "    \n",
    "server.end_connection()    "
   ]
  },
  {
   "cell_type": "code",
   "execution_count": 29,
   "metadata": {
    "collapsed": false
   },
   "outputs": [
    {
     "data": {
      "text/plain": [
       "463"
      ]
     },
     "execution_count": 29,
     "metadata": {},
     "output_type": "execute_result"
    }
   ],
   "source": [
    "num_to_send"
   ]
  },
  {
   "cell_type": "code",
   "execution_count": 8,
   "metadata": {
    "collapsed": false
   },
   "outputs": [],
   "source": [
    "df = pd.read_csv(\"/Users/lukastoma/Downloads/Agencies Worldwide - Tabellenblatt1.csv\")\n",
    "to_send = df.ix[df.send == \"yes\"]\n",
    "to_send.fillna({\"done\": \"not done\"}, inplace = True)\n",
    "to_send = to_send.ix[to_send.done == \"not done\"]"
   ]
  },
  {
   "cell_type": "code",
   "execution_count": 9,
   "metadata": {
    "collapsed": false
   },
   "outputs": [
    {
     "data": {
      "text/plain": [
       "272"
      ]
     },
     "execution_count": 9,
     "metadata": {},
     "output_type": "execute_result"
    }
   ],
   "source": [
    "len(to_send.index)"
   ]
  },
  {
   "cell_type": "code",
   "execution_count": null,
   "metadata": {
    "collapsed": true
   },
   "outputs": [],
   "source": []
  }
 ],
 "metadata": {
  "kernelspec": {
   "display_name": "Python 2",
   "language": "python",
   "name": "python2"
  },
  "language_info": {
   "codemirror_mode": {
    "name": "ipython",
    "version": 2
   },
   "file_extension": ".py",
   "mimetype": "text/x-python",
   "name": "python",
   "nbconvert_exporter": "python",
   "pygments_lexer": "ipython2",
   "version": "2.7.10"
  }
 },
 "nbformat": 4,
 "nbformat_minor": 0
}
