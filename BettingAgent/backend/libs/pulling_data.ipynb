{
 "cells": [
  {
   "cell_type": "code",
   "execution_count": 1,
   "metadata": {
    "collapsed": false
   },
   "outputs": [],
   "source": [
    "import pandas as pd\n",
    "import numpy as np\n",
    "\n",
    "import itertools\n",
    "import csv\n",
    "import re\n",
    "from SportsFeedAPI.api import *"
   ]
  },
  {
   "cell_type": "code",
   "execution_count": 2,
   "metadata": {
    "collapsed": false
   },
   "outputs": [],
   "source": [
    "config = MsfLib(version=\"1.0\")\n",
    "storage = FeedStorageMethod(config)"
   ]
  },
  {
   "cell_type": "code",
   "execution_count": 3,
   "metadata": {},
   "outputs": [],
   "source": [
    "class PullData:\n",
    "    \n",
    "    def __init__(self, sport, season, season_type, date, output_type):\n",
    "    \n",
    "        self.sport = sport\n",
    "        self.season = season\n",
    "        self.season_type = season_type\n",
    "        self.date = date\n",
    "        self.output_type = output_type\n",
    "    \n",
    "        self.feed = Feed(config, \n",
    "                    sport=self.sport, \n",
    "                    season=self.season, \n",
    "                    season_type=self.season_type, \n",
    "                    date=self.date, \n",
    "                    output_type=self.output_type)\n",
    "\n",
    "        self.feed.set_store(storage)\n",
    "\n",
    "        \n",
    "    def pull_all(self):\n",
    "        df_cum_player_stats = self.pull_cum_player_stats(self.feed, self.date, self.season, self.season_type)\n",
    "        df_roster_players = self.pull_roster_players(self.feed, self.date, self.season, self.season_type)\n",
    "        df_player_injuries = self.pull_player_injuries(self.feed, self.date, self.season, self.season_type)\n",
    "        df_daily_player_stats = self.pull_daily_player_stats(self.feed, self.date, self.season, self.season_type)\n",
    "\n",
    "        #TODO - pull box score and play by play\n",
    "        \n",
    "        return  (\n",
    "                df_cum_player_stats,\n",
    "                df_roster_players,\n",
    "                df_player_injuries,\n",
    "                df_daily_player_stats\n",
    "        )\n",
    "    \n",
    "    @staticmethod\n",
    "    def pull_cum_player_stats(feed, date, season, season_type):\n",
    "        feed.cum_player_stats()\n",
    "        path_data = \"../../data/nba-cumulative_player_stats-\" + date + \"-\" + season +\\\n",
    "                    \"-\" + season_type + \".csv\"\n",
    "    #     print path_data\n",
    "\n",
    "        data = []\n",
    "        i = 0\n",
    "        with open(path_data, 'rb') as f:\n",
    "            reader = csv.reader(f)\n",
    "            for row in reader:\n",
    "                if i == 0:\n",
    "                    names = re.sub(\"#\",\"\",row[0]).split(',')\n",
    "                    #print row\n",
    "                else:\n",
    "                    data.append(re.split(''',(?=(?:[^\"]|'[^']*'|\"[^\"]*\")*$)''', re.sub(\"#\",\"\",row[0])))\n",
    "                    #parsing at each , except when \",\"\n",
    "                i = i+1\n",
    "        df = pd.DataFrame(data, columns = names)\n",
    "\n",
    "        return df\n",
    "    \n",
    "    @staticmethod\n",
    "    def pull_roster_players(feed, date, season, season_type):\n",
    "        feed.roster()\n",
    "        path_data = \"../../data/nba-roster_players-\" + date + \"-\" + season +\\\n",
    "                    \"-\" + season_type + \".csv\"\n",
    "    #     print path_data\n",
    "\n",
    "        data = []\n",
    "        i = 0\n",
    "        with open(path_data, 'rb') as f:\n",
    "            reader = csv.reader(f)\n",
    "            for row in reader:\n",
    "                if i == 0:\n",
    "                    names = re.sub(\"#\",\"\",row[0]).split(',')\n",
    "                    #print row\n",
    "                else:\n",
    "                    data.append(re.split(''',(?=(?:[^\"]|'[^']*'|\"[^\"]*\")*$)''', re.sub(\"#\",\"\",row[0])))\n",
    "                    #parsing at each , except when \",\"\n",
    "                i = i+1\n",
    "        df = pd.DataFrame(data, columns = names)\n",
    "\n",
    "        return df\n",
    "\n",
    "    @staticmethod\n",
    "    def pull_player_injuries(feed, date, season, season_type):\n",
    "        feed.player_injuries()\n",
    "        path_data = \"../../data/nba-player_injuries-\" + date + \"-\" + season +\\\n",
    "                    \"-\" + season_type + \".csv\"\n",
    "    #     print path_data\n",
    "\n",
    "        data = []\n",
    "        i = 0\n",
    "        with open(path_data, 'rb') as f:\n",
    "            reader = csv.reader(f)\n",
    "            for row in reader:\n",
    "                if i == 0:\n",
    "                    names = re.sub(\"#\",\"\",row[0]).split(',')\n",
    "                    #print row\n",
    "                else:\n",
    "                    data.append(re.split(''',(?=(?:[^\"]|'[^']*'|\"[^\"]*\")*$)''', re.sub(\"#\",\"\",row[0])))\n",
    "                    #parsing at each , except when \",\"\n",
    "                i = i+1\n",
    "        df = pd.DataFrame(data, columns = names)\n",
    "\n",
    "        return df\n",
    "\n",
    "    @staticmethod\n",
    "    def pull_daily_player_stats(feed, date, season, season_type):\n",
    "        feed.daily_player_stats()\n",
    "        path_data = \"../../data/nba-daily_player_stats-\" + date + \"-\" + season +\\\n",
    "                    \"-\" + season_type + \".csv\"\n",
    "    #     print path_data\n",
    "\n",
    "        data = []\n",
    "        i = 0\n",
    "        with open(path_data, 'rb') as f:\n",
    "            reader = csv.reader(f)\n",
    "            for row in reader:\n",
    "                if i == 0:\n",
    "                    names = re.sub(\"#\",\"\",row[0]).split(',')\n",
    "                    #print row\n",
    "                else:\n",
    "                    data.append(re.split(''',(?=(?:[^\"]|[^]*|\"[^\"]*\")*$)''', re.sub(\"#\",\"\",row[0])))\n",
    "                    #parsing at each , except when \",\"\n",
    "                i = i+1\n",
    "        df = pd.DataFrame(data, columns = names)\n",
    "\n",
    "        return df"
   ]
  },
  {
   "cell_type": "code",
   "execution_count": null,
   "metadata": {},
   "outputs": [],
   "source": []
  },
  {
   "cell_type": "code",
   "execution_count": 4,
   "metadata": {},
   "outputs": [],
   "source": [
    "pullData = PullData(\"nba\", \"2016-2017\", \"regular\", \"20170120\", \"csv\")"
   ]
  },
  {
   "cell_type": "code",
   "execution_count": 5,
   "metadata": {},
   "outputs": [
    {
     "name": "stdout",
     "output_type": "stream",
     "text": [
      "/cumulative_player_stats.csv\n",
      "https://api.mysportsfeeds.com/v1.2/pull/nba/2016-2017-regular/cumulative_player_stats.csv\n",
      "/roster_players.csv\n",
      "https://api.mysportsfeeds.com/v1.2/pull/nba/2016-2017-regular/roster_players.csv\n",
      "/player_injuries.csv\n",
      "https://api.mysportsfeeds.com/v1.2/pull/nba/2016-2017-regular/player_injuries.csv\n",
      "/daily_player_stats.csv\n",
      "https://api.mysportsfeeds.com/v1.2/pull/nba/2016-2017-regular/daily_player_stats.csv\n"
     ]
    }
   ],
   "source": [
    "(\n",
    "df_cum_player_stats,\n",
    "df_roster_players,\n",
    "df_player_injuries,\n",
    "df_daily_player_stats) = pullData.pull_all()"
   ]
  },
  {
   "cell_type": "code",
   "execution_count": 6,
   "metadata": {},
   "outputs": [],
   "source": [
    "# df_roster_players"
   ]
  },
  {
   "cell_type": "code",
   "execution_count": 7,
   "metadata": {},
   "outputs": [],
   "source": [
    "# df_daily_player_stats"
   ]
  },
  {
   "cell_type": "code",
   "execution_count": null,
   "metadata": {},
   "outputs": [],
   "source": []
  },
  {
   "cell_type": "code",
   "execution_count": null,
   "metadata": {},
   "outputs": [],
   "source": []
  },
  {
   "cell_type": "code",
   "execution_count": 8,
   "metadata": {},
   "outputs": [],
   "source": [
    "feed = Feed(config, \n",
    "                    sport=\"nba\", \n",
    "                    season=\"2016-2017\", \n",
    "                    season_type=\"regular\", \n",
    "                    date=\"20170120\", \n",
    "                    output_type=\"csv\")\n",
    "feed.set_store(storage)"
   ]
  },
  {
   "cell_type": "code",
   "execution_count": 9,
   "metadata": {},
   "outputs": [
    {
     "name": "stdout",
     "output_type": "stream",
     "text": [
      "/daily_player_stats.csv\n",
      "https://api.mysportsfeeds.com/v1.2/pull/nba/2016-2017-regular/daily_player_stats.csv\n",
      "Data has not changed since last call\n"
     ]
    }
   ],
   "source": [
    "feed.daily_player_stats()"
   ]
  },
  {
   "cell_type": "code",
   "execution_count": 10,
   "metadata": {},
   "outputs": [
    {
     "name": "stdout",
     "output_type": "stream",
     "text": [
      "/full_game_schedule.csv\n",
      "https://api.mysportsfeeds.com/v1.2/pull/nba/2016-2017-regular/full_game_schedule.csv\n",
      "Data has not changed since last call\n"
     ]
    }
   ],
   "source": [
    "feed.full_game_schedule()"
   ]
  },
  {
   "cell_type": "code",
   "execution_count": 17,
   "metadata": {},
   "outputs": [],
   "source": [
    "path_data = \"../../data/nba-full_game_schedule-2016-2017-regular.csv\"\n",
    "i = 0\n",
    "data = []\n",
    "with open(path_data, 'rb') as f:\n",
    "    reader = csv.reader(f)\n",
    "    for row in reader:\n",
    "        if i == 0:\n",
    "            names = re.sub(\"#\",\"\",row[0]).split(',')\n",
    "            #print row\n",
    "        else:\n",
    "            data.append(re.split(''',(?=(?:[^\"]|[^]*|\"[^\"]*\")*$)''', re.sub(\"#\",\"\",row[0])))\n",
    "            #parsing at each , except when \",\"\n",
    "        i = i+1\n",
    "df = pd.DataFrame(data, columns = names).head(-1)"
   ]
  },
  {
   "cell_type": "code",
   "execution_count": 19,
   "metadata": {},
   "outputs": [
    {
     "data": {
      "text/plain": [
       "'2016-10-25'"
      ]
     },
     "execution_count": 19,
     "metadata": {},
     "output_type": "execute_result"
    }
   ],
   "source": [
    "df[\"Game Date\"].min()"
   ]
  },
  {
   "cell_type": "code",
   "execution_count": 9,
   "metadata": {},
   "outputs": [],
   "source": [
    "url = \"https://api.mysportsfeeds.com/v1.2/pull/nba/2016-2017-regular/full_game_schedule.csv\""
   ]
  },
  {
   "cell_type": "code",
   "execution_count": 10,
   "metadata": {},
   "outputs": [],
   "source": [
    "import requests"
   ]
  },
  {
   "cell_type": "code",
   "execution_count": 11,
   "metadata": {},
   "outputs": [],
   "source": [
    "content = requests.get(url)"
   ]
  },
  {
   "cell_type": "code",
   "execution_count": 12,
   "metadata": {},
   "outputs": [
    {
     "data": {
      "text/plain": [
       "''"
      ]
     },
     "execution_count": 12,
     "metadata": {},
     "output_type": "execute_result"
    }
   ],
   "source": [
    "content.content"
   ]
  },
  {
   "cell_type": "code",
   "execution_count": 49,
   "metadata": {},
   "outputs": [
    {
     "name": "stdout",
     "output_type": "stream",
     "text": [
      "/full_game_schedule.csv\n",
      "Data has not changed since last call\n"
     ]
    },
    {
     "ename": "KeyError",
     "evalue": "'fordate'",
     "output_type": "error",
     "traceback": [
      "\u001b[0;31m---------------------------------------------------------------------------\u001b[0m",
      "\u001b[0;31mKeyError\u001b[0m                                  Traceback (most recent call last)",
      "\u001b[0;32m<ipython-input-49-d853c0ed6fc2>\u001b[0m in \u001b[0;36m<module>\u001b[0;34m()\u001b[0m\n\u001b[0;32m----> 1\u001b[0;31m \u001b[0mfeed\u001b[0m\u001b[0;34m.\u001b[0m\u001b[0mfull_game_schedule\u001b[0m\u001b[0;34m(\u001b[0m\u001b[0;34m)\u001b[0m\u001b[0;34m\u001b[0m\u001b[0m\n\u001b[0m",
      "\u001b[0;32m/Users/jurajkapasny/Code/github/jurajkapasny/BettingAgent/backend/libs/SportsFeedAPI/api.py\u001b[0m in \u001b[0;36mfull_game_schedule\u001b[0;34m(self)\u001b[0m\n\u001b[1;32m    259\u001b[0m         \u001b[0mself\u001b[0m\u001b[0;34m.\u001b[0m\u001b[0mremove_params\u001b[0m\u001b[0;34m(\u001b[0m\u001b[0;34m[\u001b[0m\u001b[0;34m\"fordate\"\u001b[0m\u001b[0;34m]\u001b[0m\u001b[0;34m)\u001b[0m\u001b[0;34m\u001b[0m\u001b[0m\n\u001b[1;32m    260\u001b[0m         \u001b[0mself\u001b[0m\u001b[0;34m.\u001b[0m\u001b[0mmake_url\u001b[0m\u001b[0;34m(\u001b[0m\u001b[0;34m\"full_game_schedule\"\u001b[0m\u001b[0;34m)\u001b[0m\u001b[0;34m\u001b[0m\u001b[0m\n\u001b[0;32m--> 261\u001b[0;31m         \u001b[0mself\u001b[0m\u001b[0;34m.\u001b[0m\u001b[0mmake_call\u001b[0m\u001b[0;34m(\u001b[0m\u001b[0mself\u001b[0m\u001b[0;34m.\u001b[0m\u001b[0mbase_url\u001b[0m\u001b[0;34m,\u001b[0m \u001b[0mself\u001b[0m\u001b[0;34m.\u001b[0m\u001b[0murl_ext\u001b[0m\u001b[0;34m)\u001b[0m\u001b[0;34m\u001b[0m\u001b[0m\n\u001b[0m\u001b[1;32m    262\u001b[0m         \u001b[0mself\u001b[0m\u001b[0;34m.\u001b[0m\u001b[0madd_params\u001b[0m\u001b[0;34m(\u001b[0m\u001b[0;34m{\u001b[0m\u001b[0;34m\"fordate\"\u001b[0m\u001b[0;34m:\u001b[0m \u001b[0mself\u001b[0m\u001b[0;34m.\u001b[0m\u001b[0mdate\u001b[0m\u001b[0;34m}\u001b[0m\u001b[0;34m)\u001b[0m\u001b[0;34m\u001b[0m\u001b[0m\n\u001b[1;32m    263\u001b[0m \u001b[0;34m\u001b[0m\u001b[0m\n",
      "\u001b[0;32m/Users/jurajkapasny/Code/github/jurajkapasny/BettingAgent/backend/libs/SportsFeedAPI/api.py\u001b[0m in \u001b[0;36mmake_call\u001b[0;34m(self, base_url, url)\u001b[0m\n\u001b[1;32m    150\u001b[0m             \u001b[0;32melif\u001b[0m \u001b[0mr\u001b[0m\u001b[0;34m.\u001b[0m\u001b[0mstatus_code\u001b[0m \u001b[0;34m==\u001b[0m \u001b[0;36m304\u001b[0m\u001b[0;34m:\u001b[0m\u001b[0;34m\u001b[0m\u001b[0m\n\u001b[1;32m    151\u001b[0m                 \u001b[0;32mprint\u001b[0m \u001b[0;34m\"Data has not changed since last call\"\u001b[0m\u001b[0;34m\u001b[0m\u001b[0m\n\u001b[0;32m--> 152\u001b[0;31m                 \u001b[0mfilename\u001b[0m \u001b[0;34m=\u001b[0m \u001b[0mself\u001b[0m\u001b[0;34m.\u001b[0m\u001b[0mmake_output_filename\u001b[0m\u001b[0;34m(\u001b[0m\u001b[0;34m)\u001b[0m\u001b[0;34m\u001b[0m\u001b[0m\n\u001b[0m\u001b[1;32m    153\u001b[0m \u001b[0;34m\u001b[0m\u001b[0m\n\u001b[1;32m    154\u001b[0m                 \u001b[0;32mwith\u001b[0m \u001b[0mopen\u001b[0m\u001b[0;34m(\u001b[0m\u001b[0mself\u001b[0m\u001b[0;34m.\u001b[0m\u001b[0mstore\u001b[0m\u001b[0;34m.\u001b[0m\u001b[0mlocation\u001b[0m \u001b[0;34m+\u001b[0m \u001b[0mfilename\u001b[0m\u001b[0;34m)\u001b[0m \u001b[0;32mas\u001b[0m \u001b[0mf\u001b[0m\u001b[0;34m:\u001b[0m\u001b[0;34m\u001b[0m\u001b[0m\n",
      "\u001b[0;32m/Users/jurajkapasny/Code/github/jurajkapasny/BettingAgent/backend/libs/SportsFeedAPI/api.py\u001b[0m in \u001b[0;36mmake_output_filename\u001b[0;34m(self)\u001b[0m\n\u001b[1;32m    132\u001b[0m \u001b[0;34m\u001b[0m\u001b[0m\n\u001b[1;32m    133\u001b[0m         filename = \"{sport}-{feed}-{date}-{season}{s}.{output_type}\".format(sport=self.sport.lower(), feed=self.extension,\n\u001b[0;32m--> 134\u001b[0;31m                                                                             \u001b[0mdate\u001b[0m\u001b[0;34m=\u001b[0m\u001b[0mself\u001b[0m\u001b[0;34m.\u001b[0m\u001b[0mconfig\u001b[0m\u001b[0;34m.\u001b[0m\u001b[0mparams\u001b[0m\u001b[0;34m[\u001b[0m\u001b[0;34m\"fordate\"\u001b[0m\u001b[0;34m]\u001b[0m\u001b[0;34m,\u001b[0m\u001b[0;34m\u001b[0m\u001b[0m\n\u001b[0m\u001b[1;32m    135\u001b[0m                                                                             \u001b[0mseason\u001b[0m\u001b[0;34m=\u001b[0m\u001b[0mseason\u001b[0m\u001b[0;34m,\u001b[0m \u001b[0ms\u001b[0m\u001b[0;34m=\u001b[0m\u001b[0ms\u001b[0m\u001b[0;34m,\u001b[0m\u001b[0;34m\u001b[0m\u001b[0m\n\u001b[1;32m    136\u001b[0m                                                                             output_type=self.output_type)\n",
      "\u001b[0;31mKeyError\u001b[0m: 'fordate'"
     ]
    }
   ],
   "source": [
    "feed.full_game_schedule()"
   ]
  },
  {
   "cell_type": "code",
   "execution_count": null,
   "metadata": {},
   "outputs": [],
   "source": []
  },
  {
   "cell_type": "code",
   "execution_count": null,
   "metadata": {},
   "outputs": [],
   "source": []
  },
  {
   "cell_type": "code",
   "execution_count": 64,
   "metadata": {
    "collapsed": false
   },
   "outputs": [],
   "source": [
    "# #BoxScore and PlayByPlay(only for json)\n",
    "# feed.boxscore(\"CLE\",\"IND\")"
   ]
  },
  {
   "cell_type": "code",
   "execution_count": 63,
   "metadata": {},
   "outputs": [],
   "source": [
    "# feed.play_by_play(\"CLE\",\"IND\")"
   ]
  },
  {
   "cell_type": "code",
   "execution_count": 25,
   "metadata": {},
   "outputs": [
    {
     "ename": "NameError",
     "evalue": "name 'feed' is not defined",
     "output_type": "error",
     "traceback": [
      "\u001b[0;31m---------------------------------------------------------------------------\u001b[0m",
      "\u001b[0;31mNameError\u001b[0m                                 Traceback (most recent call last)",
      "\u001b[0;32m<ipython-input-25-ae61689b2c67>\u001b[0m in \u001b[0;36m<module>\u001b[0;34m()\u001b[0m\n\u001b[0;32m----> 1\u001b[0;31m \u001b[0mfeed\u001b[0m\u001b[0;34m\u001b[0m\u001b[0m\n\u001b[0m",
      "\u001b[0;31mNameError\u001b[0m: name 'feed' is not defined"
     ]
    }
   ],
   "source": []
  },
  {
   "cell_type": "code",
   "execution_count": null,
   "metadata": {},
   "outputs": [],
   "source": []
  },
  {
   "cell_type": "code",
   "execution_count": 62,
   "metadata": {
    "collapsed": false
   },
   "outputs": [],
   "source": [
    "# file = \"./results/nba-game_playbyplay-20170215-2016-2017-regular-20170215-IND-CLE.json\"\n",
    "# with open(file) as f:\n",
    "#     PlayByPlay_dict = json.loads(''.join(f))"
   ]
  },
  {
   "cell_type": "code",
   "execution_count": 15,
   "metadata": {},
   "outputs": [],
   "source": [
    "# PlayByPlay_dict[\"gameplaybyplay\"][\"plays\"][\"play\"]"
   ]
  },
  {
   "cell_type": "code",
   "execution_count": 61,
   "metadata": {
    "collapsed": false
   },
   "outputs": [],
   "source": [
    "# play_by_play = {}\n",
    "# play_by_play[\"time\"] = []\n",
    "# play_by_play[\"quarter\"] = []\n",
    "# play_by_play[\"play_type\"] = []\n",
    "# j = 0\n",
    "# for play in PlayByPlay_dict[\"gameplaybyplay\"][\"plays\"][\"play\"]:\n",
    "#     keys = list(play.keys())\n",
    "#     play_by_play[\"quarter\"].append(play[\"quarter\"])\n",
    "#     keys.remove('quarter')\n",
    "#     play_by_play[\"time\"].append(play[\"time\"])\n",
    "#     keys.remove('time')\n",
    "#     play_by_play[\"play_type\"].append(keys[0])\n",
    "#     j += 1\n",
    "\n",
    "# df_play_by_play = pd.DataFrame(play_by_play)\n",
    "    \n",
    "    "
   ]
  },
  {
   "cell_type": "code",
   "execution_count": 58,
   "metadata": {
    "collapsed": true
   },
   "outputs": [],
   "source": [
    "# df_play_by_play.head()"
   ]
  },
  {
   "cell_type": "code",
   "execution_count": 59,
   "metadata": {
    "collapsed": true
   },
   "outputs": [],
   "source": [
    "# set(df_play_by_play.play_type)"
   ]
  },
  {
   "cell_type": "code",
   "execution_count": 60,
   "metadata": {
    "collapsed": true
   },
   "outputs": [],
   "source": [
    "# PlayByPlay_dict[\"gameplaybyplay\"][\"plays\"]"
   ]
  },
  {
   "cell_type": "code",
   "execution_count": null,
   "metadata": {
    "collapsed": true
   },
   "outputs": [],
   "source": []
  }
 ],
 "metadata": {
  "kernelspec": {
   "display_name": "Python 2",
   "language": "python",
   "name": "python2"
  },
  "language_info": {
   "codemirror_mode": {
    "name": "ipython",
    "version": 2
   },
   "file_extension": ".py",
   "mimetype": "text/x-python",
   "name": "python",
   "nbconvert_exporter": "python",
   "pygments_lexer": "ipython2",
   "version": "2.7.11"
  }
 },
 "nbformat": 4,
 "nbformat_minor": 2
}
