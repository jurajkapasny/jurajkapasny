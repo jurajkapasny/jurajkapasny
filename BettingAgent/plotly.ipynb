{
 "cells": [
  {
   "cell_type": "code",
   "execution_count": 15,
   "metadata": {},
   "outputs": [],
   "source": [
    "import plotly.offline as pyo\n",
    "import plotly.plotly as py\n",
    "import plotly.graph_objs as go\n",
    "import pandas as pd\n",
    "\n",
    "import csv\n",
    "import re"
   ]
  },
  {
   "cell_type": "code",
   "execution_count": 16,
   "metadata": {},
   "outputs": [],
   "source": [
    "data = []\n",
    "i = 0\n",
    "with open('./data/nba-daily_player_stats-20170120-2016-2017-regular.csv', 'rb') as f:\n",
    "    reader = csv.reader(f)\n",
    "    for row in reader:\n",
    "        if i == 0:\n",
    "            names = re.sub(\"#\",\"\",row[0]).split(',')\n",
    "            #print row\n",
    "        else:\n",
    "            data.append(re.split(''',(?=(?:[^'\"]|'[^']*'|\"[^\"]*\")*$)''', re.sub(\"#\",\"\",row[0])))\n",
    "            #parsing at each , except when \",\"\n",
    "        i = i+1\n",
    "df = pd.DataFrame(data, columns = names)"
   ]
  },
  {
   "cell_type": "code",
   "execution_count": 24,
   "metadata": {},
   "outputs": [
    {
     "data": {
      "text/plain": [
       "'file:///Users/jurajkapasny/Code/github/jurajkapasny/BettingAgent/basic_histogram.html'"
      ]
     },
     "execution_count": 24,
     "metadata": {},
     "output_type": "execute_result"
    }
   ],
   "source": [
    "data = [go.Histogram(\n",
    "    x=df['Pts']\n",
    ")]\n",
    "\n",
    "layout = go.Layout(\n",
    "    title=\"Daily Stats from 20th of Jan 2017\"\n",
    ")\n",
    "fig = go.Figure(data=data, layout=layout)\n",
    "pyo.plot(fig, filename='basic_histogram.html')"
   ]
  },
  {
   "cell_type": "code",
   "execution_count": null,
   "metadata": {},
   "outputs": [],
   "source": [
    "import csv\n",
    "import re\n",
    "import pandas as pd\n",
    "\n",
    "\n",
    "# LOAD DATA\n",
    "data = []\n",
    "i = 0\n",
    "with open('./data/nba-daily_player_stats-20170120-2016-2017-regular.csv', 'rb') as f:\n",
    "    reader = csv.reader(f)\n",
    "    for row in reader:\n",
    "        if i == 0:\n",
    "            names = re.sub(\"#\",\"\",row[0]).split(',')\n",
    "            #print row\n",
    "        else:\n",
    "            data.append(re.split(''',(?=(?:[^'\"]|'[^']*'|\"[^\"]*\")*$)''', re.sub(\"#\",\"\",row[0])))\n",
    "            #parsing at each , except when \",\"\n",
    "        i = i+1\n",
    "df = pd.DataFrame(data, columns = names)"
   ]
  },
  {
   "cell_type": "code",
   "execution_count": null,
   "metadata": {},
   "outputs": [],
   "source": [
    "html.Div(children=[\n",
    "        html.H1(children='Hello Dash'),\n",
    "        html.Div(children='Dash: A web application framework for Python.'),\n",
    "\n",
    "        dcc.Graph(\n",
    "            id='example-graph',\n",
    "            figure={\n",
    "                'data': [go.Histogram(\n",
    "                    x=df['Pts']\n",
    "                )],\n",
    "                'layout': go.Layout(\n",
    "                    title=\"Daily Stats from 20th of Jan 2017\"\n",
    "                )\n",
    "            }\n",
    "        )\n",
    "    ],\n",
    "    )"
   ]
  }
 ],
 "metadata": {
  "kernelspec": {
   "display_name": "Python 2",
   "language": "python",
   "name": "python2"
  },
  "language_info": {
   "codemirror_mode": {
    "name": "ipython",
    "version": 2
   },
   "file_extension": ".py",
   "mimetype": "text/x-python",
   "name": "python",
   "nbconvert_exporter": "python",
   "pygments_lexer": "ipython2",
   "version": "2.7.11"
  }
 },
 "nbformat": 4,
 "nbformat_minor": 2
}
