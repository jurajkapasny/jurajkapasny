{
 "cells": [
  {
   "cell_type": "code",
   "execution_count": 1,
   "metadata": {
    "collapsed": true
   },
   "outputs": [],
   "source": [
    "import pandas as pd\n",
    "import numpy as np\n",
    "dtype_dict = {'bathrooms':float, \n",
    "              'waterfront':int, \n",
    "              'sqft_above':int, \n",
    "              'sqft_living15':float,\n",
    "              'grade':int,\n",
    "              'yr_renovated':int,\n",
    "              'price':float, \n",
    "              'bedrooms':float, \n",
    "              'zipcode':str, \n",
    "              'long':float, 'sqft_lot15':float, 'sqft_living':float, 'floors':str, \n",
    "              'condition':int, 'lat':float, 'date':str, 'sqft_basement':int, 'yr_built':int,\n",
    "              'id':str, 'sqft_lot':int, 'view':int}"
   ]
  },
  {
   "cell_type": "code",
   "execution_count": 2,
   "metadata": {
    "collapsed": true
   },
   "outputs": [],
   "source": [
    "def polynomial_dframe(feature, degree):\n",
    "    # assume that degree >= 1\n",
    "    # initialize the DFrame:\n",
    "    poly_dframe = pd.DataFrame()\n",
    "    # and set poly_sframe['power_1'] equal to the passed feature\n",
    "    poly_dframe[\"power_1\"] = feature\n",
    "    # first check if degree > 1\n",
    "    if degree > 1:\n",
    "        # then loop over the remaining degrees:\n",
    "        for power in range(2, degree+1):\n",
    "            # first we'll give the column a name:\n",
    "            name = 'power_' + str(power)\n",
    "            # assign poly_sframe[name] to be feature^power\n",
    "            poly_dframe[name] = feature ** power\n",
    "    return poly_dframe"
   ]
  },
  {
   "cell_type": "code",
   "execution_count": 5,
   "metadata": {
    "collapsed": false
   },
   "outputs": [],
   "source": [
    "# sales = pd.read_csv('kc_house_data.csv', dtype=dtype_dict)\n",
    "# sales = sales.sort_values(['sqft_living','price'])"
   ]
  },
  {
   "cell_type": "code",
   "execution_count": 6,
   "metadata": {
    "collapsed": true
   },
   "outputs": [],
   "source": [
    "# poly1_data = polynomial_dframe(sales['sqft_living'], 1)\n",
    "# poly1_data['price'] = sales['price']"
   ]
  },
  {
   "cell_type": "code",
   "execution_count": 10,
   "metadata": {
    "collapsed": false
   },
   "outputs": [],
   "source": [
    "from sklearn import linear_model\n",
    "# Create linear regression object\n",
    "regr1 = linear_model.LinearRegression()\n",
    "model1 = regr1.fit(poly1_data.power_1.values.reshape(len(poly1_data.index), 1), \n",
    "                   poly1_data.price.values.reshape(len(poly1_data.index), 1))"
   ]
  },
  {
   "cell_type": "code",
   "execution_count": 13,
   "metadata": {
    "collapsed": false
   },
   "outputs": [],
   "source": [
    "import matplotlib.pyplot as plt\n",
    "plt.plot(poly1_data['power_1'],\n",
    "         poly1_data['price'],\n",
    "         '.',\n",
    "         poly1_data['power_1'],\n",
    "         (regr1.predict(poly1_data\n",
    "                      .power_1\n",
    "                      .values\n",
    "                      .reshape(len(poly1_data\n",
    "                                   .index),\n",
    "                               1))\n",
    "          .transpose())[0],'-')\n",
    "plt.show()"
   ]
  },
  {
   "cell_type": "code",
   "execution_count": 15,
   "metadata": {
    "collapsed": true
   },
   "outputs": [],
   "source": [
    "part1 = pd.read_csv(\"wk3_kc_house_set_1_data.csv\", dtype=dtype_dict)\n",
    "part2 = pd.read_csv(\"wk3_kc_house_set_2_data.csv\", dtype=dtype_dict)\n",
    "part3 = pd.read_csv(\"wk3_kc_house_set_3_data.csv\", dtype=dtype_dict)\n",
    "part4 = pd.read_csv(\"wk3_kc_house_set_4_data.csv\", dtype=dtype_dict)\n"
   ]
  },
  {
   "cell_type": "code",
   "execution_count": 21,
   "metadata": {
    "collapsed": true
   },
   "outputs": [],
   "source": [
    "poly1_data = polynomial_dframe(part1['sqft_living'], 15)\n",
    "poly2_data = polynomial_dframe(part2['sqft_living'], 15)\n",
    "poly3_data = polynomial_dframe(part3['sqft_living'], 15)\n",
    "poly4_data = polynomial_dframe(part4['sqft_living'], 15)\n",
    "poly1_data['price'] = part1['price']\n",
    "poly2_data['price'] = part2['price']\n",
    "poly3_data['price'] = part3['price']\n",
    "poly4_data['price'] = part4['price']"
   ]
  },
  {
   "cell_type": "code",
   "execution_count": 26,
   "metadata": {
    "collapsed": false
   },
   "outputs": [],
   "source": [
    "regr1 = linear_model.LinearRegression()\n",
    "model1 = regr1.fit(poly1_data.drop(\"price\", axis=1).as_matrix(), \n",
    "                   poly1_data.price.values.reshape(len(poly1_data.index), 1))\n",
    "regr2 = linear_model.LinearRegression()\n",
    "model2 = regr2.fit(poly2_data.drop(\"price\", axis=1).as_matrix(), \n",
    "                   poly2_data.price.values.reshape(len(poly2_data.index), 1))\n",
    "regr3 = linear_model.LinearRegression()\n",
    "model3 = regr3.fit(poly3_data.drop(\"price\", axis=1).as_matrix(), \n",
    "                   poly3_data.price.values.reshape(len(poly3_data.index), 1))\n",
    "regr4 = linear_model.LinearRegression()\n",
    "model4 = regr1.fit(poly4_data.drop(\"price\", axis=1).as_matrix(), \n",
    "                   poly4_data.price.values.reshape(len(poly4_data.index), 1))"
   ]
  },
  {
   "cell_type": "code",
   "execution_count": 27,
   "metadata": {
    "collapsed": true
   },
   "outputs": [],
   "source": [
    "train = pd.read_csv(\"wk3_kc_house_train_data.csv\", dtype=dtype_dict)\n",
    "test = pd.read_csv(\"wk3_kc_house_test_data.csv\", dtype=dtype_dict)\n",
    "validation = pd.read_csv(\"wk3_kc_house_valid_data.csv\", dtype=dtype_dict)"
   ]
  },
  {
   "cell_type": "code",
   "execution_count": 30,
   "metadata": {
    "collapsed": false
   },
   "outputs": [
    {
     "name": "stdout",
     "output_type": "stream",
     "text": [
      "Residual sum of squares: 65292982490.88 , order polynomial: 1\n",
      "Residual sum of squares: 64759217717.33 , order polynomial: 2\n",
      "Residual sum of squares: 64952805423.11 , order polynomial: 3\n",
      "Residual sum of squares: 65385297257.50 , order polynomial: 4\n",
      "Residual sum of squares: 65203771807.07 , order polynomial: 5\n",
      "Residual sum of squares: 58772038227.49 , order polynomial: 6\n",
      "Residual sum of squares: 111451896568.66 , order polynomial: 7\n",
      "Residual sum of squares: 735636970688.32 , order polynomial: 8\n",
      "Residual sum of squares: 4701551730348.25 , order polynomial: 9\n",
      "Residual sum of squares: 25695294880641.91 , order polynomial: 10\n",
      "Residual sum of squares: 123942939504734.94 , order polynomial: 11\n",
      "Residual sum of squares: 545003819827309.44 , order polynomial: 12\n",
      "Residual sum of squares: 79047535249631.88 , order polynomial: 13\n",
      "Residual sum of squares: 238459878049844.25 , order polynomial: 14\n",
      "Residual sum of squares: 721851385446105.38 , order polynomial: 15\n",
      "Best rss for order: 6\n",
      "RSS on test: 60994638952.6\n"
     ]
    }
   ],
   "source": [
    "best = 0\n",
    "best_rss = float(\"Inf\")\n",
    "for i in range(1, 16):\n",
    "    poly1_data = polynomial_dframe(train[\"sqft_living\"], i)\n",
    "    poly1_data[\"price\"] = train[\"price\"]\n",
    "    regr1 = linear_model.LinearRegression()\n",
    "    model1 = regr1.fit(poly1_data.drop(\"price\", axis=1).as_matrix(), \n",
    "                       poly1_data.price.values.reshape(len(poly1_data.index), 1))\n",
    "    \n",
    "    poly1_data_val = polynomial_dframe(validation[\"sqft_living\"], i)\n",
    "    poly1_data_val[\"price\"] = validation[\"price\"]\n",
    "    pred_test = regr1.predict(poly1_data_val.drop(\"price\", axis=1).as_matrix()).transpose()[0]\n",
    "    rss = np.mean((pred_test - poly1_data_val.price.values) ** 2)\n",
    "    print(\"Residual sum of squares: %.2f , order polynomial: %s\"\n",
    "      % (rss, i))\n",
    "    if rss < best_rss:\n",
    "        best_rss = rss\n",
    "        best = i\n",
    "print \"Best rss for order: %s\" %best\n",
    "poly1_data = polynomial_dframe(train[\"sqft_living\"], best)\n",
    "poly1_data[\"price\"] = train[\"price\"]\n",
    "regr1 = linear_model.LinearRegression()\n",
    "model1 = regr1.fit(poly1_data.drop(\"price\", axis=1).as_matrix(), \n",
    "                   poly1_data.price.values.reshape(len(poly1_data.index), 1))\n",
    "\n",
    "poly1_data_test = polynomial_dframe(test[\"sqft_living\"], best)\n",
    "poly1_data_test[\"price\"] = test[\"price\"]\n",
    "pred_test = regr1.predict(poly1_data_test.drop(\"price\", axis=1).as_matrix()).transpose()[0]\n",
    "rss = np.mean((pred_test - poly1_data_test.price.values) ** 2)\n",
    "print \"RSS on test: %s\" %rss"
   ]
  },
  {
   "cell_type": "code",
   "execution_count": null,
   "metadata": {
    "collapsed": true
   },
   "outputs": [],
   "source": []
  }
 ],
 "metadata": {
  "kernelspec": {
   "display_name": "Python 2",
   "language": "python",
   "name": "python2"
  },
  "language_info": {
   "codemirror_mode": {
    "name": "ipython",
    "version": 2
   },
   "file_extension": ".py",
   "mimetype": "text/x-python",
   "name": "python",
   "nbconvert_exporter": "python",
   "pygments_lexer": "ipython2",
   "version": "2.7.11"
  }
 },
 "nbformat": 4,
 "nbformat_minor": 0
}
