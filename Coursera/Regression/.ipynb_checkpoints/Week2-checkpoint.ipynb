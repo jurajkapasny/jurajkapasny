{
 "cells": [
  {
   "cell_type": "code",
   "execution_count": 1,
   "metadata": {
    "collapsed": true
   },
   "outputs": [],
   "source": [
    "import pandas as pd\n",
    "import numpy as np\n",
    "dtype_dict = {'bathrooms':float, \n",
    "              'waterfront':int, \n",
    "              'sqft_above':int, \n",
    "              'sqft_living15':float,\n",
    "              'grade':int,\n",
    "              'yr_renovated':int,\n",
    "              'price':float, \n",
    "              'bedrooms':float, \n",
    "              'zipcode':str, \n",
    "              'long':float, 'sqft_lot15':float, 'sqft_living':float, 'floors':str, \n",
    "              'condition':int, 'lat':float, 'date':str, 'sqft_basement':int, 'yr_built':int,\n",
    "              'id':str, 'sqft_lot':int, 'view':int}\n",
    "train = pd.read_csv(\"kc_house_train_data.csv\", dtype=dtype_dict)\n",
    "test = pd.read_csv(\"kc_house_test_data.csv\", dtype=dtype_dict)"
   ]
  },
  {
   "cell_type": "code",
   "execution_count": 3,
   "metadata": {
    "collapsed": false
   },
   "outputs": [],
   "source": [
    "train['bedrooms_squared'] = train.bedrooms**2\n",
    "train['bed_bath_rooms'] = train.bedrooms * train.bathrooms\n",
    "train['log_sqft_living'] = np.log(train.sqft_living.values)\n",
    "train['lat_plus_long'] = train.lat + train.long"
   ]
  },
  {
   "cell_type": "code",
   "execution_count": 7,
   "metadata": {
    "collapsed": false
   },
   "outputs": [],
   "source": [
    "test['bedrooms_squared'] = test.bedrooms**2\n",
    "test['bed_bath_rooms'] = test.bedrooms * test.bathrooms\n",
    "test['log_sqft_living'] = np.log(test.sqft_living.values)\n",
    "test['lat_plus_long'] = test.lat + test.long"
   ]
  },
  {
   "cell_type": "code",
   "execution_count": 11,
   "metadata": {
    "collapsed": false
   },
   "outputs": [
    {
     "name": "stdout",
     "output_type": "stream",
     "text": [
      "7.50390163159\n",
      "7.55027467965\n",
      "-74.653333554\n"
     ]
    }
   ],
   "source": [
    "print test.bed_bath_rooms.mean()\n",
    "print test.log_sqft_living.mean()\n",
    "print test.lat_plus_long.mean()\n"
   ]
  },
  {
   "cell_type": "code",
   "execution_count": 25,
   "metadata": {
    "collapsed": true
   },
   "outputs": [],
   "source": [
    "from sklearn import linear_model\n",
    "# Create linear regression object\n",
    "regr1 = linear_model.LinearRegression()\n",
    "regr2 = linear_model.LinearRegression()\n",
    "regr3 = linear_model.LinearRegression()\n",
    "model1 = regr1.fit(train[[\"sqft_living\", \"bedrooms\", \"bathrooms\",\n",
    "                         \"lat\", \"long\"]].as_matrix(), \n",
    "                  train.price.values.reshape(len(train.index), 1))\n",
    "model2 = regr2.fit(train[[\"sqft_living\", \"bedrooms\", \"bathrooms\",\n",
    "                         \"lat\", \"long\", \"bed_bath_rooms\"]].as_matrix(), \n",
    "                  train.price.values.reshape(len(train.index), 1))\n",
    "model3 = regr3.fit(train[[\"sqft_living\", \"bedrooms\", \"bathrooms\",\n",
    "                         \"lat\", \"long\", \"bed_bath_rooms\", \"bedrooms_squared\", \n",
    "                         \"log_sqft_living\", \"lat_plus_long\"]].as_matrix(), \n",
    "                  train.price.values.reshape(len(train.index), 1))"
   ]
  },
  {
   "cell_type": "code",
   "execution_count": 43,
   "metadata": {
    "collapsed": false
   },
   "outputs": [],
   "source": [
    "#pred_train = regr.predict(train.sqft_living.values.reshape(len(train.index),1)).transpose()[0]\n",
    "pred_test = regr3.predict(test[[\"sqft_living\", \"bedrooms\", \"bathrooms\",\n",
    "                         \"lat\", \"long\", \"bed_bath_rooms\", \"bedrooms_squared\", \n",
    "                         \"log_sqft_living\", \"lat_plus_long\"]]).transpose()[0]\n"
   ]
  },
  {
   "cell_type": "code",
   "execution_count": 44,
   "metadata": {
    "collapsed": false
   },
   "outputs": [
    {
     "name": "stdout",
     "output_type": "stream",
     "text": [
      "Residual sum of squares: 61299673494.25\n"
     ]
    }
   ],
   "source": [
    "# The mean square error\n",
    "print(\"Residual sum of squares: %.2f\"\n",
    "      % np.mean((pred_test - test.price.values) ** 2))"
   ]
  },
  {
   "cell_type": "code",
   "execution_count": 52,
   "metadata": {
    "collapsed": true
   },
   "outputs": [],
   "source": [
    "def get_numpy_data(data, features, output):\n",
    "    data['constant'] = 1 # add a constant column to an SFrame\n",
    "    # prepend variable 'constant' to the features list\n",
    "    features = ['constant'] + features\n",
    "    # select the columns of data_SFrame given by the ‘features’ list into the SFrame ‘features_sframe’\n",
    "    features_data = data[features]\n",
    "    # this will convert the features_sframe into a numpy matrix with GraphLab Create >= 1.7!!\n",
    "    features_matrix = features_data.as_matrix()\n",
    "    # assign the column of data_sframe associated with the target to the variable ‘output_sarray’\n",
    "\n",
    "    # this will convert the SArray into a numpy array:\n",
    "    output_array = data[output].values # GraphLab Create>= 1.7!!\n",
    "    return(features_matrix, output_array)"
   ]
  },
  {
   "cell_type": "code",
   "execution_count": 62,
   "metadata": {
    "collapsed": false
   },
   "outputs": [],
   "source": [
    "def predict_outcome(feature_matrix, weights):\n",
    "    predictions = feature_matrix.dot(weights)\n",
    "    return(predictions)"
   ]
  },
  {
   "cell_type": "code",
   "execution_count": 63,
   "metadata": {
    "collapsed": true
   },
   "outputs": [],
   "source": [
    "def feature_derivative(errors, feature):\n",
    "    derivative = np.vdot(feature, errors)\n",
    "    return(derivative)"
   ]
  },
  {
   "cell_type": "code",
   "execution_count": 70,
   "metadata": {
    "collapsed": true
   },
   "outputs": [],
   "source": [
    "def regression_gradient_descent(feature_matrix, output, initial_weights, step_size, tolerance):\n",
    "    converged = False\n",
    "    weights = np.array(initial_weights)\n",
    "    while not converged:\n",
    "        # compute the predictions based on feature_matrix and weights:\n",
    "        predictions = predict_outcome(feature_matrix, weights)\n",
    "        # compute the errors as predictions - output:\n",
    "        errors = predictions - output\n",
    "        gradient_sum_squares = 0 # initialize the gradient\n",
    "        # while not converged, update each weight individually:\n",
    "        for i in range(len(weights)):\n",
    "            # Recall that feature_matrix[:, i] is the feature column associated with weights[i]\n",
    "            # compute the derivative for weight[i]:\n",
    "            derivative = feature_derivative(errors, feature_matrix[:,i])\n",
    "            # add the squared derivative to the gradient magnitude\n",
    "            gradient_sum_squares += derivative**2\n",
    "            # update the weight based on step size and derivative:\n",
    "            weights = weights - step_size*derivative\n",
    "        gradient_magnitude = np.sqrt(gradient_sum_squares)\n",
    "        if gradient_magnitude < tolerance:\n",
    "            converged = True\n",
    "    return(weights)"
   ]
  },
  {
   "cell_type": "code",
   "execution_count": 71,
   "metadata": {
    "collapsed": true
   },
   "outputs": [],
   "source": [
    "simple_features = ['sqft_living']\n",
    "my_output= 'price'\n",
    "(simple_feature_matrix, output) = get_numpy_data(train, simple_features, my_output)\n",
    "initial_weights = np.array([-47000., 1.])\n",
    "step_size = 7e-12\n",
    "tolerance = 2.5e7"
   ]
  },
  {
   "cell_type": "code",
   "execution_count": 72,
   "metadata": {
    "collapsed": false
   },
   "outputs": [],
   "source": [
    "simple_weights = regression_gradient_descent(simple_feature_matrix,\n",
    "                                             output,\n",
    "                                             initial_weights,\n",
    "                                             step_size,      \n",
    "                                             tolerance)"
   ]
  },
  {
   "cell_type": "code",
   "execution_count": 73,
   "metadata": {
    "collapsed": false
   },
   "outputs": [
    {
     "data": {
      "text/plain": [
       "array([-46719.20075876,    281.79924124])"
      ]
     },
     "execution_count": 73,
     "metadata": {},
     "output_type": "execute_result"
    }
   ],
   "source": [
    "simple_weights"
   ]
  },
  {
   "cell_type": "code",
   "execution_count": null,
   "metadata": {
    "collapsed": true
   },
   "outputs": [],
   "source": []
  }
 ],
 "metadata": {
  "kernelspec": {
   "display_name": "Python 2",
   "language": "python",
   "name": "python2"
  },
  "language_info": {
   "codemirror_mode": {
    "name": "ipython",
    "version": 2
   },
   "file_extension": ".py",
   "mimetype": "text/x-python",
   "name": "python",
   "nbconvert_exporter": "python",
   "pygments_lexer": "ipython2",
   "version": "2.7.11"
  }
 },
 "nbformat": 4,
 "nbformat_minor": 0
}
